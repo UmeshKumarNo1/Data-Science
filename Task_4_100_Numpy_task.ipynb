{
  "cells": [
    {
      "cell_type": "markdown",
      "metadata": {
        "id": "view-in-github",
        "colab_type": "text"
      },
      "source": [
        "<a href=\"https://colab.research.google.com/github/UmeshKumarNo1/Data-Science/blob/main/Task_4_100_Numpy_task.ipynb\" target=\"_parent\"><img src=\"https://colab.research.google.com/assets/colab-badge.svg\" alt=\"Open In Colab\"/></a>"
      ]
    },
    {
      "cell_type": "markdown",
      "id": "f44a2f2b",
      "metadata": {
        "id": "f44a2f2b"
      },
      "source": [
        "# 100 numpy exercises\n"
      ]
    },
    {
      "cell_type": "markdown",
      "id": "0fe3d529",
      "metadata": {
        "id": "0fe3d529"
      },
      "source": [
        "File automatically generated. See the documentation to update questions/answers/hints programmatically."
      ]
    },
    {
      "cell_type": "markdown",
      "id": "23296a93",
      "metadata": {
        "id": "23296a93"
      },
      "source": [
        "Run the `initialize.py` module, then for each question you can query the\n",
        "answer or an hint with `hint(n)` or `answer(n)` for `n` question number."
      ]
    },
    {
      "cell_type": "code",
      "execution_count": null,
      "id": "530390cf",
      "metadata": {
        "id": "530390cf"
      },
      "outputs": [],
      "source": [
        "%run initialise.py"
      ]
    },
    {
      "cell_type": "markdown",
      "id": "96443564",
      "metadata": {
        "id": "96443564"
      },
      "source": [
        "#### 1. Import the numpy package under the name `np` (★☆☆)"
      ]
    },
    {
      "cell_type": "code",
      "execution_count": null,
      "id": "ffe1047e",
      "metadata": {
        "id": "ffe1047e"
      },
      "outputs": [],
      "source": [
        "import numpy as np\n"
      ]
    },
    {
      "cell_type": "markdown",
      "id": "c807bf1d",
      "metadata": {
        "id": "c807bf1d"
      },
      "source": [
        "#### 2. Print the numpy version and the configuration (★☆☆)"
      ]
    },
    {
      "cell_type": "code",
      "execution_count": null,
      "id": "f396b717",
      "metadata": {
        "id": "f396b717",
        "colab": {
          "base_uri": "https://localhost:8080/"
        },
        "outputId": "871d88fd-9944-4bc6-efb1-0b6008dc6796"
      },
      "outputs": [
        {
          "output_type": "stream",
          "name": "stdout",
          "text": [
            "NumPy Version: 1.23.5\n",
            "NumPy Configuration:\n",
            "openblas64__info:\n",
            "    libraries = ['openblas64_', 'openblas64_']\n",
            "    library_dirs = ['/usr/local/lib']\n",
            "    language = c\n",
            "    define_macros = [('HAVE_CBLAS', None), ('BLAS_SYMBOL_SUFFIX', '64_'), ('HAVE_BLAS_ILP64', None)]\n",
            "    runtime_library_dirs = ['/usr/local/lib']\n",
            "blas_ilp64_opt_info:\n",
            "    libraries = ['openblas64_', 'openblas64_']\n",
            "    library_dirs = ['/usr/local/lib']\n",
            "    language = c\n",
            "    define_macros = [('HAVE_CBLAS', None), ('BLAS_SYMBOL_SUFFIX', '64_'), ('HAVE_BLAS_ILP64', None)]\n",
            "    runtime_library_dirs = ['/usr/local/lib']\n",
            "openblas64__lapack_info:\n",
            "    libraries = ['openblas64_', 'openblas64_']\n",
            "    library_dirs = ['/usr/local/lib']\n",
            "    language = c\n",
            "    define_macros = [('HAVE_CBLAS', None), ('BLAS_SYMBOL_SUFFIX', '64_'), ('HAVE_BLAS_ILP64', None), ('HAVE_LAPACKE', None)]\n",
            "    runtime_library_dirs = ['/usr/local/lib']\n",
            "lapack_ilp64_opt_info:\n",
            "    libraries = ['openblas64_', 'openblas64_']\n",
            "    library_dirs = ['/usr/local/lib']\n",
            "    language = c\n",
            "    define_macros = [('HAVE_CBLAS', None), ('BLAS_SYMBOL_SUFFIX', '64_'), ('HAVE_BLAS_ILP64', None), ('HAVE_LAPACKE', None)]\n",
            "    runtime_library_dirs = ['/usr/local/lib']\n",
            "Supported SIMD extensions in this NumPy install:\n",
            "    baseline = SSE,SSE2,SSE3\n",
            "    found = SSSE3,SSE41,POPCNT,SSE42,AVX,F16C,FMA3,AVX2\n",
            "    not found = AVX512F,AVX512CD,AVX512_KNL,AVX512_KNM,AVX512_SKX,AVX512_CLX,AVX512_CNL,AVX512_ICL\n",
            "None\n"
          ]
        }
      ],
      "source": [
        "import numpy as np\n",
        "\n",
        "print(\"NumPy Version:\", np.__version__)\n",
        "\n",
        "print(\"NumPy Configuration:\")\n",
        "print(np.show_config())\n"
      ]
    },
    {
      "cell_type": "markdown",
      "id": "572c1bdb",
      "metadata": {
        "id": "572c1bdb"
      },
      "source": [
        "#### 3. Create a null vector of size 10 (★☆☆)"
      ]
    },
    {
      "cell_type": "code",
      "execution_count": null,
      "id": "31c9f6a5",
      "metadata": {
        "id": "31c9f6a5",
        "colab": {
          "base_uri": "https://localhost:8080/"
        },
        "outputId": "f494adb0-9cf6-4977-ac7a-5552459ec876"
      },
      "outputs": [
        {
          "output_type": "stream",
          "name": "stdout",
          "text": [
            "[0. 0. 0. 0. 0. 0. 0. 0. 0. 0.]\n"
          ]
        }
      ],
      "source": [
        "import numpy as np\n",
        "\n",
        "null_vector = np.zeros(10)\n",
        "print(null_vector)\n"
      ]
    },
    {
      "cell_type": "markdown",
      "id": "337e6e36",
      "metadata": {
        "id": "337e6e36"
      },
      "source": [
        "#### 4. How to find the memory size of any array (★☆☆)"
      ]
    },
    {
      "cell_type": "code",
      "execution_count": null,
      "id": "31e8ec2e",
      "metadata": {
        "id": "31e8ec2e",
        "colab": {
          "base_uri": "https://localhost:8080/"
        },
        "outputId": "7ca9fbd3-d342-4f74-b6a0-5dd63a247be5"
      },
      "outputs": [
        {
          "output_type": "stream",
          "name": "stdout",
          "text": [
            "Memory size of the array: 40 bytes\n"
          ]
        }
      ],
      "source": [
        "import numpy as np\n",
        "\n",
        "my_array = np.array([1, 2, 3, 4, 5])\n",
        "\n",
        "memory_size = my_array.nbytes\n",
        "\n",
        "print(\"Memory size of the array:\", memory_size, \"bytes\")\n"
      ]
    },
    {
      "cell_type": "markdown",
      "id": "166079c8",
      "metadata": {
        "id": "166079c8"
      },
      "source": [
        "#### 5. How to get the documentation of the numpy add function from the command line? (★☆☆)"
      ]
    },
    {
      "cell_type": "code",
      "execution_count": null,
      "id": "593cd80f",
      "metadata": {
        "id": "593cd80f",
        "colab": {
          "base_uri": "https://localhost:8080/"
        },
        "outputId": "58e223cc-bbe0-460e-a620-772827a141a9"
      },
      "outputs": [
        {
          "output_type": "stream",
          "name": "stdout",
          "text": [
            "Help on ufunc:\n",
            "\n",
            "add = <ufunc 'add'>\n",
            "    add(x1, x2, /, out=None, *, where=True, casting='same_kind', order='K', dtype=None, subok=True[, signature, extobj])\n",
            "    \n",
            "    Add arguments element-wise.\n",
            "    \n",
            "    Parameters\n",
            "    ----------\n",
            "    x1, x2 : array_like\n",
            "        The arrays to be added.\n",
            "        If ``x1.shape != x2.shape``, they must be broadcastable to a common\n",
            "        shape (which becomes the shape of the output).\n",
            "    out : ndarray, None, or tuple of ndarray and None, optional\n",
            "        A location into which the result is stored. If provided, it must have\n",
            "        a shape that the inputs broadcast to. If not provided or None,\n",
            "        a freshly-allocated array is returned. A tuple (possible only as a\n",
            "        keyword argument) must have length equal to the number of outputs.\n",
            "    where : array_like, optional\n",
            "        This condition is broadcast over the input. At locations where the\n",
            "        condition is True, the `out` array will be set to the ufunc result.\n",
            "        Elsewhere, the `out` array will retain its original value.\n",
            "        Note that if an uninitialized `out` array is created via the default\n",
            "        ``out=None``, locations within it where the condition is False will\n",
            "        remain uninitialized.\n",
            "    **kwargs\n",
            "        For other keyword-only arguments, see the\n",
            "        :ref:`ufunc docs <ufuncs.kwargs>`.\n",
            "    \n",
            "    Returns\n",
            "    -------\n",
            "    add : ndarray or scalar\n",
            "        The sum of `x1` and `x2`, element-wise.\n",
            "        This is a scalar if both `x1` and `x2` are scalars.\n",
            "    \n",
            "    Notes\n",
            "    -----\n",
            "    Equivalent to `x1` + `x2` in terms of array broadcasting.\n",
            "    \n",
            "    Examples\n",
            "    --------\n",
            "    >>> np.add(1.0, 4.0)\n",
            "    5.0\n",
            "    >>> x1 = np.arange(9.0).reshape((3, 3))\n",
            "    >>> x2 = np.arange(3.0)\n",
            "    >>> np.add(x1, x2)\n",
            "    array([[  0.,   2.,   4.],\n",
            "           [  3.,   5.,   7.],\n",
            "           [  6.,   8.,  10.]])\n",
            "    \n",
            "    The ``+`` operator can be used as a shorthand for ``np.add`` on ndarrays.\n",
            "    \n",
            "    >>> x1 = np.arange(9.0).reshape((3, 3))\n",
            "    >>> x2 = np.arange(3.0)\n",
            "    >>> x1 + x2\n",
            "    array([[ 0.,  2.,  4.],\n",
            "           [ 3.,  5.,  7.],\n",
            "           [ 6.,  8., 10.]])\n",
            "\n"
          ]
        }
      ],
      "source": [
        "import numpy as np\n",
        "help(np.add)\n"
      ]
    },
    {
      "cell_type": "markdown",
      "id": "3add7101",
      "metadata": {
        "id": "3add7101"
      },
      "source": [
        "#### 6. Create a null vector of size 10 but the fifth value which is 1 (★☆☆)"
      ]
    },
    {
      "cell_type": "code",
      "execution_count": null,
      "id": "2edf3c42",
      "metadata": {
        "id": "2edf3c42",
        "colab": {
          "base_uri": "https://localhost:8080/"
        },
        "outputId": "b991318d-bdb6-44ea-ca3f-5c4c69e243c9"
      },
      "outputs": [
        {
          "output_type": "stream",
          "name": "stdout",
          "text": [
            "[0. 0. 0. 0. 1. 0. 0. 0. 0. 0.]\n"
          ]
        }
      ],
      "source": [
        "import numpy as np\n",
        "\n",
        "null_vector = np.zeros(10)\n",
        "null_vector[4] = 1\n",
        "\n",
        "print(null_vector)\n"
      ]
    },
    {
      "cell_type": "markdown",
      "id": "cfc46304",
      "metadata": {
        "id": "cfc46304"
      },
      "source": [
        "#### 7. Create a vector with values ranging from 10 to 49 (★☆☆)"
      ]
    },
    {
      "cell_type": "code",
      "execution_count": null,
      "id": "d8b86640",
      "metadata": {
        "id": "d8b86640",
        "colab": {
          "base_uri": "https://localhost:8080/"
        },
        "outputId": "8852ca5d-8646-4af3-e847-8f0eb09a37f6"
      },
      "outputs": [
        {
          "output_type": "stream",
          "name": "stdout",
          "text": [
            "[10 11 12 13 14 15 16 17 18 19 20 21 22 23 24 25 26 27 28 29 30 31 32 33\n",
            " 34 35 36 37 38 39 40 41 42 43 44 45 46 47 48 49]\n"
          ]
        }
      ],
      "source": [
        "import numpy as np\n",
        "\n",
        "vector = np.arange(10, 50)\n",
        "\n",
        "print(vector)\n"
      ]
    },
    {
      "cell_type": "markdown",
      "id": "0cc200be",
      "metadata": {
        "id": "0cc200be"
      },
      "source": [
        "#### 8. Reverse a vector (first element becomes last) (★☆☆)"
      ]
    },
    {
      "cell_type": "code",
      "execution_count": null,
      "id": "ec044bb5",
      "metadata": {
        "id": "ec044bb5",
        "colab": {
          "base_uri": "https://localhost:8080/"
        },
        "outputId": "60b99d22-474e-46ad-b450-bd7f6c1c4c6a"
      },
      "outputs": [
        {
          "output_type": "stream",
          "name": "stdout",
          "text": [
            "[5 4 3 2 1]\n"
          ]
        }
      ],
      "source": [
        "import numpy as np\n",
        "\n",
        "vector = np.array([1, 2, 3, 4, 5])\n",
        "\n",
        "reversed_vector = vector[::-1]\n",
        "\n",
        "print(reversed_vector)\n"
      ]
    },
    {
      "cell_type": "markdown",
      "id": "29d9ede4",
      "metadata": {
        "id": "29d9ede4"
      },
      "source": [
        "#### 9. Create a 3x3 matrix with values ranging from 0 to 8 (★☆☆)"
      ]
    },
    {
      "cell_type": "code",
      "execution_count": null,
      "id": "d9e39043",
      "metadata": {
        "id": "d9e39043",
        "colab": {
          "base_uri": "https://localhost:8080/"
        },
        "outputId": "c9e35788-a208-4afc-ef4b-a4985c0d9c0a"
      },
      "outputs": [
        {
          "output_type": "stream",
          "name": "stdout",
          "text": [
            "[[0 1 2]\n",
            " [3 4 5]\n",
            " [6 7 8]]\n"
          ]
        }
      ],
      "source": [
        "import numpy as np\n",
        "\n",
        "matrix = np.arange(9).reshape(3, 3)\n",
        "\n",
        "print(matrix)"
      ]
    },
    {
      "cell_type": "markdown",
      "id": "88905ceb",
      "metadata": {
        "id": "88905ceb"
      },
      "source": [
        "#### 10. Find indices of non-zero elements from [1,2,0,0,4,0] (★☆☆)"
      ]
    },
    {
      "cell_type": "code",
      "execution_count": null,
      "id": "b2f3c90a",
      "metadata": {
        "id": "b2f3c90a",
        "colab": {
          "base_uri": "https://localhost:8080/"
        },
        "outputId": "e99db8ba-ef16-4c81-afb3-df47fcfe42df"
      },
      "outputs": [
        {
          "output_type": "stream",
          "name": "stdout",
          "text": [
            "(array([0, 1, 4]),)\n"
          ]
        }
      ],
      "source": [
        "import numpy as np\n",
        "\n",
        "arr = np.array([1, 2, 0, 0, 4, 0])\n",
        "\n",
        "non_zero_indices = np.nonzero(arr)\n",
        "\n",
        "print(non_zero_indices)\n"
      ]
    },
    {
      "cell_type": "markdown",
      "id": "49603e91",
      "metadata": {
        "id": "49603e91"
      },
      "source": [
        "#### 11. Create a 3x3 identity matrix (★☆☆)"
      ]
    },
    {
      "cell_type": "code",
      "execution_count": null,
      "id": "5b607b5c",
      "metadata": {
        "id": "5b607b5c",
        "colab": {
          "base_uri": "https://localhost:8080/"
        },
        "outputId": "bc2d0b35-7d34-46dc-a5be-7c19da4148d7"
      },
      "outputs": [
        {
          "output_type": "stream",
          "name": "stdout",
          "text": [
            "[[1. 0. 0.]\n",
            " [0. 1. 0.]\n",
            " [0. 0. 1.]]\n"
          ]
        }
      ],
      "source": [
        "import numpy as np\n",
        "\n",
        "identity_matrix = np.eye(3)\n",
        "\n",
        "print(identity_matrix)\n"
      ]
    },
    {
      "cell_type": "markdown",
      "id": "e15c249a",
      "metadata": {
        "id": "e15c249a"
      },
      "source": [
        "#### 12. Create a 3x3x3 array with random values (★☆☆)"
      ]
    },
    {
      "cell_type": "code",
      "execution_count": null,
      "id": "ab21ed50",
      "metadata": {
        "id": "ab21ed50",
        "colab": {
          "base_uri": "https://localhost:8080/"
        },
        "outputId": "9ae0359b-7e5c-4f5d-baa9-921facb1a947"
      },
      "outputs": [
        {
          "output_type": "stream",
          "name": "stdout",
          "text": [
            "[[[0.44572314 0.67639763 0.68983489]\n",
            "  [0.25305492 0.09057187 0.60597571]\n",
            "  [0.16135152 0.62751784 0.45631449]]\n",
            "\n",
            " [[0.8854928  0.12890416 0.80667941]\n",
            "  [0.02077737 0.71888248 0.00850567]\n",
            "  [0.4001717  0.06895822 0.46118363]]\n",
            "\n",
            " [[0.99093616 0.34876003 0.54379413]\n",
            "  [0.82682891 0.37999093 0.50150883]\n",
            "  [0.07580029 0.00984601 0.17964302]]]\n"
          ]
        }
      ],
      "source": [
        "import numpy as np\n",
        "\n",
        "random_array = np.random.rand(3, 3, 3)\n",
        "\n",
        "print(random_array)\n"
      ]
    },
    {
      "cell_type": "markdown",
      "id": "157a129c",
      "metadata": {
        "id": "157a129c"
      },
      "source": [
        "#### 13. Create a 10x10 array with random values and find the minimum and maximum values (★☆☆)"
      ]
    },
    {
      "cell_type": "code",
      "execution_count": null,
      "id": "c0066de5",
      "metadata": {
        "id": "c0066de5",
        "colab": {
          "base_uri": "https://localhost:8080/"
        },
        "outputId": "cc0e3ac9-113f-4a7e-999a-70062b894509"
      },
      "outputs": [
        {
          "output_type": "stream",
          "name": "stdout",
          "text": [
            "Minimum value: 0.00039718988550307976\n",
            "Maximum value: 0.9962086829358798\n"
          ]
        }
      ],
      "source": [
        "import numpy as np\n",
        "\n",
        "random_array = np.random.rand(10, 10)\n",
        "\n",
        "min_value = random_array.min()\n",
        "max_value = random_array.max()\n",
        "\n",
        "print(\"Minimum value:\", min_value)\n",
        "print(\"Maximum value:\", max_value)\n"
      ]
    },
    {
      "cell_type": "markdown",
      "id": "d92d7b32",
      "metadata": {
        "id": "d92d7b32"
      },
      "source": [
        "#### 14. Create a random vector of size 30 and find the mean value (★☆☆)"
      ]
    },
    {
      "cell_type": "code",
      "execution_count": null,
      "id": "9672d023",
      "metadata": {
        "id": "9672d023",
        "colab": {
          "base_uri": "https://localhost:8080/"
        },
        "outputId": "96b335dd-cfbd-4365-cb77-b5a035a77b6f"
      },
      "outputs": [
        {
          "output_type": "stream",
          "name": "stdout",
          "text": [
            "Random Vector:\n",
            "[0.2078747  0.06477568 0.79397233 0.91244564 0.12857796 0.40599627\n",
            " 0.10242116 0.90076702 0.63709485 0.98202793 0.79958968 0.09301265\n",
            " 0.17326819 0.25931625 0.78516082 0.0471229  0.14812784 0.03866083\n",
            " 0.41703062 0.84777054 0.62492028 0.97186757 0.01890707 0.2785653\n",
            " 0.20540404 0.82738395 0.14469973 0.01968096 0.56073417 0.6971943 ]\n",
            "Mean Value: 0.43647904116410174\n"
          ]
        }
      ],
      "source": [
        "import numpy as np\n",
        "\n",
        "random_vector = np.random.rand(30)\n",
        "\n",
        "\n",
        "mean_value = random_vector.mean()\n",
        "\n",
        "print(\"Random Vector:\")\n",
        "print(random_vector)\n",
        "print(\"Mean Value:\", mean_value)\n"
      ]
    },
    {
      "cell_type": "markdown",
      "id": "f361efc0",
      "metadata": {
        "id": "f361efc0"
      },
      "source": [
        "#### 15. Create a 2d array with 1 on the border and 0 inside (★☆☆)"
      ]
    },
    {
      "cell_type": "code",
      "execution_count": null,
      "id": "a55b6666",
      "metadata": {
        "id": "a55b6666",
        "colab": {
          "base_uri": "https://localhost:8080/"
        },
        "outputId": "04c704ad-e284-425d-b210-5cd5f3fa8501"
      },
      "outputs": [
        {
          "output_type": "stream",
          "name": "stdout",
          "text": [
            "[[1. 1. 1. 1. 1.]\n",
            " [1. 0. 0. 0. 1.]\n",
            " [1. 0. 0. 0. 1.]\n",
            " [1. 0. 0. 0. 1.]\n",
            " [1. 1. 1. 1. 1.]]\n"
          ]
        }
      ],
      "source": [
        "import numpy as np\n",
        "\n",
        "rows, cols = 5, 5\n",
        "\n",
        "array = np.zeros((rows, cols))\n",
        "\n",
        "array[0, :] = 1\n",
        "array[-1, :] = 1\n",
        "array[:, 0] = 1\n",
        "array[:, -1] = 1\n",
        "\n",
        "print(array)"
      ]
    },
    {
      "cell_type": "markdown",
      "id": "475808cb",
      "metadata": {
        "id": "475808cb"
      },
      "source": [
        "#### 16. How to add a border (filled with 0's) around an existing array? (★☆☆)"
      ]
    },
    {
      "cell_type": "code",
      "execution_count": null,
      "id": "b2df3a8a",
      "metadata": {
        "id": "b2df3a8a",
        "colab": {
          "base_uri": "https://localhost:8080/"
        },
        "outputId": "b89c889d-8511-494e-9de9-09d249a76323"
      },
      "outputs": [
        {
          "output_type": "stream",
          "name": "stdout",
          "text": [
            "[[0. 0. 0. 0. 0.]\n",
            " [0. 1. 2. 3. 0.]\n",
            " [0. 4. 5. 6. 0.]\n",
            " [0. 7. 8. 9. 0.]\n",
            " [0. 0. 0. 0. 0.]]\n"
          ]
        }
      ],
      "source": [
        "import numpy as np\n",
        "\n",
        "existing_array = np.array([[1, 2, 3],\n",
        "                           [4, 5, 6],\n",
        "                           [7, 8, 9]])\n",
        "\n",
        "rows, cols = existing_array.shape\n",
        "border_width = 1\n",
        "\n",
        "new_array = np.zeros((rows + 2 * border_width, cols + 2 * border_width))\n",
        "\n",
        "new_array[border_width:rows + border_width, border_width:cols + border_width] = existing_array\n",
        "\n",
        "print(new_array)\n"
      ]
    },
    {
      "cell_type": "markdown",
      "id": "1af07d85",
      "metadata": {
        "id": "1af07d85"
      },
      "source": [
        "#### 17. What is the result of the following expression? (★☆☆)\n",
        "```python\n",
        "0 * np.nan\n",
        "np.nan == np.nan\n",
        "np.inf > np.nan\n",
        "np.nan - np.nan\n",
        "np.nan in set([np.nan])\n",
        "0.3 == 3 * 0.1\n",
        "```"
      ]
    },
    {
      "cell_type": "markdown",
      "source": [],
      "metadata": {
        "id": "tm7CbDuWTs-o"
      },
      "id": "tm7CbDuWTs-o"
    },
    {
      "cell_type": "markdown",
      "id": "6a235316",
      "metadata": {
        "id": "6a235316"
      },
      "source": [
        "#### 18. Create a 5x5 matrix with values 1,2,3,4 just below the diagonal (★☆☆)"
      ]
    },
    {
      "cell_type": "code",
      "execution_count": null,
      "id": "f2e6cfa6",
      "metadata": {
        "id": "f2e6cfa6",
        "colab": {
          "base_uri": "https://localhost:8080/"
        },
        "outputId": "d4d67383-2f63-4ced-fd55-822a5446dbae"
      },
      "outputs": [
        {
          "output_type": "stream",
          "name": "stdout",
          "text": [
            "[[0. 0. 0. 0. 0.]\n",
            " [1. 0. 0. 0. 0.]\n",
            " [0. 2. 0. 0. 0.]\n",
            " [0. 0. 3. 0. 0.]\n",
            " [0. 0. 0. 4. 0.]]\n"
          ]
        }
      ],
      "source": [
        "import numpy as np\n",
        "\n",
        "matrix = np.zeros((5, 5))\n",
        "\n",
        "for i in range(1, 5):\n",
        "    matrix[i, i - 1] = i\n",
        "\n",
        "print(matrix)\n"
      ]
    },
    {
      "cell_type": "markdown",
      "id": "25362e98",
      "metadata": {
        "id": "25362e98"
      },
      "source": [
        "#### 19. Create a 8x8 matrix and fill it with a checkerboard pattern (★☆☆)"
      ]
    },
    {
      "cell_type": "code",
      "execution_count": null,
      "id": "cabdf298",
      "metadata": {
        "id": "cabdf298",
        "colab": {
          "base_uri": "https://localhost:8080/"
        },
        "outputId": "8f8ed147-00ba-4def-d821-e72354e032db"
      },
      "outputs": [
        {
          "output_type": "stream",
          "name": "stdout",
          "text": [
            "[[0 1 0 1 0 1 0 1]\n",
            " [1 0 1 0 1 0 1 0]\n",
            " [0 1 0 1 0 1 0 1]\n",
            " [1 0 1 0 1 0 1 0]\n",
            " [0 1 0 1 0 1 0 1]\n",
            " [1 0 1 0 1 0 1 0]\n",
            " [0 1 0 1 0 1 0 1]\n",
            " [1 0 1 0 1 0 1 0]]\n"
          ]
        }
      ],
      "source": [
        "import numpy as np\n",
        "\n",
        "matrix = np.zeros((8, 8), dtype=int)\n",
        "\n",
        "matrix[1::2, ::2] = 1\n",
        "matrix[::2, 1::2] = 1\n",
        "\n",
        "print(matrix)\n"
      ]
    },
    {
      "cell_type": "markdown",
      "id": "6431e977",
      "metadata": {
        "id": "6431e977"
      },
      "source": [
        "#### 20. Consider a (6,7,8) shape array, what is the index (x,y,z) of the 100th element? (★☆☆)"
      ]
    },
    {
      "cell_type": "code",
      "execution_count": null,
      "id": "de8b0245",
      "metadata": {
        "id": "de8b0245",
        "colab": {
          "base_uri": "https://localhost:8080/"
        },
        "outputId": "9a9f72a3-24e9-4aae-c80e-ab847ce6441e"
      },
      "outputs": [
        {
          "output_type": "stream",
          "name": "stdout",
          "text": [
            "Index (x, y, z) for the 100th element: (1, 5, 4)\n"
          ]
        }
      ],
      "source": [
        "import numpy as np\n",
        "\n",
        "# Define the shape of the array\n",
        "shape = (6, 7, 8)\n",
        "\n",
        "# Calculate the index (x, y, z) for the 100th element\n",
        "element_index = 100\n",
        "\n",
        "# Convert the 1D index to a 3D index\n",
        "x, y, z = np.unravel_index(element_index, shape)\n",
        "\n",
        "print(f\"Index (x, y, z) for the 100th element: ({x}, {y}, {z})\")\n"
      ]
    },
    {
      "cell_type": "markdown",
      "id": "31abe6fe",
      "metadata": {
        "id": "31abe6fe"
      },
      "source": [
        "#### 21. Create a checkerboard 8x8 matrix using the tile function (★☆☆)"
      ]
    },
    {
      "cell_type": "code",
      "execution_count": null,
      "id": "6da26fd3",
      "metadata": {
        "id": "6da26fd3",
        "colab": {
          "base_uri": "https://localhost:8080/"
        },
        "outputId": "17c5eaa2-8af3-451f-ac9b-16eead970bbc"
      },
      "outputs": [
        {
          "output_type": "stream",
          "name": "stdout",
          "text": [
            "[[0 1 0 1 0 1 0 1]\n",
            " [1 0 1 0 1 0 1 0]\n",
            " [0 1 0 1 0 1 0 1]\n",
            " [1 0 1 0 1 0 1 0]\n",
            " [0 1 0 1 0 1 0 1]\n",
            " [1 0 1 0 1 0 1 0]\n",
            " [0 1 0 1 0 1 0 1]\n",
            " [1 0 1 0 1 0 1 0]]\n"
          ]
        }
      ],
      "source": [
        "import numpy as np\n",
        "\n",
        "# Create a 2x2 checkerboard pattern\n",
        "checkerboard_tile = np.array([[0, 1],\n",
        "                              [1, 0]])\n",
        "\n",
        "# Use np.tile to create an 8x8 checkerboard matrix\n",
        "checkerboard_matrix = np.tile(checkerboard_tile, (4, 4))\n",
        "\n",
        "print(checkerboard_matrix)\n"
      ]
    },
    {
      "cell_type": "markdown",
      "id": "fd88b3f4",
      "metadata": {
        "id": "fd88b3f4"
      },
      "source": [
        "#### 22. Normalize a 5x5 random matrix (★☆☆)"
      ]
    },
    {
      "cell_type": "code",
      "execution_count": null,
      "id": "ee6ced60",
      "metadata": {
        "id": "ee6ced60",
        "colab": {
          "base_uri": "https://localhost:8080/"
        },
        "outputId": "43606cac-fd13-4880-c869-ecdf8ce21a13"
      },
      "outputs": [
        {
          "output_type": "stream",
          "name": "stdout",
          "text": [
            "Original Random Matrix:\n",
            "[[0.86835217 0.22336931 0.08064745 0.96450213 0.60696372]\n",
            " [0.7838405  0.56218834 0.53365877 0.26464079 0.25332852]\n",
            " [0.68863211 0.92801757 0.39776024 0.60656995 0.58831915]\n",
            " [0.59612786 0.437932   0.28774935 0.30975629 0.61002438]\n",
            " [0.5787931  0.60757878 0.61363749 0.52310708 0.1830235 ]]\n",
            "\n",
            "Normalized Matrix:\n",
            "[[0.8912152  0.16147661 0.         1.         0.59547829]\n",
            " [0.79559804 0.54481908 0.5125405  0.20817149 0.1953727 ]\n",
            " [0.68787853 0.95872109 0.35878385 0.59503278 0.57438368]\n",
            " [0.58321851 0.4042345  0.23431669 0.25921552 0.59894114]\n",
            " [0.56360584 0.59617417 0.60302905 0.50060223 0.11582906]]\n"
          ]
        }
      ],
      "source": [
        "import numpy as np\n",
        "\n",
        "# Create a 5x5 random matrix\n",
        "random_matrix = np.random.rand(5, 5)\n",
        "\n",
        "# Normalize the matrix\n",
        "normalized_matrix = (random_matrix - random_matrix.min()) / (random_matrix.max() - random_matrix.min())\n",
        "\n",
        "print(\"Original Random Matrix:\")\n",
        "print(random_matrix)\n",
        "\n",
        "print(\"\\nNormalized Matrix:\")\n",
        "print(normalized_matrix)\n"
      ]
    },
    {
      "cell_type": "markdown",
      "id": "464d8590",
      "metadata": {
        "id": "464d8590"
      },
      "source": [
        "#### 23. Create a custom dtype that describes a color as four unsigned bytes (RGBA) (★☆☆)"
      ]
    },
    {
      "cell_type": "code",
      "execution_count": null,
      "id": "e2f9cfc6",
      "metadata": {
        "id": "e2f9cfc6",
        "colab": {
          "base_uri": "https://localhost:8080/"
        },
        "outputId": "3a145485-74de-4153-8510-474f710e2b95"
      },
      "outputs": [
        {
          "output_type": "stream",
          "name": "stdout",
          "text": [
            "(255, 0, 0, 128)\n"
          ]
        }
      ],
      "source": [
        "import numpy as np\n",
        "\n",
        "color_dtype = np.dtype([\n",
        "    ('r', np.uint8),\n",
        "    ('g', np.uint8),\n",
        "    ('b', np.uint8),\n",
        "    ('a', np.uint8)\n",
        "])\n",
        "\n",
        "color = np.array((255, 0, 0, 128), dtype=color_dtype)\n",
        "\n",
        "print(color)\n"
      ]
    },
    {
      "cell_type": "markdown",
      "id": "06c63bb3",
      "metadata": {
        "id": "06c63bb3"
      },
      "source": [
        "#### 24. Multiply a 5x3 matrix by a 3x2 matrix (real matrix product) (★☆☆)"
      ]
    },
    {
      "cell_type": "code",
      "execution_count": null,
      "id": "9fc0d553",
      "metadata": {
        "id": "9fc0d553",
        "colab": {
          "base_uri": "https://localhost:8080/"
        },
        "outputId": "bfd0640b-5dba-4481-cb6f-34222322f705"
      },
      "outputs": [
        {
          "output_type": "stream",
          "name": "stdout",
          "text": [
            "Matrix 1:\n",
            "[[0.80852363 0.94795992 0.52826589]\n",
            " [0.18204859 0.1546458  0.15485294]\n",
            " [0.79757541 0.15280402 0.06450522]\n",
            " [0.78027734 0.17003164 0.92732245]\n",
            " [0.38699811 0.85582163 0.53949899]]\n",
            "\n",
            "Matrix 2:\n",
            "[[0.7240477  0.69720595]\n",
            " [0.91045495 0.64385867]\n",
            " [0.37109301 0.61344612]]\n",
            "\n",
            "Matrix Product (Result):\n",
            "[[1.64452026 1.49812236]\n",
            " [0.33007474 0.32148933]\n",
            " [0.74054126 0.69402899]\n",
            " [1.06388703 1.2223527 ]\n",
            " [1.25959643 1.15179912]]\n"
          ]
        }
      ],
      "source": [
        "import numpy as np\n",
        "\n",
        "\n",
        "matrix1 = np.random.rand(5, 3)\n",
        "\n",
        "\n",
        "matrix2 = np.random.rand(3, 2)\n",
        "\n",
        "\n",
        "result = np.dot(matrix1, matrix2)\n",
        "\n",
        "\n",
        "print(\"Matrix 1:\")\n",
        "print(matrix1)\n",
        "\n",
        "print(\"\\nMatrix 2:\")\n",
        "print(matrix2)\n",
        "\n",
        "print(\"\\nMatrix Product (Result):\")\n",
        "print(result)\n"
      ]
    },
    {
      "cell_type": "markdown",
      "id": "76fa6285",
      "metadata": {
        "id": "76fa6285"
      },
      "source": [
        "#### 25. Given a 1D array, negate all elements which are between 3 and 8, in place. (★☆☆)"
      ]
    },
    {
      "cell_type": "code",
      "execution_count": null,
      "id": "0e25eca7",
      "metadata": {
        "id": "0e25eca7",
        "colab": {
          "base_uri": "https://localhost:8080/"
        },
        "outputId": "13f67eb0-f2bd-43c1-d4fb-c4d27d2f5d18"
      },
      "outputs": [
        {
          "output_type": "stream",
          "name": "stdout",
          "text": [
            "[ 1 -4 -6 -7  3  9  2  8 -5]\n"
          ]
        }
      ],
      "source": [
        "import numpy as np\n",
        "\n",
        "array = np.array([1, 4, 6, 7, 3, 9, 2, 8, 5])\n",
        "\n",
        "array[(array > 3) & (array < 8)] *= -1\n",
        "\n",
        "print(array)\n"
      ]
    },
    {
      "cell_type": "markdown",
      "id": "930ed8bb",
      "metadata": {
        "id": "930ed8bb"
      },
      "source": [
        "#### 26. What is the output of the following script? (★☆☆)\n",
        "```python\n",
        "# Author: Jake VanderPlas\n",
        "\n",
        "print(sum(range(5),-1))\n",
        "from numpy import *\n",
        "print(sum(range(5),-1))\n",
        "```"
      ]
    },
    {
      "cell_type": "markdown",
      "source": [
        "9\n",
        "10\n"
      ],
      "metadata": {
        "id": "eYWsPo0fKp-G"
      },
      "id": "eYWsPo0fKp-G"
    },
    {
      "cell_type": "markdown",
      "id": "177120e7",
      "metadata": {
        "id": "177120e7"
      },
      "source": [
        "#### 27. Consider an integer vector Z, which of these expressions are legal? (★☆☆)\n",
        "```python\n",
        "Z**Z\n",
        "2 << Z >> 2\n",
        "Z <- Z\n",
        "1j*Z\n",
        "Z/1/1\n",
        "Z<Z>Z\n",
        "```"
      ]
    },
    {
      "cell_type": "code",
      "execution_count": null,
      "id": "86d6cbef",
      "metadata": {
        "id": "86d6cbef"
      },
      "outputs": [],
      "source": []
    },
    {
      "cell_type": "markdown",
      "id": "a6eaf0e8",
      "metadata": {
        "id": "a6eaf0e8"
      },
      "source": [
        "#### 28. What are the result of the following expressions? (★☆☆)\n",
        "```python\n",
        "np.array(0) / np.array(0)\n",
        "np.array(0) // np.array(0)\n",
        "np.array([np.nan]).astype(int).astype(float)\n",
        "```"
      ]
    },
    {
      "cell_type": "code",
      "execution_count": null,
      "id": "93684068",
      "metadata": {
        "id": "93684068"
      },
      "outputs": [],
      "source": []
    },
    {
      "cell_type": "markdown",
      "id": "524b65f8",
      "metadata": {
        "id": "524b65f8"
      },
      "source": [
        "#### 29. How to round away from zero a float array ? (★☆☆)"
      ]
    },
    {
      "cell_type": "code",
      "execution_count": null,
      "id": "61fbb78e",
      "metadata": {
        "id": "61fbb78e",
        "colab": {
          "base_uri": "https://localhost:8080/"
        },
        "outputId": "60ca46c0-ab59-4bbe-b162-6c7a352b75cb"
      },
      "outputs": [
        {
          "output_type": "stream",
          "name": "stdout",
          "text": [
            "[ 2. -3.  4. -5.  6.]\n"
          ]
        }
      ],
      "source": [
        "import numpy as np\n",
        "\n",
        "float_array = np.array([1.3, -2.7, 3.5, -4.8, 5.2])\n",
        "\n",
        "# Round away from zero\n",
        "rounded_array = np.where(float_array >= 0, np.ceil(float_array), np.floor(float_array))\n",
        "\n",
        "print(rounded_array)\n"
      ]
    },
    {
      "cell_type": "markdown",
      "id": "8dc40752",
      "metadata": {
        "id": "8dc40752"
      },
      "source": [
        "#### 30. How to find common values between two arrays? (★☆☆)"
      ]
    },
    {
      "cell_type": "code",
      "execution_count": null,
      "id": "54399cbe",
      "metadata": {
        "id": "54399cbe",
        "colab": {
          "base_uri": "https://localhost:8080/"
        },
        "outputId": "7e2ebd48-822a-47a3-e998-8b5fda26a878"
      },
      "outputs": [
        {
          "output_type": "stream",
          "name": "stdout",
          "text": [
            "Common Values: [3 4 5]\n"
          ]
        }
      ],
      "source": [
        "import numpy as np\n",
        "\n",
        "# Create two arrays\n",
        "array1 = np.array([1, 2, 3, 4, 5])\n",
        "array2 = np.array([3, 4, 5, 6, 7])\n",
        "\n",
        "# Find common values using numpy.intersect1d\n",
        "common_values = np.intersect1d(array1, array2)\n",
        "\n",
        "print(\"Common Values:\", common_values)\n"
      ]
    },
    {
      "cell_type": "markdown",
      "id": "b7f38e21",
      "metadata": {
        "id": "b7f38e21"
      },
      "source": [
        "#### 31. How to ignore all numpy warnings (not recommended)? (★☆☆)"
      ]
    },
    {
      "cell_type": "code",
      "execution_count": null,
      "id": "2ca3289c",
      "metadata": {
        "id": "2ca3289c"
      },
      "outputs": [],
      "source": [
        "import numpy as np\n",
        "import warnings\n",
        "\n",
        "# Ignore all NumPy warnings\n",
        "warnings.filterwarnings(\"ignore\", category=np.VisibleDeprecationWarning)\n",
        "\n",
        "# Your code here\n",
        "\n",
        "# Re-enable warnings (not recommended)\n",
        "warnings.filterwarnings(\"default\", category=np.VisibleDeprecationWarning)\n"
      ]
    },
    {
      "cell_type": "markdown",
      "id": "2d850aab",
      "metadata": {
        "id": "2d850aab"
      },
      "source": [
        "#### 32. Is the following expressions true? (★☆☆)\n",
        "```python\n",
        "np.sqrt(-1) == np.emath.sqrt(-1)\n",
        "```"
      ]
    },
    {
      "cell_type": "code",
      "execution_count": null,
      "id": "5c83ffce",
      "metadata": {
        "id": "5c83ffce"
      },
      "outputs": [],
      "source": []
    },
    {
      "cell_type": "markdown",
      "id": "5c4a556f",
      "metadata": {
        "id": "5c4a556f"
      },
      "source": [
        "#### 33. How to get the dates of yesterday, today and tomorrow? (★☆☆)"
      ]
    },
    {
      "cell_type": "code",
      "execution_count": null,
      "id": "c3b683a0",
      "metadata": {
        "id": "c3b683a0",
        "colab": {
          "base_uri": "https://localhost:8080/"
        },
        "outputId": "853b1589-65c7-4897-805f-1783a12b5ac5"
      },
      "outputs": [
        {
          "output_type": "stream",
          "name": "stdout",
          "text": [
            "Yesterday: 2023-11-07\n",
            "Today: 2023-11-08\n",
            "Tomorrow: 2023-11-09\n"
          ]
        }
      ],
      "source": [
        "from datetime import datetime, timedelta\n",
        "\n",
        "# Get the current date\n",
        "today = datetime.now()\n",
        "\n",
        "# Calculate the date for yesterday\n",
        "yesterday = today - timedelta(days=1)\n",
        "\n",
        "# Calculate the date for tomorrow\n",
        "tomorrow = today + timedelta(days=1)\n",
        "\n",
        "# Format the dates as strings\n",
        "today_str = today.strftime('%Y-%m-%d')\n",
        "yesterday_str = yesterday.strftime('%Y-%m-%d')\n",
        "tomorrow_str = tomorrow.strftime('%Y-%m-%d')\n",
        "\n",
        "print(\"Yesterday:\", yesterday_str)\n",
        "print(\"Today:\", today_str)\n",
        "print(\"Tomorrow:\", tomorrow_str)\n"
      ]
    },
    {
      "cell_type": "markdown",
      "id": "453cdd64",
      "metadata": {
        "id": "453cdd64"
      },
      "source": [
        "#### 34. How to get all the dates corresponding to the month of July 2016? (★★☆)"
      ]
    },
    {
      "cell_type": "code",
      "execution_count": null,
      "id": "4ba4d37c",
      "metadata": {
        "id": "4ba4d37c",
        "colab": {
          "base_uri": "https://localhost:8080/"
        },
        "outputId": "b7948d5a-8df6-4293-da3e-e2c3e80f0e96"
      },
      "outputs": [
        {
          "output_type": "stream",
          "name": "stdout",
          "text": [
            "2016-07-01\n",
            "2016-07-02\n",
            "2016-07-03\n",
            "2016-07-04\n",
            "2016-07-05\n",
            "2016-07-06\n",
            "2016-07-07\n",
            "2016-07-08\n",
            "2016-07-09\n",
            "2016-07-10\n",
            "2016-07-11\n",
            "2016-07-12\n",
            "2016-07-13\n",
            "2016-07-14\n",
            "2016-07-15\n",
            "2016-07-16\n",
            "2016-07-17\n",
            "2016-07-18\n",
            "2016-07-19\n",
            "2016-07-20\n",
            "2016-07-21\n",
            "2016-07-22\n",
            "2016-07-23\n",
            "2016-07-24\n",
            "2016-07-25\n",
            "2016-07-26\n",
            "2016-07-27\n",
            "2016-07-28\n",
            "2016-07-29\n",
            "2016-07-30\n",
            "2016-07-31\n"
          ]
        }
      ],
      "source": [
        "from datetime import datetime, timedelta\n",
        "\n",
        "# Define the start and end dates for July 2016\n",
        "start_date = datetime(2016, 7, 1)\n",
        "end_date = datetime(2016, 7, 31)\n",
        "\n",
        "# Initialize a list to store the dates\n",
        "dates_in_july_2016 = []\n",
        "\n",
        "# Iterate through the days and collect the dates\n",
        "current_date = start_date\n",
        "while current_date <= end_date:\n",
        "    dates_in_july_2016.append(current_date.strftime('%Y-%m-%d'))\n",
        "    current_date += timedelta(days=1)\n",
        "\n",
        "# Print the list of dates\n",
        "for date in dates_in_july_2016:\n",
        "    print(date)\n"
      ]
    },
    {
      "cell_type": "markdown",
      "id": "52667b6e",
      "metadata": {
        "id": "52667b6e"
      },
      "source": [
        "#### 35. How to compute ((A+B)*(-A/2)) in place (without copy)? (★★☆)"
      ]
    },
    {
      "cell_type": "markdown",
      "source": [],
      "metadata": {
        "id": "4dSZSXafNSe2"
      },
      "id": "4dSZSXafNSe2"
    },
    {
      "cell_type": "code",
      "source": [
        "import numpy as np\n",
        "\n",
        "# Create arrays A and B\n",
        "A = np.array([1, 2, 3])\n",
        "B = np.array([4, 5, 6])\n",
        "\n",
        "# Compute the expression in place\n",
        "A += B  # A = A + B\n",
        "A *= -A  # A = -(A * A)\n",
        "A /= 2  # A = A / 2\n",
        "\n",
        "print(\"Result:\", A)\n"
      ],
      "metadata": {
        "colab": {
          "base_uri": "https://localhost:8080/",
          "height": 245
        },
        "id": "RRM_z75_NZy6",
        "outputId": "68a37423-893c-4d27-b553-3778d6cc314b"
      },
      "id": "RRM_z75_NZy6",
      "execution_count": null,
      "outputs": [
        {
          "output_type": "error",
          "ename": "UFuncTypeError",
          "evalue": "ignored",
          "traceback": [
            "\u001b[0;31m---------------------------------------------------------------------------\u001b[0m",
            "\u001b[0;31mUFuncTypeError\u001b[0m                            Traceback (most recent call last)",
            "\u001b[0;32m<ipython-input-17-a3ab31545a30>\u001b[0m in \u001b[0;36m<cell line: 10>\u001b[0;34m()\u001b[0m\n\u001b[1;32m      8\u001b[0m \u001b[0mA\u001b[0m \u001b[0;34m+=\u001b[0m \u001b[0mB\u001b[0m  \u001b[0;31m# A = A + B\u001b[0m\u001b[0;34m\u001b[0m\u001b[0;34m\u001b[0m\u001b[0m\n\u001b[1;32m      9\u001b[0m \u001b[0mA\u001b[0m \u001b[0;34m*=\u001b[0m \u001b[0;34m-\u001b[0m\u001b[0mA\u001b[0m  \u001b[0;31m# A = -(A * A)\u001b[0m\u001b[0;34m\u001b[0m\u001b[0;34m\u001b[0m\u001b[0m\n\u001b[0;32m---> 10\u001b[0;31m \u001b[0mA\u001b[0m \u001b[0;34m/=\u001b[0m \u001b[0;36m2\u001b[0m  \u001b[0;31m# A = A / 2\u001b[0m\u001b[0;34m\u001b[0m\u001b[0;34m\u001b[0m\u001b[0m\n\u001b[0m\u001b[1;32m     11\u001b[0m \u001b[0;34m\u001b[0m\u001b[0m\n\u001b[1;32m     12\u001b[0m \u001b[0mprint\u001b[0m\u001b[0;34m(\u001b[0m\u001b[0;34m\"Result:\"\u001b[0m\u001b[0;34m,\u001b[0m \u001b[0mA\u001b[0m\u001b[0;34m)\u001b[0m\u001b[0;34m\u001b[0m\u001b[0;34m\u001b[0m\u001b[0m\n",
            "\u001b[0;31mUFuncTypeError\u001b[0m: Cannot cast ufunc 'divide' output from dtype('float64') to dtype('int64') with casting rule 'same_kind'"
          ]
        }
      ]
    },
    {
      "cell_type": "markdown",
      "id": "9a8f3738",
      "metadata": {
        "id": "9a8f3738"
      },
      "source": [
        "#### 36. Extract the integer part of a random array of positive numbers using 4 different methods (★★☆)"
      ]
    },
    {
      "cell_type": "code",
      "execution_count": null,
      "id": "368a801a",
      "metadata": {
        "id": "368a801a",
        "colab": {
          "base_uri": "https://localhost:8080/"
        },
        "outputId": "a457ad78-dd91-413e-9650-9da759b8e570"
      },
      "outputs": [
        {
          "output_type": "stream",
          "name": "stdout",
          "text": [
            "Method 1 (floor): [3 9 6 3 5]\n"
          ]
        }
      ],
      "source": [
        "import numpy as np\n",
        "\n",
        "# Create a random array of positive numbers\n",
        "random_array = np.random.rand(5) * 10  # Adjust the size and range as needed\n",
        "\n",
        "# Extract integer part using numpy.floor\n",
        "integer_part = np.floor(random_array).astype(int)\n",
        "\n",
        "print(\"Method 1 (floor):\", integer_part)\n"
      ]
    },
    {
      "cell_type": "markdown",
      "id": "cab1eed1",
      "metadata": {
        "id": "cab1eed1"
      },
      "source": [
        "#### 37. Create a 5x5 matrix with row values ranging from 0 to 4 (★★☆)"
      ]
    },
    {
      "cell_type": "code",
      "execution_count": null,
      "id": "f1b579ba",
      "metadata": {
        "id": "f1b579ba",
        "colab": {
          "base_uri": "https://localhost:8080/"
        },
        "outputId": "bb9c177f-f28b-4d96-86bc-6904f04850a6"
      },
      "outputs": [
        {
          "output_type": "stream",
          "name": "stdout",
          "text": [
            "[[0 1 2 3 4]\n",
            " [1 2 3 4 5]\n",
            " [2 3 4 5 6]\n",
            " [3 4 5 6 7]\n",
            " [4 5 6 7 8]]\n"
          ]
        }
      ],
      "source": [
        "import numpy as np\n",
        "\n",
        "# Create a 5x5 matrix with row values ranging from 0 to 4\n",
        "matrix = np.arange(5).reshape(5, 1) + np.arange(5)\n",
        "\n",
        "print(matrix)\n"
      ]
    },
    {
      "cell_type": "markdown",
      "id": "cd0ce6b1",
      "metadata": {
        "id": "cd0ce6b1"
      },
      "source": [
        "#### 38. Consider a generator function that generates 10 integers and use it to build an array (★☆☆)"
      ]
    },
    {
      "cell_type": "code",
      "execution_count": null,
      "id": "aab193a6",
      "metadata": {
        "id": "aab193a6",
        "colab": {
          "base_uri": "https://localhost:8080/"
        },
        "outputId": "31965a13-d5ba-45ea-bb6c-4ce11c371afc"
      },
      "outputs": [
        {
          "output_type": "stream",
          "name": "stdout",
          "text": [
            "[0 1 2 3 4 5 6 7 8 9]\n"
          ]
        }
      ],
      "source": [
        "import numpy as np\n",
        "\n",
        "# Define a generator function that yields 10 integers\n",
        "def generate_integers():\n",
        "    for i in range(10):\n",
        "        yield i\n",
        "\n",
        "# Use the generator function to build an array\n",
        "integers_generator = generate_integers()\n",
        "array_from_generator = np.array(list(integers_generator))\n",
        "\n",
        "print(array_from_generator)\n"
      ]
    },
    {
      "cell_type": "markdown",
      "id": "c4c942d1",
      "metadata": {
        "id": "c4c942d1"
      },
      "source": [
        "#### 39. Create a vector of size 10 with values ranging from 0 to 1, both excluded (★★☆)"
      ]
    },
    {
      "cell_type": "code",
      "execution_count": null,
      "id": "e42eaa4b",
      "metadata": {
        "id": "e42eaa4b",
        "colab": {
          "base_uri": "https://localhost:8080/"
        },
        "outputId": "a94e8e1a-70ef-43db-8a21-71139630d422"
      },
      "outputs": [
        {
          "output_type": "stream",
          "name": "stdout",
          "text": [
            "[0.  0.1 0.2 0.3 0.4 0.5 0.6 0.7 0.8 0.9]\n"
          ]
        }
      ],
      "source": [
        "import numpy as np\n",
        "\n",
        "# Create a vector of size 10 with values ranging from 0 to 1 (both excluded)\n",
        "vector = np.linspace(0, 1, 10, endpoint=False)\n",
        "\n",
        "print(vector)\n"
      ]
    },
    {
      "cell_type": "markdown",
      "id": "9b3cb8d2",
      "metadata": {
        "id": "9b3cb8d2"
      },
      "source": [
        "#### 40. Create a random vector of size 10 and sort it (★★☆)"
      ]
    },
    {
      "cell_type": "code",
      "execution_count": null,
      "id": "37d2b341",
      "metadata": {
        "id": "37d2b341",
        "colab": {
          "base_uri": "https://localhost:8080/"
        },
        "outputId": "3fd8b4b3-501e-4550-8059-2cfeafd78a37"
      },
      "outputs": [
        {
          "output_type": "stream",
          "name": "stdout",
          "text": [
            "Random Vector:\n",
            "[0.55556725 0.96347825 0.40572591 0.24010132 0.0305277  0.94647938\n",
            " 0.41720121 0.45046312 0.39500453 0.0501514 ]\n",
            "\n",
            "Sorted Vector:\n",
            "[0.0305277  0.0501514  0.24010132 0.39500453 0.40572591 0.41720121\n",
            " 0.45046312 0.55556725 0.94647938 0.96347825]\n"
          ]
        }
      ],
      "source": [
        "import numpy as np\n",
        "\n",
        "# Create a random vector of size 10\n",
        "random_vector = np.random.rand(10)\n",
        "\n",
        "# Sort the vector\n",
        "sorted_vector = np.sort(random_vector)\n",
        "\n",
        "print(\"Random Vector:\")\n",
        "print(random_vector)\n",
        "\n",
        "print(\"\\nSorted Vector:\")\n",
        "print(sorted_vector)\n"
      ]
    },
    {
      "cell_type": "markdown",
      "id": "2facfddc",
      "metadata": {
        "id": "2facfddc"
      },
      "source": [
        "#### 41. How to sum a small array faster than np.sum? (★★☆)"
      ]
    },
    {
      "cell_type": "code",
      "execution_count": null,
      "id": "4bb8864f",
      "metadata": {
        "id": "4bb8864f",
        "colab": {
          "base_uri": "https://localhost:8080/"
        },
        "outputId": "9b4fed73-14d9-4767-b696-00de26249fc0"
      },
      "outputs": [
        {
          "output_type": "stream",
          "name": "stdout",
          "text": [
            "Sum using np.add.reduce: 15\n",
            "Sum using built-in sum: 15\n"
          ]
        }
      ],
      "source": [
        "import numpy as np\n",
        "\n",
        "# Create a small array for demonstration\n",
        "small_array = np.array([1, 2, 3, 4, 5])\n",
        "\n",
        "# Using np.add.reduce\n",
        "result1 = np.add.reduce(small_array)\n",
        "\n",
        "# Using built-in Python sum\n",
        "result2 = sum(small_array)\n",
        "\n",
        "print(\"Sum using np.add.reduce:\", result1)\n",
        "print(\"Sum using built-in sum:\", result2)\n"
      ]
    },
    {
      "cell_type": "markdown",
      "id": "539cd2a5",
      "metadata": {
        "id": "539cd2a5"
      },
      "source": [
        "#### 42. Consider two random array A and B, check if they are equal (★★☆)"
      ]
    },
    {
      "cell_type": "code",
      "execution_count": null,
      "id": "5246d7bf",
      "metadata": {
        "id": "5246d7bf",
        "colab": {
          "base_uri": "https://localhost:8080/"
        },
        "outputId": "278d1b91-33e2-4022-b66c-d1f2c770ee07"
      },
      "outputs": [
        {
          "output_type": "stream",
          "name": "stdout",
          "text": [
            "Arrays A and B are not equal.\n"
          ]
        }
      ],
      "source": [
        "import numpy as np\n",
        "\n",
        "# Create two random arrays A and B\n",
        "A = np.random.rand(5)\n",
        "B = np.random.rand(5)\n",
        "\n",
        "# Check if the arrays are equal\n",
        "are_equal = np.array_equal(A, B)\n",
        "\n",
        "if are_equal:\n",
        "    print(\"Arrays A and B are equal.\")\n",
        "else:\n",
        "    print(\"Arrays A and B are not equal.\")\n"
      ]
    },
    {
      "cell_type": "markdown",
      "id": "448f8274",
      "metadata": {
        "id": "448f8274"
      },
      "source": [
        "#### 43. Make an array immutable (read-only) (★★☆)"
      ]
    },
    {
      "cell_type": "code",
      "execution_count": null,
      "id": "7cf2b3dd",
      "metadata": {
        "id": "7cf2b3dd",
        "colab": {
          "base_uri": "https://localhost:8080/"
        },
        "outputId": "bb8191f3-7347-4ccf-bb73-86dfe14c4690"
      },
      "outputs": [
        {
          "output_type": "stream",
          "name": "stdout",
          "text": [
            "Original Array: [1 2 3 4 5]\n"
          ]
        }
      ],
      "source": [
        "import numpy as np\n",
        "\n",
        "my_array = np.array([1, 2, 3, 4, 5])\n",
        "\n",
        "my_array.flags.writeable = False\n",
        "\n",
        "print(\"Original Array:\", my_array)\n"
      ]
    },
    {
      "cell_type": "markdown",
      "id": "d7b7aaf3",
      "metadata": {
        "id": "d7b7aaf3"
      },
      "source": [
        "#### 44. Consider a random 10x2 matrix representing cartesian coordinates, convert them to polar coordinates (★★☆)"
      ]
    },
    {
      "cell_type": "code",
      "execution_count": null,
      "id": "e2337585",
      "metadata": {
        "id": "e2337585",
        "colab": {
          "base_uri": "https://localhost:8080/"
        },
        "outputId": "c1341304-0c7f-4192-9751-9cb501903f24"
      },
      "outputs": [
        {
          "output_type": "stream",
          "name": "stdout",
          "text": [
            "Cartesian Coordinates:\n",
            "[[0.16316438 0.16154776]\n",
            " [0.95159821 0.81747564]\n",
            " [0.54389024 0.37387612]\n",
            " [0.8401923  0.06811233]\n",
            " [0.68874484 0.70274223]\n",
            " [0.25992298 0.59185812]\n",
            " [0.64839804 0.16975001]\n",
            " [0.51366229 0.88136252]\n",
            " [0.44077698 0.0401843 ]\n",
            " [0.73152474 0.95473996]]\n",
            "\n",
            "Polar Coordinates (r, θ in degrees):\n",
            "[[ 0.229609   44.71474926]\n",
            " [ 1.25451408 40.66440717]\n",
            " [ 0.65999996 34.50505961]\n",
            " [ 0.84294862  4.6346929 ]\n",
            " [ 0.98397972 45.57633637]\n",
            " [ 0.64641782 66.29063167]\n",
            " [ 0.67025002 14.67072662]\n",
            " [ 1.02012197 59.76616308]\n",
            " [ 0.44260493  5.2090829 ]\n",
            " [ 1.20277048 52.54055116]]\n"
          ]
        }
      ],
      "source": [
        "import numpy as np\n",
        "\n",
        "# Create a random 10x2 matrix representing Cartesian coordinates\n",
        "cartesian_coordinates = np.random.rand(10, 2)\n",
        "\n",
        "\n",
        "x = cartesian_coordinates[:, 0]\n",
        "y = cartesian_coordinates[:, 1]\n",
        "\n",
        "r = np.linalg.norm(cartesian_coordinates, axis=1)\n",
        "theta = np.arctan2(y, x)\n",
        "\n",
        "theta_degrees = np.degrees(theta)\n",
        "\n",
        "polar_coordinates = np.column_stack((r, theta_degrees))\n",
        "\n",
        "print(\"Cartesian Coordinates:\")\n",
        "print(cartesian_coordinates)\n",
        "\n",
        "print(\"\\nPolar Coordinates (r, θ in degrees):\")\n",
        "print(polar_coordinates)\n"
      ]
    },
    {
      "cell_type": "markdown",
      "id": "a556027a",
      "metadata": {
        "id": "a556027a"
      },
      "source": [
        "#### 45. Create random vector of size 10 and replace the maximum value by 0 (★★☆)"
      ]
    },
    {
      "cell_type": "code",
      "execution_count": null,
      "id": "9e07cb87",
      "metadata": {
        "id": "9e07cb87",
        "colab": {
          "base_uri": "https://localhost:8080/"
        },
        "outputId": "d6d9dd15-17bf-49e3-d804-f6f2f135549b"
      },
      "outputs": [
        {
          "output_type": "stream",
          "name": "stdout",
          "text": [
            "Random Vector with Maximum Value Replaced:\n",
            "[0.         0.75244788 0.78522626 0.81417559 0.94514987 0.84443382\n",
            " 0.29077093 0.68235597 0.47675316 0.61978241]\n"
          ]
        }
      ],
      "source": [
        "import numpy as np\n",
        "\n",
        "# Create a random vector of size 10\n",
        "random_vector = np.random.rand(10)\n",
        "\n",
        "# Find the index of the maximum value\n",
        "max_index = np.argmax(random_vector)\n",
        "\n",
        "# Replace the maximum value with 0\n",
        "random_vector[max_index] = 0\n",
        "\n",
        "print(\"Random Vector with Maximum Value Replaced:\")\n",
        "print(random_vector)\n"
      ]
    },
    {
      "cell_type": "markdown",
      "id": "004f3da1",
      "metadata": {
        "id": "004f3da1"
      },
      "source": [
        "#### 46. Create a structured array with `x` and `y` coordinates covering the [0,1]x[0,1] area (★★☆)"
      ]
    },
    {
      "cell_type": "code",
      "source": [
        "import numpy as np\n",
        "\n",
        "# Define the size of the grid\n",
        "n = 5  # You can change this to control the number of points in the grid\n",
        "\n",
        "# Create x and y coordinate grids using numpy.meshgrid\n",
        "x, y = np.meshgrid(np.linspace(0, 1, n), np.linspace(0, 1, n))\n",
        "\n",
        "# Create a structured array with x and y coordinates\n",
        "structured_array = np.array([(x_val, y_val) for x_val, y_val in zip(x.ravel(), y.ravel())],\n",
        "                            dtype=[('x', float), ('y', float)])\n",
        "\n",
        "print(structured_array)\n"
      ],
      "metadata": {
        "colab": {
          "base_uri": "https://localhost:8080/"
        },
        "id": "eEddDMVqSyna",
        "outputId": "4865ba58-68e5-47d8-df9f-6058797ddad4"
      },
      "id": "eEddDMVqSyna",
      "execution_count": null,
      "outputs": [
        {
          "output_type": "stream",
          "name": "stdout",
          "text": [
            "[(0.  , 0.  ) (0.25, 0.  ) (0.5 , 0.  ) (0.75, 0.  ) (1.  , 0.  )\n",
            " (0.  , 0.25) (0.25, 0.25) (0.5 , 0.25) (0.75, 0.25) (1.  , 0.25)\n",
            " (0.  , 0.5 ) (0.25, 0.5 ) (0.5 , 0.5 ) (0.75, 0.5 ) (1.  , 0.5 )\n",
            " (0.  , 0.75) (0.25, 0.75) (0.5 , 0.75) (0.75, 0.75) (1.  , 0.75)\n",
            " (0.  , 1.  ) (0.25, 1.  ) (0.5 , 1.  ) (0.75, 1.  ) (1.  , 1.  )]\n"
          ]
        }
      ]
    },
    {
      "cell_type": "markdown",
      "id": "1c0adc0d",
      "metadata": {
        "id": "1c0adc0d"
      },
      "source": [
        "#### 47. Given two arrays, X and Y, construct the Cauchy matrix C (Cij =1/(xi - yj)) (★★☆)"
      ]
    },
    {
      "cell_type": "code",
      "source": [
        "import numpy as np\n",
        "\n",
        "# Define arrays X and Y\n",
        "X = np.array([1, 2, 3, 4])\n",
        "Y = np.array([5, 6, 7, 8])\n",
        "\n",
        "# Compute the Cauchy matrix C\n",
        "C = 1 / (X[:, np.newaxis] - Y)\n",
        "\n",
        "print(\"Cauchy Matrix C:\")\n",
        "print(C)\n"
      ],
      "metadata": {
        "colab": {
          "base_uri": "https://localhost:8080/"
        },
        "id": "2WUKlrdMSzY6",
        "outputId": "954d539f-24b5-40a0-a7b0-0b15ab6a2b99"
      },
      "id": "2WUKlrdMSzY6",
      "execution_count": null,
      "outputs": [
        {
          "output_type": "stream",
          "name": "stdout",
          "text": [
            "Cauchy Matrix C:\n",
            "[[-0.25       -0.2        -0.16666667 -0.14285714]\n",
            " [-0.33333333 -0.25       -0.2        -0.16666667]\n",
            " [-0.5        -0.33333333 -0.25       -0.2       ]\n",
            " [-1.         -0.5        -0.33333333 -0.25      ]]\n"
          ]
        }
      ]
    },
    {
      "cell_type": "markdown",
      "id": "c8a2f65a",
      "metadata": {
        "id": "c8a2f65a"
      },
      "source": [
        "#### 48. Print the minimum and maximum representable value for each numpy scalar type (★★☆)"
      ]
    },
    {
      "cell_type": "code",
      "execution_count": null,
      "id": "35d844d6",
      "metadata": {
        "id": "35d844d6",
        "colab": {
          "base_uri": "https://localhost:8080/"
        },
        "outputId": "4b617476-e04e-485c-a7f4-2cc3f6037faf"
      },
      "outputs": [
        {
          "output_type": "stream",
          "name": "stdout",
          "text": [
            "Integer Type: int8\n",
            "Minimum Value: -128\n",
            "Maximum Value: 127\n",
            "\n",
            "Integer Type: int16\n",
            "Minimum Value: -32768\n",
            "Maximum Value: 32767\n",
            "\n",
            "Integer Type: int32\n",
            "Minimum Value: -2147483648\n",
            "Maximum Value: 2147483647\n",
            "\n",
            "Integer Type: int64\n",
            "Minimum Value: -9223372036854775808\n",
            "Maximum Value: 9223372036854775807\n",
            "\n",
            "Unsigned Integer Type: uint8\n",
            "Minimum Value: 0\n",
            "Maximum Value: 255\n",
            "\n",
            "Unsigned Integer Type: uint16\n",
            "Minimum Value: 0\n",
            "Maximum Value: 65535\n",
            "\n",
            "Unsigned Integer Type: uint32\n",
            "Minimum Value: 0\n",
            "Maximum Value: 4294967295\n",
            "\n",
            "Unsigned Integer Type: uint64\n",
            "Minimum Value: 0\n",
            "Maximum Value: 18446744073709551615\n",
            "\n",
            "Floating-Point Type: float16\n",
            "Minimum Value: -65504.0\n",
            "Maximum Value: 65504.0\n",
            "\n",
            "Floating-Point Type: float32\n",
            "Minimum Value: -3.4028234663852886e+38\n",
            "Maximum Value: 3.4028234663852886e+38\n",
            "\n",
            "Floating-Point Type: float64\n",
            "Minimum Value: -1.7976931348623157e+308\n",
            "Maximum Value: 1.7976931348623157e+308\n",
            "\n",
            "Floating-Point Type: float128\n",
            "Minimum Value: -inf\n",
            "Maximum Value: inf\n",
            "\n"
          ]
        }
      ],
      "source": [
        "import numpy as np\n",
        "\n",
        "# Integer types\n",
        "int_types = [np.int8, np.int16, np.int32, np.int64]\n",
        "for data_type in int_types:\n",
        "    info = np.iinfo(data_type)\n",
        "    print(f\"Integer Type: {data_type.__name__}\")\n",
        "    print(f\"Minimum Value: {info.min}\")\n",
        "    print(f\"Maximum Value: {info.max}\")\n",
        "    print()\n",
        "\n",
        "# Unsigned integer types\n",
        "uint_types = [np.uint8, np.uint16, np.uint32, np.uint64]\n",
        "for data_type in uint_types:\n",
        "    info = np.iinfo(data_type)\n",
        "    print(f\"Unsigned Integer Type: {data_type.__name__}\")\n",
        "    print(f\"Minimum Value: {info.min}\")\n",
        "    print(f\"Maximum Value: {info.max}\")\n",
        "    print()\n",
        "\n",
        "# Floating-point types\n",
        "float_types = [np.float16, np.float32, np.float64, np.float128]\n",
        "for data_type in float_types:\n",
        "    info = np.finfo(data_type)\n",
        "    print(f\"Floating-Point Type: {data_type.__name__}\")\n",
        "    print(f\"Minimum Value: {info.min}\")\n",
        "    print(f\"Maximum Value: {info.max}\")\n",
        "    print()\n"
      ]
    },
    {
      "cell_type": "markdown",
      "id": "11727a69",
      "metadata": {
        "id": "11727a69"
      },
      "source": [
        "#### 49. How to print all the values of an array? (★★☆)"
      ]
    },
    {
      "cell_type": "code",
      "execution_count": null,
      "id": "47e98473",
      "metadata": {
        "id": "47e98473",
        "colab": {
          "base_uri": "https://localhost:8080/"
        },
        "outputId": "e0f5253d-18d9-40cb-e698-fde37636cbbf"
      },
      "outputs": [
        {
          "output_type": "stream",
          "name": "stdout",
          "text": [
            "1\n",
            "2\n",
            "3\n",
            "4\n",
            "5\n"
          ]
        }
      ],
      "source": [
        "import numpy as np\n",
        "\n",
        "# Create a NumPy array\n",
        "my_array = np.array([1, 2, 3, 4, 5])\n",
        "\n",
        "# Iterate through the array and print each element\n",
        "for value in my_array:\n",
        "    print(value)\n"
      ]
    },
    {
      "cell_type": "markdown",
      "id": "e0e7d741",
      "metadata": {
        "id": "e0e7d741"
      },
      "source": [
        "#### 50. How to find the closest value (to a given scalar) in a vector? (★★☆)"
      ]
    },
    {
      "cell_type": "code",
      "execution_count": null,
      "id": "62cabf6f",
      "metadata": {
        "id": "62cabf6f",
        "colab": {
          "base_uri": "https://localhost:8080/"
        },
        "outputId": "0688257b-98ba-430c-955a-9d106f7b54da"
      },
      "outputs": [
        {
          "output_type": "stream",
          "name": "stdout",
          "text": [
            "Vector: [1 3 5 7 9]\n",
            "Scalar: 4\n",
            "Closest Value: 3\n"
          ]
        }
      ],
      "source": [
        "import numpy as np\n",
        "\n",
        "# Create a vector\n",
        "vector = np.array([1, 3, 5, 7, 9])\n",
        "\n",
        "# Scalar value to find the closest value to\n",
        "scalar = 4\n",
        "\n",
        "# Find the index of the closest value\n",
        "index = np.abs(vector - scalar).argmin()\n",
        "\n",
        "# Closest value in the vector\n",
        "closest_value = vector[index]\n",
        "\n",
        "print(\"Vector:\", vector)\n",
        "print(\"Scalar:\", scalar)\n",
        "print(\"Closest Value:\", closest_value)\n"
      ]
    },
    {
      "cell_type": "markdown",
      "id": "c5611b9e",
      "metadata": {
        "id": "c5611b9e"
      },
      "source": [
        "#### 51. Create a structured array representing a position (x,y) and a color (r,g,b) (★★☆)"
      ]
    },
    {
      "cell_type": "code",
      "execution_count": null,
      "id": "f622939d",
      "metadata": {
        "id": "f622939d",
        "colab": {
          "base_uri": "https://localhost:8080/"
        },
        "outputId": "9150fa7d-b42c-40a4-93a5-4b3c1f920353"
      },
      "outputs": [
        {
          "output_type": "stream",
          "name": "stdout",
          "text": [
            "[((0.19525426, 0.54522198), (255, 232, 211))\n",
            " ((0.98742538, 0.13005267), (195, 141,  66))\n",
            " ((0.97345825, 0.7525624 ), (135, 193,  22))\n",
            " ((0.15820566, 0.14748222), ( 11, 159, 126))\n",
            " ((0.24390772, 0.91333169), (159, 223, 195))]\n"
          ]
        }
      ],
      "source": [
        "import numpy as np\n",
        "dtype = [('position', [('x', float), ('y', float)]),\n",
        "         ('color', [('r', int), ('g', int), ('b', int)])]\n",
        "\n",
        "structured_array = np.zeros((5,), dtype=dtype)\n",
        "\n",
        "\n",
        "structured_array['position']['x'] = np.random.rand(5)\n",
        "structured_array['position']['y'] = np.random.rand(5)\n",
        "structured_array['color']['r'] = np.random.randint(0, 256, size=5)\n",
        "structured_array['color']['g'] = np.random.randint(0, 256, size=5)\n",
        "structured_array['color']['b'] = np.random.randint(0, 256, size=5)\n",
        "\n",
        "print(structured_array)\n"
      ]
    },
    {
      "cell_type": "markdown",
      "id": "d22b8574",
      "metadata": {
        "id": "d22b8574"
      },
      "source": [
        "#### 52. Consider a random vector with shape (100,2) representing coordinates, find point by point distances (★★☆)"
      ]
    },
    {
      "cell_type": "code",
      "execution_count": null,
      "id": "d5c9cdf8",
      "metadata": {
        "id": "d5c9cdf8",
        "colab": {
          "base_uri": "https://localhost:8080/"
        },
        "outputId": "09a24151-16b6-4976-b9e3-a8a9f39b46fd"
      },
      "outputs": [
        {
          "output_type": "stream",
          "name": "stdout",
          "text": [
            "Point-by-Point Distances:\n",
            "[[0.         0.16333621 0.49016112 ... 0.34181472 0.56028495 0.41176344]\n",
            " [0.16333621 0.         0.58131655 ... 0.42968128 0.71582138 0.5620657 ]\n",
            " [0.49016112 0.58131655 0.         ... 0.15212218 0.70382589 0.64472275]\n",
            " ...\n",
            " [0.34181472 0.42968128 0.15212218 ... 0.         0.64899744 0.56000081]\n",
            " [0.56028495 0.71582138 0.70382589 ... 0.64899744 0.         0.1596131 ]\n",
            " [0.41176344 0.5620657  0.64472275 ... 0.56000081 0.1596131  0.        ]]\n"
          ]
        }
      ],
      "source": [
        "import numpy as np\n",
        "from scipy.spatial.distance import cdist\n",
        "\n",
        "coordinates = np.random.rand(100, 2)\n",
        "\n",
        "distances = cdist(coordinates, coordinates)\n",
        "\n",
        "print(\"Point-by-Point Distances:\")\n",
        "print(distances)\n"
      ]
    },
    {
      "cell_type": "markdown",
      "id": "f5c164f2",
      "metadata": {
        "id": "f5c164f2"
      },
      "source": [
        "#### 53. How to convert a float (32 bits) array into an integer (32 bits) in place?"
      ]
    },
    {
      "cell_type": "code",
      "execution_count": null,
      "id": "ea262de8",
      "metadata": {
        "id": "ea262de8",
        "colab": {
          "base_uri": "https://localhost:8080/"
        },
        "outputId": "3932ff62-05b2-4069-f722-3775888ba686"
      },
      "outputs": [
        {
          "output_type": "stream",
          "name": "stdout",
          "text": [
            "Original Float Array:\n",
            "[0.03557138 0.14903428 0.6492643  0.46694374 0.01679878]\n",
            "\n",
            "Modified Integer Array:\n",
            "[1024570187 1041800305 1059468847 1055855424 1015651737]\n"
          ]
        }
      ],
      "source": [
        "import numpy as np\n",
        "\n",
        "float_array = np.random.rand(5).astype(np.float32)\n",
        "\n",
        "int_array = float_array.view(np.int32)\n",
        "int_array[:] += 10\n",
        "print(\"Original Float Array:\")\n",
        "print(float_array)\n",
        "\n",
        "print(\"\\nModified Integer Array:\")\n",
        "print(int_array)\n"
      ]
    },
    {
      "cell_type": "markdown",
      "id": "a8b7e6f5",
      "metadata": {
        "id": "a8b7e6f5"
      },
      "source": [
        "#### 54. How to read the following file? (★★☆)\n",
        "```\n",
        "1, 2, 3, 4, 5\n",
        "6,  ,  , 7, 8\n",
        " ,  , 9,10,11\n",
        "```"
      ]
    },
    {
      "cell_type": "code",
      "execution_count": null,
      "id": "bde0538a",
      "metadata": {
        "id": "bde0538a",
        "colab": {
          "base_uri": "https://localhost:8080/",
          "height": 529
        },
        "outputId": "9dc0432a-fb3f-43e2-b770-d006464d68eb"
      },
      "outputs": [
        {
          "output_type": "error",
          "ename": "TypeError",
          "evalue": "ignored",
          "traceback": [
            "\u001b[0;31m---------------------------------------------------------------------------\u001b[0m",
            "\u001b[0;31mTypeError\u001b[0m                                 Traceback (most recent call last)",
            "\u001b[0;32m/usr/local/lib/python3.10/dist-packages/numpy/lib/npyio.py\u001b[0m in \u001b[0;36mgenfromtxt\u001b[0;34m(fname, dtype, comments, delimiter, skip_header, skip_footer, converters, missing_values, filling_values, usecols, names, excludelist, deletechars, replace_space, autostrip, case_sensitive, defaultfmt, unpack, usemask, loose, invalid_raise, max_rows, encoding, ndmin, like)\u001b[0m\n\u001b[1;32m   1964\u001b[0m     \u001b[0;32mtry\u001b[0m\u001b[0;34m:\u001b[0m\u001b[0;34m\u001b[0m\u001b[0;34m\u001b[0m\u001b[0m\n\u001b[0;32m-> 1965\u001b[0;31m         \u001b[0mfhd\u001b[0m \u001b[0;34m=\u001b[0m \u001b[0miter\u001b[0m\u001b[0;34m(\u001b[0m\u001b[0mfid\u001b[0m\u001b[0;34m)\u001b[0m\u001b[0;34m\u001b[0m\u001b[0;34m\u001b[0m\u001b[0m\n\u001b[0m\u001b[1;32m   1966\u001b[0m     \u001b[0;32mexcept\u001b[0m \u001b[0mTypeError\u001b[0m \u001b[0;32mas\u001b[0m \u001b[0me\u001b[0m\u001b[0;34m:\u001b[0m\u001b[0;34m\u001b[0m\u001b[0;34m\u001b[0m\u001b[0m\n",
            "\u001b[0;31mTypeError\u001b[0m: iteration over a 0-d array",
            "\nThe above exception was the direct cause of the following exception:\n",
            "\u001b[0;31mTypeError\u001b[0m                                 Traceback (most recent call last)",
            "\u001b[0;32m<ipython-input-4-82f9342da4f2>\u001b[0m in \u001b[0;36m<cell line: 7>\u001b[0;34m()\u001b[0m\n\u001b[1;32m      5\u001b[0m  ,  , 9,10,11\"\"\"\n\u001b[1;32m      6\u001b[0m \u001b[0;34m\u001b[0m\u001b[0m\n\u001b[0;32m----> 7\u001b[0;31m \u001b[0mdata\u001b[0m \u001b[0;34m=\u001b[0m \u001b[0mnp\u001b[0m\u001b[0;34m.\u001b[0m\u001b[0mgenfromtxt\u001b[0m\u001b[0;34m(\u001b[0m\u001b[0mnp\u001b[0m\u001b[0;34m.\u001b[0m\u001b[0mcore\u001b[0m\u001b[0;34m.\u001b[0m\u001b[0mdefchararray\u001b[0m\u001b[0;34m.\u001b[0m\u001b[0msplit\u001b[0m\u001b[0;34m(\u001b[0m\u001b[0mfile_content\u001b[0m\u001b[0;34m,\u001b[0m \u001b[0;34m','\u001b[0m\u001b[0;34m)\u001b[0m\u001b[0;34m,\u001b[0m \u001b[0mdelimiter\u001b[0m\u001b[0;34m=\u001b[0m\u001b[0;34m','\u001b[0m\u001b[0;34m,\u001b[0m \u001b[0mfilling_values\u001b[0m\u001b[0;34m=\u001b[0m\u001b[0;36m0\u001b[0m\u001b[0;34m)\u001b[0m\u001b[0;34m\u001b[0m\u001b[0;34m\u001b[0m\u001b[0m\n\u001b[0m\u001b[1;32m      8\u001b[0m \u001b[0;34m\u001b[0m\u001b[0m\n\u001b[1;32m      9\u001b[0m \u001b[0mprint\u001b[0m\u001b[0;34m(\u001b[0m\u001b[0;34m\"Parsed Data:\"\u001b[0m\u001b[0;34m)\u001b[0m\u001b[0;34m\u001b[0m\u001b[0;34m\u001b[0m\u001b[0m\n",
            "\u001b[0;32m/usr/local/lib/python3.10/dist-packages/numpy/lib/npyio.py\u001b[0m in \u001b[0;36mgenfromtxt\u001b[0;34m(fname, dtype, comments, delimiter, skip_header, skip_footer, converters, missing_values, filling_values, usecols, names, excludelist, deletechars, replace_space, autostrip, case_sensitive, defaultfmt, unpack, usemask, loose, invalid_raise, max_rows, encoding, ndmin, like)\u001b[0m\n\u001b[1;32m   1965\u001b[0m         \u001b[0mfhd\u001b[0m \u001b[0;34m=\u001b[0m \u001b[0miter\u001b[0m\u001b[0;34m(\u001b[0m\u001b[0mfid\u001b[0m\u001b[0;34m)\u001b[0m\u001b[0;34m\u001b[0m\u001b[0;34m\u001b[0m\u001b[0m\n\u001b[1;32m   1966\u001b[0m     \u001b[0;32mexcept\u001b[0m \u001b[0mTypeError\u001b[0m \u001b[0;32mas\u001b[0m \u001b[0me\u001b[0m\u001b[0;34m:\u001b[0m\u001b[0;34m\u001b[0m\u001b[0;34m\u001b[0m\u001b[0m\n\u001b[0;32m-> 1967\u001b[0;31m         raise TypeError(\n\u001b[0m\u001b[1;32m   1968\u001b[0m             \u001b[0;34m\"fname must be a string, a filehandle, a sequence of strings,\\n\"\u001b[0m\u001b[0;34m\u001b[0m\u001b[0;34m\u001b[0m\u001b[0m\n\u001b[1;32m   1969\u001b[0m             \u001b[0;34mf\"or an iterator of strings. Got {type(fname)} instead.\"\u001b[0m\u001b[0;34m\u001b[0m\u001b[0;34m\u001b[0m\u001b[0m\n",
            "\u001b[0;31mTypeError\u001b[0m: fname must be a string, a filehandle, a sequence of strings,\nor an iterator of strings. Got <class 'numpy.ndarray'> instead."
          ]
        }
      ],
      "source": [
        "import numpy as np\n",
        "\n",
        "file_content = \"\"\"1, 2, 3, 4, 5\n",
        "6,  ,  , 7, 8\n",
        " ,  , 9,10,11\"\"\"\n",
        "\n",
        "data = np.genfromtxt(np.core.defchararray.split(file_content, ','), delimiter=',', filling_values=0)\n",
        "\n",
        "print(\"Parsed Data:\")\n",
        "print(data)\n"
      ]
    },
    {
      "cell_type": "markdown",
      "id": "c6b32834",
      "metadata": {
        "id": "c6b32834"
      },
      "source": [
        "#### 55. What is the equivalent of enumerate for numpy arrays? (★★☆)"
      ]
    },
    {
      "cell_type": "code",
      "execution_count": null,
      "id": "ab02472a",
      "metadata": {
        "id": "ab02472a",
        "colab": {
          "base_uri": "https://localhost:8080/"
        },
        "outputId": "c3748227-54ac-48fb-f5fd-8f330e4241b2"
      },
      "outputs": [
        {
          "output_type": "stream",
          "name": "stdout",
          "text": [
            "(0, 0) 1\n",
            "(0, 1) 2\n",
            "(0, 2) 3\n",
            "(1, 0) 4\n",
            "(1, 1) 5\n",
            "(1, 2) 6\n",
            "(2, 0) 7\n",
            "(2, 1) 8\n",
            "(2, 2) 9\n"
          ]
        }
      ],
      "source": [
        "import numpy as np\n",
        "\n",
        "\n",
        "arr = np.array([[1, 2, 3], [4, 5, 6], [7, 8, 9]])\n",
        "\n",
        "for index, value in np.ndenumerate(arr):\n",
        "    print(index, value)\n"
      ]
    },
    {
      "cell_type": "markdown",
      "id": "a2121a05",
      "metadata": {
        "id": "a2121a05"
      },
      "source": [
        "#### 56. Generate a generic 2D Gaussian-like array (★★☆)"
      ]
    },
    {
      "cell_type": "code",
      "execution_count": null,
      "id": "18507102",
      "metadata": {
        "id": "18507102",
        "colab": {
          "base_uri": "https://localhost:8080/",
          "height": 472
        },
        "outputId": "637ed4bb-73c9-49a7-93fb-ba073503fa0e"
      },
      "outputs": [
        {
          "output_type": "display_data",
          "data": {
            "text/plain": [
              "<Figure size 640x480 with 2 Axes>"
            ],
            "image/png": "[encoded data removed]"
          },
          "metadata": {}
        }
      ],
      "source": [
        "import numpy as np\n",
        "import matplotlib.pyplot as plt\n",
        "\n",
        "def gaussian_2d(x, y, sigma):\n",
        "    return np.exp(-(x**2 + y**2) / (2 * sigma**2))\n",
        "size = 100\n",
        "sigma = 10\n",
        "x, y = np.meshgrid(np.linspace(-size/2, size/2, size), np.linspace(-size/2, size/2, size))\n",
        "\n",
        "gaussian_array = gaussian_2d(x, y, sigma)\n",
        "\n",
        "plt.imshow(gaussian_array, cmap='viridis', extent=(-size/2, size/2, -size/2, size/2))\n",
        "plt.title('2D Gaussian-like Array')\n",
        "plt.xlabel('X')\n",
        "plt.ylabel('Y')\n",
        "plt.colorbar()\n",
        "plt.show()\n"
      ]
    },
    {
      "cell_type": "markdown",
      "id": "97055efa",
      "metadata": {
        "id": "97055efa"
      },
      "source": [
        "#### 57. How to randomly place p elements in a 2D array? (★★☆)"
      ]
    },
    {
      "cell_type": "code",
      "execution_count": null,
      "id": "292e842f",
      "metadata": {
        "id": "292e842f",
        "colab": {
          "base_uri": "https://localhost:8080/"
        },
        "outputId": "074d98d5-efe2-4939-c6d8-7d3d3f451526"
      },
      "outputs": [
        {
          "output_type": "stream",
          "name": "stdout",
          "text": [
            "Randomly Placed 2D Array:\n",
            "[[0.41027722 0.         0.         0.         0.        ]\n",
            " [0.         0.         0.5195903  0.         0.        ]\n",
            " [0.         0.         0.23257013 0.         0.        ]\n",
            " [0.         0.         0.1302043  0.89436568 0.99827528]\n",
            " [0.38061001 0.8533822  0.07995061 0.         0.49222149]]\n"
          ]
        }
      ],
      "source": [
        "import numpy as np\n",
        "\n",
        "def randomly_place_elements(arr, p):\n",
        "    size = arr.size\n",
        "    indices = np.random.choice(size, p, replace=False)\n",
        "\n",
        "    arr.flat[indices] = np.random.rand(p)\n",
        "\n",
        "array_size = (5, 5)\n",
        "my_array = np.zeros(array_size)\n",
        "\n",
        "num_elements_to_place = 10\n",
        "\n",
        "randomly_place_elements(my_array, num_elements_to_place)\n",
        "\n",
        "print(\"Randomly Placed 2D Array:\")\n",
        "print(my_array)\n"
      ]
    },
    {
      "cell_type": "markdown",
      "id": "bfd2513c",
      "metadata": {
        "id": "bfd2513c"
      },
      "source": [
        "#### 58. Subtract the mean of each row of a matrix (★★☆)"
      ]
    },
    {
      "cell_type": "code",
      "execution_count": null,
      "id": "f306ab72",
      "metadata": {
        "id": "f306ab72",
        "colab": {
          "base_uri": "https://localhost:8080/"
        },
        "outputId": "d29aa6ad-f0dd-4f11-dfdf-78054ab3a9f7"
      },
      "outputs": [
        {
          "output_type": "stream",
          "name": "stdout",
          "text": [
            "Original Matrix:\n",
            "[[1 2 3]\n",
            " [4 5 6]\n",
            " [7 8 9]]\n",
            "\n",
            "Matrix with Row-wise Mean Subtracted:\n",
            "[[-1.  0.  1.]\n",
            " [-1.  0.  1.]\n",
            " [-1.  0.  1.]]\n"
          ]
        }
      ],
      "source": [
        "import numpy as np\n",
        "\n",
        "matrix = np.array([[1, 2, 3],\n",
        "                   [4, 5, 6],\n",
        "                   [7, 8, 9]])\n",
        "\n",
        "result_matrix = matrix - np.mean(matrix, axis=1, keepdims=True)\n",
        "\n",
        "print(\"Original Matrix:\")\n",
        "print(matrix)\n",
        "print(\"\\nMatrix with Row-wise Mean Subtracted:\")\n",
        "print(result_matrix)\n"
      ]
    },
    {
      "cell_type": "markdown",
      "id": "da9f2f9b",
      "metadata": {
        "id": "da9f2f9b"
      },
      "source": [
        "#### 59. How to sort an array by the nth column? (★★☆)"
      ]
    },
    {
      "cell_type": "code",
      "execution_count": null,
      "id": "68cde57f",
      "metadata": {
        "id": "68cde57f",
        "colab": {
          "base_uri": "https://localhost:8080/"
        },
        "outputId": "40f7d3a9-467b-4daf-bd24-636448585520"
      },
      "outputs": [
        {
          "output_type": "stream",
          "name": "stdout",
          "text": [
            "Original Array:\n",
            "[[1 4 7]\n",
            " [2 5 8]\n",
            " [3 6 9]]\n",
            "\n",
            "Sorted Array by the nth Column:\n",
            "[[1 4 7]\n",
            " [2 5 8]\n",
            " [3 6 9]]\n"
          ]
        }
      ],
      "source": [
        "import numpy as np\n",
        "\n",
        "array = np.array([[1, 4, 7],\n",
        "                  [2, 5, 8],\n",
        "                  [3, 6, 9]])\n",
        "\n",
        "nth_column = 1\n",
        "\n",
        "sorted_indices = np.argsort(array[:, nth_column])\n",
        "\n",
        "sorted_array = array[sorted_indices]\n",
        "\n",
        "print(\"Original Array:\")\n",
        "print(array)\n",
        "print(\"\\nSorted Array by the nth Column:\")\n",
        "print(sorted_array)\n"
      ]
    },
    {
      "cell_type": "markdown",
      "id": "5b7be45c",
      "metadata": {
        "id": "5b7be45c"
      },
      "source": [
        "#### 60. How to tell if a given 2D array has null columns? (★★☆)"
      ]
    },
    {
      "cell_type": "code",
      "execution_count": null,
      "id": "7dbe2c27",
      "metadata": {
        "id": "7dbe2c27",
        "colab": {
          "base_uri": "https://localhost:8080/"
        },
        "outputId": "5383d791-bb6a-42a9-f37a-199b19e10bf2"
      },
      "outputs": [
        {
          "output_type": "stream",
          "name": "stdout",
          "text": [
            "Original Array:\n",
            "[[1 0 3]\n",
            " [0 0 0]\n",
            " [4 0 6]]\n",
            "\n",
            "Null Columns:\n",
            "[False  True False]\n",
            "\n",
            "Does the array have null columns? True\n"
          ]
        }
      ],
      "source": [
        "import numpy as np\n",
        "\n",
        "array = np.array([[1, 0, 3],\n",
        "                  [0, 0, 0],\n",
        "                  [4, 0, 6]])\n",
        "\n",
        "null_columns = np.all(array == 0, axis=0)\n",
        "\n",
        "has_null_columns = np.any(null_columns)\n",
        "\n",
        "print(\"Original Array:\")\n",
        "print(array)\n",
        "print(\"\\nNull Columns:\")\n",
        "print(null_columns)\n",
        "print(\"\\nDoes the array have null columns? {}\".format(has_null_columns))\n"
      ]
    },
    {
      "cell_type": "markdown",
      "id": "7c18c02e",
      "metadata": {
        "id": "7c18c02e"
      },
      "source": [
        "#### 61. Find the nearest value from a given value in an array (★★☆)"
      ]
    },
    {
      "cell_type": "code",
      "execution_count": null,
      "id": "b78ae9c4",
      "metadata": {
        "id": "b78ae9c4",
        "colab": {
          "base_uri": "https://localhost:8080/"
        },
        "outputId": "d5f0676d-6d21-4138-b1e4-dcd9575ea2f4"
      },
      "outputs": [
        {
          "output_type": "stream",
          "name": "stdout",
          "text": [
            "Original Array:\n",
            "[ 1  4  7 10 13]\n",
            "\n",
            "Given Value: 8\n",
            "Nearest Value: 7\n"
          ]
        }
      ],
      "source": [
        "import numpy as np\n",
        "\n",
        "array = np.array([1, 4, 7, 10, 13])\n",
        "\n",
        "given_value = 8\n",
        "\n",
        "nearest_index = np.abs(array - given_value).argmin()\n",
        "\n",
        "nearest_value = array[nearest_index]\n",
        "\n",
        "print(\"Original Array:\")\n",
        "print(array)\n",
        "print(\"\\nGiven Value:\", given_value)\n",
        "print(\"Nearest Value:\", nearest_value)\n"
      ]
    },
    {
      "cell_type": "markdown",
      "id": "8174ba2c",
      "metadata": {
        "id": "8174ba2c"
      },
      "source": [
        "#### 62. Considering two arrays with shape (1,3) and (3,1), how to compute their sum using an iterator? (★★☆)"
      ]
    },
    {
      "cell_type": "code",
      "execution_count": null,
      "id": "8a18fe57",
      "metadata": {
        "id": "8a18fe57",
        "colab": {
          "base_uri": "https://localhost:8080/"
        },
        "outputId": "fba332a9-cd50-4707-c355-768d81f1141e"
      },
      "outputs": [
        {
          "output_type": "stream",
          "name": "stdout",
          "text": [
            "Array 1:\n",
            "[[1 2 3]]\n",
            "\n",
            "Array 2:\n",
            "[[4]\n",
            " [5]\n",
            " [6]]\n",
            "\n",
            "Sum using Iterator:\n",
            "[[5 6 7]\n",
            " [6 7 8]\n",
            " [7 8 9]]\n"
          ]
        }
      ],
      "source": [
        "import numpy as np\n",
        "\n",
        "array1 = np.array([[1, 2, 3]])\n",
        "array2 = np.array([[4], [5], [6]])\n",
        "\n",
        "it = np.nditer([array1, array2, None])\n",
        "\n",
        "for x, y, z in it:\n",
        "    z[...] = x + y\n",
        "\n",
        "result = it.operands[2]\n",
        "\n",
        "print(\"Array 1:\")\n",
        "print(array1)\n",
        "\n",
        "print(\"\\nArray 2:\")\n",
        "print(array2)\n",
        "\n",
        "print(\"\\nSum using Iterator:\")\n",
        "print(result)\n"
      ]
    },
    {
      "cell_type": "markdown",
      "id": "9189bd7c",
      "metadata": {
        "id": "9189bd7c"
      },
      "source": [
        "#### 63. Create an array class that has a name attribute (★★☆)"
      ]
    },
    {
      "cell_type": "code",
      "execution_count": null,
      "id": "1c01ed42",
      "metadata": {
        "id": "1c01ed42",
        "colab": {
          "base_uri": "https://localhost:8080/"
        },
        "outputId": "b254df04-d7b6-4ae3-adf3-86ed50afdc0f"
      },
      "outputs": [
        {
          "output_type": "stream",
          "name": "stdout",
          "text": [
            "Array 1: [1, 2, 3, 4, 5]\n",
            "Array 2: [5, 4, 3, 2, 1]\n"
          ]
        }
      ],
      "source": [
        "class NamedArray:\n",
        "    def __init__(self, name, array):\n",
        "        self.name = name\n",
        "        self.array = array\n",
        "\n",
        "if __name__ == \"__main__\":\n",
        "    array1 = NamedArray(\"Array 1\", [1, 2, 3, 4, 5])\n",
        "    array2 = NamedArray(\"Array 2\", [5, 4, 3, 2, 1])\n",
        "\n",
        "    # Access the name and array attributes\n",
        "    print(f\"{array1.name}: {array1.array}\")\n",
        "    print(f\"{array2.name}: {array2.array}\")\n"
      ]
    },
    {
      "cell_type": "markdown",
      "id": "f30162d2",
      "metadata": {
        "id": "f30162d2"
      },
      "source": [
        "#### 64. Consider a given vector, how to add 1 to each element indexed by a second vector (be careful with repeated indices)? (★★★)"
      ]
    },
    {
      "cell_type": "code",
      "execution_count": null,
      "id": "093ba36f",
      "metadata": {
        "id": "093ba36f",
        "colab": {
          "base_uri": "https://localhost:8080/"
        },
        "outputId": "f706d2b2-8f29-4bd6-9a0c-47d01dfadb01"
      },
      "outputs": [
        {
          "output_type": "stream",
          "name": "stdout",
          "text": [
            "Given Vector:\n",
            "[0 1 2 3 4 5]\n",
            "\n",
            "Indices Vector:\n",
            "[1 3 2 1 3 4]\n",
            "\n",
            "Result Vector:\n",
            "[0 3 3 5 5 5]\n"
          ]
        }
      ],
      "source": [
        "import numpy as np\n",
        "\n",
        "def add_one_at_indices(vector, indices):\n",
        "    unique_indices, counts = np.unique(indices, return_counts=True)\n",
        "\n",
        "    result_vector = vector.copy()\n",
        "    result_vector[unique_indices] += counts\n",
        "\n",
        "    return result_vector\n",
        "\n",
        "if __name__ == \"__main__\":\n",
        "    given_vector = np.array([0, 1, 2, 3, 4, 5])\n",
        "\n",
        "\n",
        "    indices_vector = np.array([1, 3, 2, 1, 3, 4])\n",
        "\n",
        "    result_vector = add_one_at_indices(given_vector, indices_vector)\n",
        "\n",
        "    print(\"Given Vector:\")\n",
        "    print(given_vector)\n",
        "\n",
        "    print(\"\\nIndices Vector:\")\n",
        "    print(indices_vector)\n",
        "\n",
        "    print(\"\\nResult Vector:\")\n",
        "    print(result_vector)\n"
      ]
    },
    {
      "cell_type": "markdown",
      "id": "f5b1c584",
      "metadata": {
        "id": "f5b1c584"
      },
      "source": [
        "#### 65. How to accumulate elements of a vector (X) to an array (F) based on an index list (I)? (★★★)"
      ]
    },
    {
      "cell_type": "code",
      "execution_count": null,
      "id": "c9d92a75",
      "metadata": {
        "id": "c9d92a75",
        "colab": {
          "base_uri": "https://localhost:8080/"
        },
        "outputId": "cc62e7c5-8145-443b-eb67-dc2a4ca32f63"
      },
      "outputs": [
        {
          "output_type": "stream",
          "name": "stdout",
          "text": [
            "Vector X:\n",
            "[1 2 3 4 5]\n",
            "\n",
            "Array F:\n",
            "[0. 5. 3. 7. 0. 0. 0. 0. 0. 0.]\n",
            "\n",
            "Index List I:\n",
            "[1 3 2 1 3]\n"
          ]
        }
      ],
      "source": [
        "import numpy as np\n",
        "\n",
        "def accumulate_elements(X, F, I):\n",
        "    np.add.at(F, I, X)\n",
        "\n",
        "if __name__ == \"__main__\":\n",
        "\n",
        "    X = np.array([1, 2, 3, 4, 5])\n",
        "\n",
        "    F = np.zeros(10)\n",
        "\n",
        "    I = np.array([1, 3, 2, 1, 3])\n",
        "\n",
        "    accumulate_elements(X, F, I)\n",
        "\n",
        "    print(\"Vector X:\")\n",
        "    print(X)\n",
        "\n",
        "    print(\"\\nArray F:\")\n",
        "    print(F)\n",
        "\n",
        "    print(\"\\nIndex List I:\")\n",
        "    print(I)\n"
      ]
    },
    {
      "cell_type": "markdown",
      "id": "994c452d",
      "metadata": {
        "id": "994c452d"
      },
      "source": [
        "#### 66. Considering a (w,h,3) image of (dtype=ubyte), compute the number of unique colors (★★☆)"
      ]
    },
    {
      "cell_type": "code",
      "execution_count": null,
      "id": "269cdaea",
      "metadata": {
        "id": "269cdaea",
        "colab": {
          "base_uri": "https://localhost:8080/",
          "height": 366
        },
        "outputId": "f278c148-823a-4d47-e6d4-cf3b1390c2cb"
      },
      "outputs": [
        {
          "output_type": "error",
          "ename": "ValueError",
          "evalue": "ignored",
          "traceback": [
            "\u001b[0;31m---------------------------------------------------------------------------\u001b[0m",
            "\u001b[0;31mValueError\u001b[0m                                Traceback (most recent call last)",
            "\u001b[0;32m<ipython-input-17-75adbb3f917a>\u001b[0m in \u001b[0;36m<cell line: 17>\u001b[0;34m()\u001b[0m\n\u001b[1;32m     21\u001b[0m \u001b[0;34m\u001b[0m\u001b[0m\n\u001b[1;32m     22\u001b[0m     \u001b[0;31m# Compute the number of unique colors\u001b[0m\u001b[0;34m\u001b[0m\u001b[0;34m\u001b[0m\u001b[0m\n\u001b[0;32m---> 23\u001b[0;31m     \u001b[0mnum_unique_colors\u001b[0m \u001b[0;34m=\u001b[0m \u001b[0mcount_unique_colors\u001b[0m\u001b[0;34m(\u001b[0m\u001b[0mimage\u001b[0m\u001b[0;34m)\u001b[0m\u001b[0;34m\u001b[0m\u001b[0;34m\u001b[0m\u001b[0m\n\u001b[0m\u001b[1;32m     24\u001b[0m \u001b[0;34m\u001b[0m\u001b[0m\n\u001b[1;32m     25\u001b[0m     \u001b[0mprint\u001b[0m\u001b[0;34m(\u001b[0m\u001b[0;34m\"Number of Unique Colors:\"\u001b[0m\u001b[0;34m,\u001b[0m \u001b[0mnum_unique_colors\u001b[0m\u001b[0;34m)\u001b[0m\u001b[0;34m\u001b[0m\u001b[0;34m\u001b[0m\u001b[0m\n",
            "\u001b[0;32m<ipython-input-17-75adbb3f917a>\u001b[0m in \u001b[0;36mcount_unique_colors\u001b[0;34m(image)\u001b[0m\n\u001b[1;32m      6\u001b[0m \u001b[0;34m\u001b[0m\u001b[0m\n\u001b[1;32m      7\u001b[0m     \u001b[0;31m# Convert the dtype to uint32 to use it as a hashable key\u001b[0m\u001b[0;34m\u001b[0m\u001b[0;34m\u001b[0m\u001b[0m\n\u001b[0;32m----> 8\u001b[0;31m     \u001b[0mreshaped_image_uint32\u001b[0m \u001b[0;34m=\u001b[0m \u001b[0mreshaped_image\u001b[0m\u001b[0;34m.\u001b[0m\u001b[0mview\u001b[0m\u001b[0;34m(\u001b[0m\u001b[0mnp\u001b[0m\u001b[0;34m.\u001b[0m\u001b[0muint32\u001b[0m\u001b[0;34m)\u001b[0m\u001b[0;34m\u001b[0m\u001b[0;34m\u001b[0m\u001b[0m\n\u001b[0m\u001b[1;32m      9\u001b[0m \u001b[0;34m\u001b[0m\u001b[0m\n\u001b[1;32m     10\u001b[0m     \u001b[0;31m# Find unique colors by converting to a set\u001b[0m\u001b[0;34m\u001b[0m\u001b[0;34m\u001b[0m\u001b[0m\n",
            "\u001b[0;31mValueError\u001b[0m: When changing to a larger dtype, its size must be a divisor of the total size in bytes of the last axis of the array."
          ]
        }
      ],
      "source": [
        "import numpy as np\n",
        "\n",
        "def count_unique_colors(image):\n",
        "    # Reshape the image to a 2D array where each row represents a color\n",
        "    reshaped_image = image.reshape((-1, 3))\n",
        "\n",
        "    # Convert the dtype to uint32 to use it as a hashable key\n",
        "    reshaped_image_uint32 = reshaped_image.view(np.uint32)\n",
        "\n",
        "    # Find unique colors by converting to a set\n",
        "    unique_colors_set = set(reshaped_image_uint32)\n",
        "\n",
        "    # Return the number of unique colors\n",
        "    return len(unique_colors_set)\n",
        "\n",
        "# Example usage:\n",
        "if __name__ == \"__main__\":\n",
        "    # Create a sample image (replace this with your actual image)\n",
        "    w, h = 3, 3\n",
        "    image = np.random.randint(0, 256, (w, h, 3), dtype=np.uint8)\n",
        "\n",
        "    # Compute the number of unique colors\n",
        "    num_unique_colors = count_unique_colors(image)\n",
        "\n",
        "    print(\"Number of Unique Colors:\", num_unique_colors)\n"
      ]
    },
    {
      "cell_type": "markdown",
      "id": "4bddeb31",
      "metadata": {
        "id": "4bddeb31"
      },
      "source": [
        "#### 67. Considering a four dimensions array, how to get sum over the last two axis at once? (★★★)"
      ]
    },
    {
      "cell_type": "code",
      "execution_count": null,
      "id": "32af15f5",
      "metadata": {
        "id": "32af15f5",
        "colab": {
          "base_uri": "https://localhost:8080/"
        },
        "outputId": "6934bedd-5f19-4105-d718-a077a8649845"
      },
      "outputs": [
        {
          "output_type": "stream",
          "name": "stdout",
          "text": [
            "Original 4D Array:\n",
            "[[[[0.97538346 0.95185413 0.80776138 0.14071374 0.31252497]\n",
            "   [0.04843987 0.68594017 0.96065036 0.04247931 0.78313131]\n",
            "   [0.40598449 0.46224889 0.71155951 0.80427546 0.78035801]\n",
            "   [0.41142929 0.06709986 0.47054982 0.78313186 0.19390804]]\n",
            "\n",
            "  [[0.69837471 0.20943783 0.25291686 0.21342723 0.50215207]\n",
            "   [0.00742831 0.04456838 0.90330181 0.38467811 0.72200599]\n",
            "   [0.94582831 0.05859732 0.96840513 0.52742312 0.85079483]\n",
            "   [0.86527838 0.47268151 0.62695787 0.93725314 0.14677191]]\n",
            "\n",
            "  [[0.94965459 0.83419799 0.07693164 0.81224032 0.62870255]\n",
            "   [0.00891088 0.35448071 0.37422453 0.45281527 0.32535932]\n",
            "   [0.07547785 0.12081716 0.37590893 0.63134239 0.16930129]\n",
            "   [0.81554254 0.07522401 0.93400003 0.89963445 0.97470055]]]\n",
            "\n",
            "\n",
            " [[[0.22829292 0.30681025 0.03263103 0.02774744 0.40573975]\n",
            "   [0.2127011  0.83620496 0.34432631 0.88872994 0.10064885]\n",
            "   [0.67818792 0.32277804 0.68296025 0.27445006 0.65109938]\n",
            "   [0.75892263 0.96088912 0.7528211  0.44419396 0.79913656]]\n",
            "\n",
            "  [[0.32174612 0.16414667 0.23225421 0.42208025 0.53577545]\n",
            "   [0.87416866 0.46747386 0.97365254 0.66632915 0.84121186]\n",
            "   [0.02248778 0.67505591 0.64684272 0.51042563 0.26046595]\n",
            "   [0.77913307 0.14291092 0.5387255  0.36457369 0.35656345]]\n",
            "\n",
            "  [[0.53164808 0.52700584 0.66696864 0.70735343 0.18248133]\n",
            "   [0.5952738  0.72860538 0.98705068 0.70625216 0.03306112]\n",
            "   [0.97187181 0.85353549 0.22982309 0.93853501 0.60772117]\n",
            "   [0.13447494 0.04371117 0.15397446 0.81166465 0.88771463]]]]\n",
            "\n",
            "Sum Over Last Two Axes:\n",
            "[[10.79942393 10.33828281  9.88946698]\n",
            " [ 9.70927156  9.79602335 11.29872688]]\n"
          ]
        }
      ],
      "source": [
        "import numpy as np\n",
        "\n",
        "array_4d = np.random.random((2, 3, 4, 5))\n",
        "\n",
        "sum_over_last_two_axes = np.sum(array_4d, axis=(-2, -1))\n",
        "\n",
        "print(\"Original 4D Array:\")\n",
        "print(array_4d)\n",
        "\n",
        "print(\"\\nSum Over Last Two Axes:\")\n",
        "print(sum_over_last_two_axes)\n"
      ]
    },
    {
      "cell_type": "markdown",
      "id": "c4cf083c",
      "metadata": {
        "id": "c4cf083c"
      },
      "source": [
        "#### 68. Considering a one-dimensional vector D, how to compute means of subsets of D using a vector S of same size describing subset  indices? (★★★)"
      ]
    },
    {
      "cell_type": "code",
      "execution_count": null,
      "id": "9600a2dd",
      "metadata": {
        "id": "9600a2dd",
        "colab": {
          "base_uri": "https://localhost:8080/"
        },
        "outputId": "1919e175-ad5b-440a-d5dc-1ca05375c164"
      },
      "outputs": [
        {
          "output_type": "stream",
          "name": "stdout",
          "text": [
            "Vector D:\n",
            "[ 1  2  3  4  5  6  7  8  9 10]\n",
            "\n",
            "Subset Indices Vector S:\n",
            "[0 1 0 1 2 2 3 3 4 4]\n",
            "\n",
            "Means of Subsets:\n",
            "[2.  3.  5.5 7.5 9.5]\n"
          ]
        }
      ],
      "source": [
        "import numpy as np\n",
        "\n",
        "def means_of_subsets(D, S):\n",
        "    unique_indices = np.unique(S)\n",
        "    means = [np.mean(D[S == index]) for index in unique_indices]\n",
        "    return np.array(means)\n",
        "\n",
        "if __name__ == \"__main__\":\n",
        "    D = np.array([1, 2, 3, 4, 5, 6, 7, 8, 9, 10])\n",
        "    S = np.array([0, 1, 0, 1, 2, 2, 3, 3, 4, 4])\n",
        "\n",
        "    subset_means = means_of_subsets(D, S)\n",
        "\n",
        "    print(\"Vector D:\")\n",
        "    print(D)\n",
        "\n",
        "    print(\"\\nSubset Indices Vector S:\")\n",
        "    print(S)\n",
        "\n",
        "    print(\"\\nMeans of Subsets:\")\n",
        "    print(subset_means)\n"
      ]
    },
    {
      "cell_type": "markdown",
      "id": "a5e316db",
      "metadata": {
        "id": "a5e316db"
      },
      "source": [
        "#### 69. How to get the diagonal of a dot product? (★★★)"
      ]
    },
    {
      "cell_type": "code",
      "execution_count": null,
      "id": "94735dbd",
      "metadata": {
        "id": "94735dbd",
        "colab": {
          "base_uri": "https://localhost:8080/"
        },
        "outputId": "55b99ad2-a717-4505-d869-45586c3fc3d8"
      },
      "outputs": [
        {
          "output_type": "stream",
          "name": "stdout",
          "text": [
            "Matrix A:\n",
            "[[0.77341317 0.97387779 0.16681171 0.8571925 ]\n",
            " [0.97305638 0.85313449 0.27123143 0.26689348]\n",
            " [0.70122691 0.92893556 0.39954848 0.7372197 ]]\n",
            "\n",
            "Matrix B:\n",
            "[[0.13884992 0.61224522 0.80115465]\n",
            " [0.82002234 0.06458147 0.75995232]\n",
            " [0.31293577 0.0675916  0.09508667]\n",
            " [0.21443884 0.02816856 0.4255234 ]]\n",
            "\n",
            "Dot Product:\n",
            "[[1.14200662 0.57183392 1.74034128]\n",
            " [0.97680849 0.67669677 1.5672701 ]\n",
            " [1.14223476 0.53708738 1.6194339 ]]\n",
            "\n",
            "Diagonal of Dot Product:\n",
            "[1.14200662 0.67669677 1.6194339 ]\n"
          ]
        }
      ],
      "source": [
        "import numpy as np\n",
        "\n",
        "A = np.random.random((3, 4))\n",
        "B = np.random.random((4, 3))\n",
        "\n",
        "dot_product = np.dot(A, B)\n",
        "\n",
        "diagonal = np.einsum('ii->i', dot_product)\n",
        "\n",
        "print(\"Matrix A:\")\n",
        "print(A)\n",
        "\n",
        "print(\"\\nMatrix B:\")\n",
        "print(B)\n",
        "\n",
        "print(\"\\nDot Product:\")\n",
        "print(dot_product)\n",
        "\n",
        "print(\"\\nDiagonal of Dot Product:\")\n",
        "print(diagonal)\n"
      ]
    },
    {
      "cell_type": "markdown",
      "id": "de727a7b",
      "metadata": {
        "id": "de727a7b"
      },
      "source": [
        "#### 70. Consider the vector [1, 2, 3, 4, 5], how to build a new vector with 3 consecutive zeros interleaved between each value? (★★★)"
      ]
    },
    {
      "cell_type": "code",
      "execution_count": null,
      "id": "982be812",
      "metadata": {
        "id": "982be812",
        "colab": {
          "base_uri": "https://localhost:8080/"
        },
        "outputId": "8bd631ab-c561-4d33-b5cf-1041c47a97b8"
      },
      "outputs": [
        {
          "output_type": "stream",
          "name": "stdout",
          "text": [
            "Original Vector:\n",
            "[1 2 3 4 5]\n",
            "\n",
            "New Vector with 3 Consecutive Zeros Interleaved:\n",
            "[1. 0. 0. 0. 2. 0. 0. 0. 3. 0. 0. 0. 4. 0. 0. 0. 5.]\n"
          ]
        }
      ],
      "source": [
        "import numpy as np\n",
        "\n",
        "original_vector = np.array([1, 2, 3, 4, 5])\n",
        "\n",
        "new_vector = np.zeros(len(original_vector) + 3 * (len(original_vector) - 1))\n",
        "new_vector[::4] = original_vector\n",
        "\n",
        "print(\"Original Vector:\")\n",
        "print(original_vector)\n",
        "\n",
        "print(\"\\nNew Vector with 3 Consecutive Zeros Interleaved:\")\n",
        "print(new_vector)\n"
      ]
    },
    {
      "cell_type": "markdown",
      "id": "a9a73d6b",
      "metadata": {
        "id": "a9a73d6b"
      },
      "source": [
        "#### 71. Consider an array of dimension (5,5,3), how to mulitply it by an array with dimensions (5,5)? (★★★)"
      ]
    },
    {
      "cell_type": "code",
      "execution_count": null,
      "id": "282a90cc",
      "metadata": {
        "id": "282a90cc",
        "colab": {
          "base_uri": "https://localhost:8080/",
          "height": 245
        },
        "outputId": "33402e7e-0606-49d2-ab6f-21f35d7f343e"
      },
      "outputs": [
        {
          "output_type": "error",
          "ename": "ValueError",
          "evalue": "ignored",
          "traceback": [
            "\u001b[0;31m---------------------------------------------------------------------------\u001b[0m",
            "\u001b[0;31mValueError\u001b[0m                                Traceback (most recent call last)",
            "\u001b[0;32m<ipython-input-22-8174fa2e37a8>\u001b[0m in \u001b[0;36m<cell line: 7>\u001b[0;34m()\u001b[0m\n\u001b[1;32m      5\u001b[0m \u001b[0marray_2d\u001b[0m \u001b[0;34m=\u001b[0m \u001b[0mnp\u001b[0m\u001b[0;34m.\u001b[0m\u001b[0mrandom\u001b[0m\u001b[0;34m.\u001b[0m\u001b[0mrandom\u001b[0m\u001b[0;34m(\u001b[0m\u001b[0;34m(\u001b[0m\u001b[0;36m5\u001b[0m\u001b[0;34m,\u001b[0m \u001b[0;36m5\u001b[0m\u001b[0;34m)\u001b[0m\u001b[0;34m)\u001b[0m\u001b[0;34m\u001b[0m\u001b[0;34m\u001b[0m\u001b[0m\n\u001b[1;32m      6\u001b[0m \u001b[0;34m\u001b[0m\u001b[0m\n\u001b[0;32m----> 7\u001b[0;31m \u001b[0mresult\u001b[0m \u001b[0;34m=\u001b[0m \u001b[0mnp\u001b[0m\u001b[0;34m.\u001b[0m\u001b[0mmatmul\u001b[0m\u001b[0;34m(\u001b[0m\u001b[0marray_3d\u001b[0m\u001b[0;34m,\u001b[0m \u001b[0mnp\u001b[0m\u001b[0;34m.\u001b[0m\u001b[0mexpand_dims\u001b[0m\u001b[0;34m(\u001b[0m\u001b[0marray_2d\u001b[0m\u001b[0;34m,\u001b[0m \u001b[0maxis\u001b[0m\u001b[0;34m=\u001b[0m\u001b[0;34m-\u001b[0m\u001b[0;36m1\u001b[0m\u001b[0;34m)\u001b[0m\u001b[0;34m)\u001b[0m\u001b[0;34m\u001b[0m\u001b[0;34m\u001b[0m\u001b[0m\n\u001b[0m\u001b[1;32m      8\u001b[0m \u001b[0;34m\u001b[0m\u001b[0m\n\u001b[1;32m      9\u001b[0m \u001b[0mprint\u001b[0m\u001b[0;34m(\u001b[0m\u001b[0;34m\"3D Array:\"\u001b[0m\u001b[0;34m)\u001b[0m\u001b[0;34m\u001b[0m\u001b[0;34m\u001b[0m\u001b[0m\n",
            "\u001b[0;31mValueError\u001b[0m: matmul: Input operand 1 has a mismatch in its core dimension 0, with gufunc signature (n?,k),(k,m?)->(n?,m?) (size 5 is different from 3)"
          ]
        }
      ],
      "source": [
        "import numpy as np\n",
        "\n",
        "array_3d = np.random.random((5, 5, 3))\n",
        "\n",
        "array_2d = np.random.random((5, 5))\n",
        "\n",
        "result = np.matmul(array_3d, np.expand_dims(array_2d, axis=-1))\n",
        "\n",
        "print(\"3D Array:\")\n",
        "print(array_3d)\n",
        "\n",
        "print(\"\\n2D Array:\")\n",
        "print(array_2d)\n",
        "\n",
        "print(\"\\nResult after Multiplication:\")\n",
        "print(result)\n"
      ]
    },
    {
      "cell_type": "markdown",
      "id": "a951c78f",
      "metadata": {
        "id": "a951c78f"
      },
      "source": [
        "#### 72. How to swap two rows of an array? (★★★)"
      ]
    },
    {
      "cell_type": "code",
      "execution_count": null,
      "id": "e29b3fde",
      "metadata": {
        "id": "e29b3fde",
        "colab": {
          "base_uri": "https://localhost:8080/"
        },
        "outputId": "26df28fd-b18c-4564-e9e6-a25f71dbbcfa"
      },
      "outputs": [
        {
          "output_type": "stream",
          "name": "stdout",
          "text": [
            "Original 2D Array:\n",
            "[[4 5 6]\n",
            " [1 2 3]\n",
            " [7 8 9]]\n"
          ]
        }
      ],
      "source": [
        "import numpy as np\n",
        "\n",
        "array_2d = np.array([[1, 2, 3],\n",
        "                     [4, 5, 6],\n",
        "                     [7, 8, 9]])\n",
        "row1, row2 = 0, 1\n",
        "array_2d[[row1, row2]] = array_2d[[row2, row1]]\n",
        "\n",
        "print(\"Original 2D Array:\")\n",
        "print(array_2d)\n"
      ]
    },
    {
      "cell_type": "markdown",
      "id": "43b639e8",
      "metadata": {
        "id": "43b639e8"
      },
      "source": [
        "#### 73. Consider a set of 10 triplets describing 10 triangles (with shared vertices), find the set of unique line segments composing all the  triangles (★★★)"
      ]
    },
    {
      "cell_type": "code",
      "execution_count": null,
      "id": "147e1034",
      "metadata": {
        "id": "147e1034",
        "colab": {
          "base_uri": "https://localhost:8080/"
        },
        "outputId": "37e6e053-5f7c-4724-bc25-698c8fb51b48"
      },
      "outputs": [
        {
          "output_type": "stream",
          "name": "stdout",
          "text": [
            "Triangle Triplets:\n",
            "[[ 1  2  3]\n",
            " [ 2  3  4]\n",
            " [ 3  4  5]\n",
            " [ 4  5  6]\n",
            " [ 5  6  7]\n",
            " [ 6  7  8]\n",
            " [ 7  8  9]\n",
            " [ 8  9 10]\n",
            " [ 9 10 11]\n",
            " [10 11 12]]\n",
            "\n",
            "Unique Line Segments:\n",
            "{(9, 10), (1, 2), (10, 11), (3, 4), (2, 3), (6, 7), (4, 5), (8, 9), (11, 12), (5, 6), (7, 8)}\n"
          ]
        }
      ],
      "source": [
        "import numpy as np\n",
        "\n",
        "triangle_triplets = np.array([\n",
        "    [1, 2, 3],\n",
        "    [2, 3, 4],\n",
        "    [3, 4, 5],\n",
        "    [4, 5, 6],\n",
        "    [5, 6, 7],\n",
        "    [6, 7, 8],\n",
        "    [7, 8, 9],\n",
        "    [8, 9, 10],\n",
        "    [9, 10, 11],\n",
        "    [10, 11, 12]\n",
        "])\n",
        "\n",
        "all_vertices = triangle_triplets.flatten()\n",
        "\n",
        "unique_line_segments = set()\n",
        "for i in range(0, len(all_vertices), 2):\n",
        "    segment = tuple(sorted([all_vertices[i], all_vertices[i + 1]]))\n",
        "    unique_line_segments.add(segment)\n",
        "\n",
        "print(\"Triangle Triplets:\")\n",
        "print(triangle_triplets)\n",
        "\n",
        "print(\"\\nUnique Line Segments:\")\n",
        "print(unique_line_segments)\n"
      ]
    },
    {
      "cell_type": "markdown",
      "id": "d41de585",
      "metadata": {
        "id": "d41de585"
      },
      "source": [
        "#### 74. Given a sorted array C that corresponds to a bincount, how to produce an array A such that np.bincount(A) == C? (★★★)"
      ]
    },
    {
      "cell_type": "code",
      "execution_count": null,
      "id": "5f5d6e36",
      "metadata": {
        "id": "5f5d6e36",
        "colab": {
          "base_uri": "https://localhost:8080/"
        },
        "outputId": "f3873882-63ac-4f8c-c79f-189e194c2d12"
      },
      "outputs": [
        {
          "output_type": "stream",
          "name": "stdout",
          "text": [
            "Array C:\n",
            "[0 1 2 0 3 1 2 3 4 1]\n",
            "\n",
            "Array A:\n",
            "[1 2 2 4 4 4 5 6 6 7 7 7 8 8 8 8 9]\n"
          ]
        }
      ],
      "source": [
        "import numpy as np\n",
        "\n",
        "C = np.array([0, 1, 2, 0, 3, 1, 2, 3, 4, 1])\n",
        "\n",
        "A = np.repeat(np.arange(len(C)), C)\n",
        "\n",
        "print(\"Array C:\")\n",
        "print(C)\n",
        "\n",
        "print(\"\\nArray A:\")\n",
        "print(A)\n"
      ]
    },
    {
      "cell_type": "markdown",
      "id": "b50adf7c",
      "metadata": {
        "id": "b50adf7c"
      },
      "source": [
        "#### 75. How to compute averages using a sliding window over an array? (★★★)"
      ]
    },
    {
      "cell_type": "code",
      "execution_count": null,
      "id": "e631a9d2",
      "metadata": {
        "id": "e631a9d2",
        "colab": {
          "base_uri": "https://localhost:8080/"
        },
        "outputId": "090c2f1e-4db2-4f5c-9cd9-b61602f2da1f"
      },
      "outputs": [
        {
          "output_type": "stream",
          "name": "stdout",
          "text": [
            "Original Array:\n",
            "[ 1  2  3  4  5  6  7  8  9 10]\n",
            "\n",
            "Sliding Window Averages (Window Size=3):\n",
            "[2. 3. 4. 5. 6. 7. 8. 9.]\n"
          ]
        }
      ],
      "source": [
        "import numpy as np\n",
        "\n",
        "def sliding_window_average(arr, window_size):\n",
        "    window = np.ones(window_size) / window_size\n",
        "    result = np.convolve(arr, window, mode='valid')\n",
        "    return result\n",
        "\n",
        "if __name__ == \"__main__\":\n",
        "\n",
        "    array = np.array([1, 2, 3, 4, 5, 6, 7, 8, 9, 10])\n",
        "    window_size = 3\n",
        "\n",
        "    averages = sliding_window_average(array, window_size)\n",
        "\n",
        "    print(\"Original Array:\")\n",
        "    print(array)\n",
        "\n",
        "    print(\"\\nSliding Window Averages (Window Size={}):\".format(window_size))\n",
        "    print(averages)\n"
      ]
    },
    {
      "cell_type": "markdown",
      "id": "1ab4c50d",
      "metadata": {
        "id": "1ab4c50d"
      },
      "source": [
        "#### 76. Consider a one-dimensional array Z, build a two-dimensional array whose first row is (Z[0],Z[1],Z[2]) and each subsequent row is  shifted by 1 (last row should be (Z[-3],Z[-2],Z[-1]) (★★★)"
      ]
    },
    {
      "cell_type": "code",
      "execution_count": null,
      "id": "3ccfe2c0",
      "metadata": {
        "id": "3ccfe2c0",
        "colab": {
          "base_uri": "https://localhost:8080/"
        },
        "outputId": "c12f35e1-dbc1-4258-a409-d5b58e96ef82"
      },
      "outputs": [
        {
          "output_type": "stream",
          "name": "stdout",
          "text": [
            "One-Dimensional Array Z:\n",
            "[1 2 3 4 5 6 7]\n",
            "\n",
            "Two-Dimensional Array with Shifted Rows:\n",
            "[[1 2 3]\n",
            " [2 3 4]\n",
            " [3 4 5]\n",
            " [4 5 6]\n",
            " [5 6 7]]\n"
          ]
        }
      ],
      "source": [
        "import numpy as np\n",
        "\n",
        "Z = np.array([1, 2, 3, 4, 5, 6, 7])\n",
        "\n",
        "rows = [Z[i:i+3] for i in range(len(Z)-2)]\n",
        "result_array = np.vstack(rows)\n",
        "\n",
        "print(\"One-Dimensional Array Z:\")\n",
        "print(Z)\n",
        "\n",
        "print(\"\\nTwo-Dimensional Array with Shifted Rows:\")\n",
        "print(result_array)\n"
      ]
    },
    {
      "cell_type": "markdown",
      "id": "5b4fe59d",
      "metadata": {
        "id": "5b4fe59d"
      },
      "source": [
        "#### 77. How to negate a boolean, or to change the sign of a float inplace? (★★★)"
      ]
    },
    {
      "cell_type": "code",
      "execution_count": null,
      "id": "3c2373ff",
      "metadata": {
        "id": "3c2373ff",
        "colab": {
          "base_uri": "https://localhost:8080/"
        },
        "outputId": "347eee12-35bc-4d38-b390-8eb4714acf44"
      },
      "outputs": [
        {
          "output_type": "stream",
          "name": "stdout",
          "text": [
            "Negated Boolean: False\n"
          ]
        }
      ],
      "source": [
        "my_boolean = True\n",
        "my_boolean = not my_boolean\n",
        "print(\"Negated Boolean:\", my_boolean)\n"
      ]
    },
    {
      "cell_type": "markdown",
      "id": "119ab5af",
      "metadata": {
        "id": "119ab5af"
      },
      "source": [
        "#### 78. Consider 2 sets of points P0,P1 describing lines (2d) and a point p, how to compute distance from p to each line i (P0[i],P1[i])? (★★★)"
      ]
    },
    {
      "cell_type": "code",
      "execution_count": null,
      "id": "1d8d06dc",
      "metadata": {
        "id": "1d8d06dc",
        "colab": {
          "base_uri": "https://localhost:8080/",
          "height": 303
        },
        "outputId": "3213ed17-4b06-44fc-8bce-317b1c0168d9"
      },
      "outputs": [
        {
          "output_type": "error",
          "ename": "ValueError",
          "evalue": "ignored",
          "traceback": [
            "\u001b[0;31m---------------------------------------------------------------------------\u001b[0m",
            "\u001b[0;31mValueError\u001b[0m                                Traceback (most recent call last)",
            "\u001b[0;32m<ipython-input-29-1b946d312cf5>\u001b[0m in \u001b[0;36m<cell line: 24>\u001b[0;34m()\u001b[0m\n\u001b[1;32m     28\u001b[0m     \u001b[0mp\u001b[0m \u001b[0;34m=\u001b[0m \u001b[0;34m(\u001b[0m\u001b[0;36m3\u001b[0m\u001b[0;34m,\u001b[0m \u001b[0;36m4\u001b[0m\u001b[0;34m)\u001b[0m\u001b[0;34m\u001b[0m\u001b[0;34m\u001b[0m\u001b[0m\n\u001b[1;32m     29\u001b[0m \u001b[0;34m\u001b[0m\u001b[0m\n\u001b[0;32m---> 30\u001b[0;31m     \u001b[0mdistances\u001b[0m \u001b[0;34m=\u001b[0m \u001b[0mdistance_to_lines\u001b[0m\u001b[0;34m(\u001b[0m\u001b[0mP0\u001b[0m\u001b[0;34m,\u001b[0m \u001b[0mP1\u001b[0m\u001b[0;34m,\u001b[0m \u001b[0mp\u001b[0m\u001b[0;34m)\u001b[0m\u001b[0;34m\u001b[0m\u001b[0;34m\u001b[0m\u001b[0m\n\u001b[0m\u001b[1;32m     31\u001b[0m \u001b[0;34m\u001b[0m\u001b[0m\n\u001b[1;32m     32\u001b[0m     \u001b[0mprint\u001b[0m\u001b[0;34m(\u001b[0m\u001b[0;34m\"Point p:\"\u001b[0m\u001b[0;34m,\u001b[0m \u001b[0mp\u001b[0m\u001b[0;34m)\u001b[0m\u001b[0;34m\u001b[0m\u001b[0;34m\u001b[0m\u001b[0m\n",
            "\u001b[0;32m<ipython-input-29-1b946d312cf5>\u001b[0m in \u001b[0;36mdistance_to_lines\u001b[0;34m(P0, P1, p)\u001b[0m\n\u001b[1;32m     11\u001b[0m     \u001b[0mw\u001b[0m \u001b[0;34m=\u001b[0m \u001b[0mp\u001b[0m \u001b[0;34m-\u001b[0m \u001b[0mP0\u001b[0m\u001b[0;34m\u001b[0m\u001b[0;34m\u001b[0m\u001b[0m\n\u001b[1;32m     12\u001b[0m \u001b[0;34m\u001b[0m\u001b[0m\n\u001b[0;32m---> 13\u001b[0;31m     \u001b[0mc1\u001b[0m \u001b[0;34m=\u001b[0m \u001b[0mnp\u001b[0m\u001b[0;34m.\u001b[0m\u001b[0mdot\u001b[0m\u001b[0;34m(\u001b[0m\u001b[0mw\u001b[0m\u001b[0;34m,\u001b[0m \u001b[0mv\u001b[0m\u001b[0;34m)\u001b[0m\u001b[0;34m\u001b[0m\u001b[0;34m\u001b[0m\u001b[0m\n\u001b[0m\u001b[1;32m     14\u001b[0m     \u001b[0mc2\u001b[0m \u001b[0;34m=\u001b[0m \u001b[0mnp\u001b[0m\u001b[0;34m.\u001b[0m\u001b[0mdot\u001b[0m\u001b[0;34m(\u001b[0m\u001b[0mv\u001b[0m\u001b[0;34m,\u001b[0m \u001b[0mv\u001b[0m\u001b[0;34m)\u001b[0m\u001b[0;34m\u001b[0m\u001b[0;34m\u001b[0m\u001b[0m\n\u001b[1;32m     15\u001b[0m     \u001b[0mb\u001b[0m \u001b[0;34m=\u001b[0m \u001b[0mc1\u001b[0m \u001b[0;34m/\u001b[0m \u001b[0mc2\u001b[0m\u001b[0;34m\u001b[0m\u001b[0;34m\u001b[0m\u001b[0m\n",
            "\u001b[0;32m/usr/local/lib/python3.10/dist-packages/numpy/core/overrides.py\u001b[0m in \u001b[0;36mdot\u001b[0;34m(*args, **kwargs)\u001b[0m\n",
            "\u001b[0;31mValueError\u001b[0m: shapes (3,2) and (3,2) not aligned: 2 (dim 1) != 3 (dim 0)"
          ]
        }
      ],
      "source": [
        "import numpy as np\n",
        "\n",
        "def distance_to_lines(P0, P1, p):\n",
        "    P0 = np.array(P0)\n",
        "    P1 = np.array(P1)\n",
        "    p = np.array(p)\n",
        "\n",
        "    v = P1 - P0\n",
        "\n",
        "\n",
        "    w = p - P0\n",
        "\n",
        "    c1 = np.dot(w, v)\n",
        "    c2 = np.dot(v, v)\n",
        "    b = c1 / c2\n",
        "\n",
        "    Pb = P0 + b * v\n",
        "\n",
        "    distance = np.linalg.norm(p - Pb, axis=-1)\n",
        "\n",
        "    return distance\n",
        "\n",
        "\n",
        "if __name__ == \"__main__\":\n",
        "\n",
        "    P0 = [(1, 1), (2, 3), (4, 2)]\n",
        "    P1 = [(4, 5), (6, 8), (8, 7)]\n",
        "    p = (3, 4)\n",
        "\n",
        "    distances = distance_to_lines(P0, P1, p)\n",
        "\n",
        "    print(\"Point p:\", p)\n",
        "    print(\"\\nLine Endpoints:\")\n",
        "    for i, (start, end) in enumerate(zip(P0, P1)):\n",
        "        print(f\"Line {i + 1}: P0 = {start}, P1 = {end}\")\n",
        "\n",
        "    print(\"\\nDistances from p to each line:\")\n",
        "    for i, dist in enumerate(distances):\n",
        "        print(f\"Line {i + 1}: {dist}\")\n"
      ]
    },
    {
      "cell_type": "markdown",
      "id": "e5e7f323",
      "metadata": {
        "id": "e5e7f323"
      },
      "source": [
        "#### 79. Consider 2 sets of points P0,P1 describing lines (2d) and a set of points P, how to compute distance from each point j (P[j]) to each line i (P0[i],P1[i])? (★★★)"
      ]
    },
    {
      "cell_type": "code",
      "execution_count": null,
      "id": "d0ce77e2",
      "metadata": {
        "id": "d0ce77e2"
      },
      "outputs": [],
      "source": [
        "import numpy as np\n",
        "\n",
        "def distance_to_lines(P0, P1, P):\n",
        "    P0 = np.array(P0)\n",
        "    P1 = np.array(P1)\n",
        "    P = np.array(P)\n",
        "    v = P1 - P0\n",
        "    w = P - P0[:, np.newaxis, :]\n",
        "\n",
        "    c1 = np.einsum('ij,ijk->ik', w, v)\n",
        "    c2 = np.einsum('ij,ij->i', v, v)\n",
        "    b = c1 / c2[:, np.newaxis]\n",
        "\n",
        "    Pb = P0[:, np.newaxis, :] + b[:, :, np.newaxis] * v[:, np.newaxis, :]\n",
        "\n",
        "    distances = np.linalg.norm(P - Pb, axis=-1)\n",
        "\n",
        "    return distances\n",
        "\n",
        "if __name__ == \"__main__\":\n",
        "\n",
        "    P0 = np.array([(1, 1), (2, 3), (4, 2)])\n",
        "    P1 = np.array([(4, 5), (6, 8), (8, 7)])\n",
        "    P = np.array([(3, 4), (5, 6), (7, 8)])\n",
        "\n",
        "    distances = distance_to_lines(P0, P1, P)\n",
        "\n",
        "    print(\"Points P:\")\n",
        "    print(P)\n",
        "    print(\"\\nLine Endpoints:\")\n",
        "    for i, (start, end) in enumerate(zip(P0, P1)):\n",
        "        print(f\"Line {i + 1}: P0 = {start}, P1 = {end}\")\n",
        "\n",
        "    print(\"\\nDistances from each point to each line:\")\n",
        "    for j, row in enumerate(distances):\n",
        "        for i, dist in enumerate(row):\n",
        "            print(f\"Point {j + 1} to Line {i + 1}: {dist}\")\n"
      ]
    },
    {
      "cell_type": "markdown",
      "id": "9b9d03eb",
      "metadata": {
        "id": "9b9d03eb"
      },
      "source": [
        "#### 80. Consider an arbitrary array, write a function that extract a subpart with a fixed shape and centered on a given element (pad with a `fill` value when necessary) (★★★)"
      ]
    },
    {
      "cell_type": "code",
      "execution_count": null,
      "id": "ec2b7ae3",
      "metadata": {
        "id": "ec2b7ae3",
        "colab": {
          "base_uri": "https://localhost:8080/"
        },
        "outputId": "3f9b240b-dad8-4e9c-c304-e75712479a7b"
      },
      "outputs": [
        {
          "output_type": "stream",
          "name": "stdout",
          "text": [
            "Original Array:\n",
            "[[ 1  2  3  4]\n",
            " [ 5  6  7  8]\n",
            " [ 9 10 11 12]]\n",
            "\n",
            "Extracted Subpart:\n",
            "[[2 3]\n",
            " [6 7]]\n"
          ]
        }
      ],
      "source": [
        "import numpy as np\n",
        "\n",
        "def extract_subpart(array, center, subpart_shape, fill_value=0):\n",
        "    \"\"\"\n",
        "    Extract a subpart with a fixed shape centered on a given element.\n",
        "\n",
        "    Parameters:\n",
        "    - array: The input array.\n",
        "    - center: Coordinates of the center element.\n",
        "    - subpart_shape: The shape of the desired subpart.\n",
        "    - fill_value: The value to fill in case of padding.\n",
        "\n",
        "    Returns:\n",
        "    - subpart: The extracted subpart.\n",
        "    \"\"\"\n",
        "    center = np.array(center)\n",
        "    subpart_shape = np.array(subpart_shape)\n",
        "\n",
        "    # Calculate the starting and ending indices for each axis\n",
        "    start_index = np.maximum(center - subpart_shape // 2, 0)\n",
        "    end_index = start_index + subpart_shape\n",
        "\n",
        "    # Calculate the padding, considering array boundaries\n",
        "    padding_before = np.maximum(0 - start_index, 0)\n",
        "    padding_after = np.maximum(end_index - np.array(array.shape), 0)\n",
        "\n",
        "    # Crop and pad the subpart\n",
        "    subpart = array[start_index[0]:end_index[0], start_index[1]:end_index[1]]\n",
        "    subpart = np.pad(subpart, ((padding_before[0], padding_after[0]), (padding_before[1], padding_after[1])),\n",
        "                     mode='constant', constant_values=fill_value)\n",
        "\n",
        "    return subpart\n",
        "\n",
        "# Example usage:\n",
        "if __name__ == \"__main__\":\n",
        "    # Create an arbitrary array\n",
        "    my_array = np.array([[1, 2, 3, 4],\n",
        "                         [5, 6, 7, 8],\n",
        "                         [9, 10, 11, 12]])\n",
        "\n",
        "    # Center coordinates\n",
        "    center_coords = (1, 2)\n",
        "\n",
        "    # Shape of the desired subpart\n",
        "    subpart_shape = (2, 2)\n",
        "\n",
        "    # Extract the subpart\n",
        "    extracted_subpart = extract_subpart(my_array, center_coords, subpart_shape, fill_value=-1)\n",
        "\n",
        "    print(\"Original Array:\")\n",
        "    print(my_array)\n",
        "\n",
        "    print(\"\\nExtracted Subpart:\")\n",
        "    print(extracted_subpart)\n"
      ]
    },
    {
      "cell_type": "markdown",
      "id": "27794913",
      "metadata": {
        "id": "27794913"
      },
      "source": [
        "#### 81. Consider an array Z = [1,2,3,4,5,6,7,8,9,10,11,12,13,14], how to generate an array R = [[1,2,3,4], [2,3,4,5], [3,4,5,6], ..., [11,12,13,14]]? (★★★)"
      ]
    },
    {
      "cell_type": "code",
      "execution_count": null,
      "id": "f3e7878b",
      "metadata": {
        "id": "f3e7878b",
        "colab": {
          "base_uri": "https://localhost:8080/"
        },
        "outputId": "63258a6c-908e-46a6-f317-4a7cf2d2887d"
      },
      "outputs": [
        {
          "output_type": "stream",
          "name": "stdout",
          "text": [
            "Array Z:\n",
            "[ 1  2  3  4  5  6  7  8  9 10 11 12 13 14]\n",
            "\n",
            "Array R:\n",
            "[[ 1  2  3  4]\n",
            " [ 2  3  4  5]\n",
            " [ 3  4  5  6]\n",
            " [ 4  5  6  7]\n",
            " [ 5  6  7  8]\n",
            " [ 6  7  8  9]\n",
            " [ 7  8  9 10]\n",
            " [ 8  9 10 11]\n",
            " [ 9 10 11 12]\n",
            " [10 11 12 13]\n",
            " [11 12 13 14]]\n"
          ]
        }
      ],
      "source": [
        "import numpy as np\n",
        "\n",
        "Z = np.array([1, 2, 3, 4, 5, 6, 7, 8, 9, 10, 11, 12, 13, 14])\n",
        "\n",
        "subarray_length = 4\n",
        "\n",
        "R = np.lib.stride_tricks.sliding_window_view(Z, (subarray_length,))\n",
        "\n",
        "print(\"Array Z:\")\n",
        "print(Z)\n",
        "\n",
        "print(\"\\nArray R:\")\n",
        "print(R)\n"
      ]
    },
    {
      "cell_type": "markdown",
      "id": "fae786f5",
      "metadata": {
        "id": "fae786f5"
      },
      "source": [
        "#### 82. Compute a matrix rank (★★★)"
      ]
    },
    {
      "cell_type": "code",
      "execution_count": null,
      "id": "64b9615b",
      "metadata": {
        "id": "64b9615b",
        "colab": {
          "base_uri": "https://localhost:8080/"
        },
        "outputId": "91c8c315-d7c9-465b-e0df-2341dde9d245"
      },
      "outputs": [
        {
          "output_type": "stream",
          "name": "stdout",
          "text": [
            "Matrix:\n",
            "[[1 2 3]\n",
            " [4 5 6]\n",
            " [7 8 9]]\n",
            "\n",
            "Rank of the Matrix: 2\n"
          ]
        }
      ],
      "source": [
        "import numpy as np\n",
        "\n",
        "matrix = np.array([[1, 2, 3],\n",
        "                   [4, 5, 6],\n",
        "                   [7, 8, 9]])\n",
        "\n",
        "rank = np.linalg.matrix_rank(matrix)\n",
        "\n",
        "print(\"Matrix:\")\n",
        "print(matrix)\n",
        "\n",
        "print(\"\\nRank of the Matrix:\", rank)\n"
      ]
    },
    {
      "cell_type": "markdown",
      "id": "c85aa0b9",
      "metadata": {
        "id": "c85aa0b9"
      },
      "source": [
        "#### 83. How to find the most frequent value in an array?"
      ]
    },
    {
      "cell_type": "code",
      "execution_count": null,
      "id": "056be85b",
      "metadata": {
        "id": "056be85b",
        "colab": {
          "base_uri": "https://localhost:8080/"
        },
        "outputId": "397ab19e-e765-4662-f494-7c4897cf03ee"
      },
      "outputs": [
        {
          "output_type": "stream",
          "name": "stdout",
          "text": [
            "Array:\n",
            "[1 2 2 3 3 3 4 4 4 4 5]\n",
            "\n",
            "Most Frequent Value: 4\n"
          ]
        }
      ],
      "source": [
        "import numpy as np\n",
        "\n",
        "array = np.array([1, 2, 2, 3, 3, 3, 4, 4, 4, 4, 5])\n",
        "most_frequent_value = np.argmax(np.bincount(array))\n",
        "\n",
        "print(\"Array:\")\n",
        "print(array)\n",
        "\n",
        "print(\"\\nMost Frequent Value:\", most_frequent_value)\n"
      ]
    },
    {
      "cell_type": "markdown",
      "id": "0ff2344d",
      "metadata": {
        "id": "0ff2344d"
      },
      "source": [
        "#### 84. Extract all the contiguous 3x3 blocks from a random 10x10 matrix (★★★)"
      ]
    },
    {
      "cell_type": "code",
      "execution_count": null,
      "id": "d58b1318",
      "metadata": {
        "id": "d58b1318",
        "colab": {
          "base_uri": "https://localhost:8080/"
        },
        "outputId": "e607fa44-4c81-41c2-e207-4b31718647ac"
      },
      "outputs": [
        {
          "output_type": "stream",
          "name": "stdout",
          "text": [
            "Original Matrix:\n",
            "[[2 7 6 0 8 3 9 9 7 7]\n",
            " [9 6 0 4 9 6 0 2 0 8]\n",
            " [5 8 7 8 4 5 6 9 2 3]\n",
            " [4 4 1 5 8 0 2 0 9 1]\n",
            " [1 8 2 3 4 3 0 1 4 8]\n",
            " [9 2 4 8 2 6 3 1 8 9]\n",
            " [7 7 5 3 4 7 6 2 4 9]\n",
            " [7 6 2 5 9 6 9 3 5 2]\n",
            " [9 6 9 3 9 8 3 5 0 1]\n",
            " [3 8 0 3 3 1 1 7 5 1]]\n",
            "\n",
            "Extracted 3x3 Blocks:\n",
            "[[[2 7 6]\n",
            "  [9 6 0]\n",
            "  [5 8 7]]\n",
            "\n",
            " [[7 6 0]\n",
            "  [6 0 4]\n",
            "  [8 7 8]]\n",
            "\n",
            " [[6 0 8]\n",
            "  [0 4 9]\n",
            "  [7 8 4]]\n",
            "\n",
            " [[0 8 3]\n",
            "  [4 9 6]\n",
            "  [8 4 5]]\n",
            "\n",
            " [[8 3 9]\n",
            "  [9 6 0]\n",
            "  [4 5 6]]\n",
            "\n",
            " [[3 9 9]\n",
            "  [6 0 2]\n",
            "  [5 6 9]]\n",
            "\n",
            " [[9 9 7]\n",
            "  [0 2 0]\n",
            "  [6 9 2]]\n",
            "\n",
            " [[9 7 7]\n",
            "  [2 0 8]\n",
            "  [9 2 3]]\n",
            "\n",
            " [[9 6 0]\n",
            "  [5 8 7]\n",
            "  [4 4 1]]\n",
            "\n",
            " [[6 0 4]\n",
            "  [8 7 8]\n",
            "  [4 1 5]]\n",
            "\n",
            " [[0 4 9]\n",
            "  [7 8 4]\n",
            "  [1 5 8]]\n",
            "\n",
            " [[4 9 6]\n",
            "  [8 4 5]\n",
            "  [5 8 0]]\n",
            "\n",
            " [[9 6 0]\n",
            "  [4 5 6]\n",
            "  [8 0 2]]\n",
            "\n",
            " [[6 0 2]\n",
            "  [5 6 9]\n",
            "  [0 2 0]]\n",
            "\n",
            " [[0 2 0]\n",
            "  [6 9 2]\n",
            "  [2 0 9]]\n",
            "\n",
            " [[2 0 8]\n",
            "  [9 2 3]\n",
            "  [0 9 1]]\n",
            "\n",
            " [[5 8 7]\n",
            "  [4 4 1]\n",
            "  [1 8 2]]\n",
            "\n",
            " [[8 7 8]\n",
            "  [4 1 5]\n",
            "  [8 2 3]]\n",
            "\n",
            " [[7 8 4]\n",
            "  [1 5 8]\n",
            "  [2 3 4]]\n",
            "\n",
            " [[8 4 5]\n",
            "  [5 8 0]\n",
            "  [3 4 3]]\n",
            "\n",
            " [[4 5 6]\n",
            "  [8 0 2]\n",
            "  [4 3 0]]\n",
            "\n",
            " [[5 6 9]\n",
            "  [0 2 0]\n",
            "  [3 0 1]]\n",
            "\n",
            " [[6 9 2]\n",
            "  [2 0 9]\n",
            "  [0 1 4]]\n",
            "\n",
            " [[9 2 3]\n",
            "  [0 9 1]\n",
            "  [1 4 8]]\n",
            "\n",
            " [[4 4 1]\n",
            "  [1 8 2]\n",
            "  [9 2 4]]\n",
            "\n",
            " [[4 1 5]\n",
            "  [8 2 3]\n",
            "  [2 4 8]]\n",
            "\n",
            " [[1 5 8]\n",
            "  [2 3 4]\n",
            "  [4 8 2]]\n",
            "\n",
            " [[5 8 0]\n",
            "  [3 4 3]\n",
            "  [8 2 6]]\n",
            "\n",
            " [[8 0 2]\n",
            "  [4 3 0]\n",
            "  [2 6 3]]\n",
            "\n",
            " [[0 2 0]\n",
            "  [3 0 1]\n",
            "  [6 3 1]]\n",
            "\n",
            " [[2 0 9]\n",
            "  [0 1 4]\n",
            "  [3 1 8]]\n",
            "\n",
            " [[0 9 1]\n",
            "  [1 4 8]\n",
            "  [1 8 9]]\n",
            "\n",
            " [[1 8 2]\n",
            "  [9 2 4]\n",
            "  [7 7 5]]\n",
            "\n",
            " [[8 2 3]\n",
            "  [2 4 8]\n",
            "  [7 5 3]]\n",
            "\n",
            " [[2 3 4]\n",
            "  [4 8 2]\n",
            "  [5 3 4]]\n",
            "\n",
            " [[3 4 3]\n",
            "  [8 2 6]\n",
            "  [3 4 7]]\n",
            "\n",
            " [[4 3 0]\n",
            "  [2 6 3]\n",
            "  [4 7 6]]\n",
            "\n",
            " [[3 0 1]\n",
            "  [6 3 1]\n",
            "  [7 6 2]]\n",
            "\n",
            " [[0 1 4]\n",
            "  [3 1 8]\n",
            "  [6 2 4]]\n",
            "\n",
            " [[1 4 8]\n",
            "  [1 8 9]\n",
            "  [2 4 9]]\n",
            "\n",
            " [[9 2 4]\n",
            "  [7 7 5]\n",
            "  [7 6 2]]\n",
            "\n",
            " [[2 4 8]\n",
            "  [7 5 3]\n",
            "  [6 2 5]]\n",
            "\n",
            " [[4 8 2]\n",
            "  [5 3 4]\n",
            "  [2 5 9]]\n",
            "\n",
            " [[8 2 6]\n",
            "  [3 4 7]\n",
            "  [5 9 6]]\n",
            "\n",
            " [[2 6 3]\n",
            "  [4 7 6]\n",
            "  [9 6 9]]\n",
            "\n",
            " [[6 3 1]\n",
            "  [7 6 2]\n",
            "  [6 9 3]]\n",
            "\n",
            " [[3 1 8]\n",
            "  [6 2 4]\n",
            "  [9 3 5]]\n",
            "\n",
            " [[1 8 9]\n",
            "  [2 4 9]\n",
            "  [3 5 2]]\n",
            "\n",
            " [[7 7 5]\n",
            "  [7 6 2]\n",
            "  [9 6 9]]\n",
            "\n",
            " [[7 5 3]\n",
            "  [6 2 5]\n",
            "  [6 9 3]]\n",
            "\n",
            " [[5 3 4]\n",
            "  [2 5 9]\n",
            "  [9 3 9]]\n",
            "\n",
            " [[3 4 7]\n",
            "  [5 9 6]\n",
            "  [3 9 8]]\n",
            "\n",
            " [[4 7 6]\n",
            "  [9 6 9]\n",
            "  [9 8 3]]\n",
            "\n",
            " [[7 6 2]\n",
            "  [6 9 3]\n",
            "  [8 3 5]]\n",
            "\n",
            " [[6 2 4]\n",
            "  [9 3 5]\n",
            "  [3 5 0]]\n",
            "\n",
            " [[2 4 9]\n",
            "  [3 5 2]\n",
            "  [5 0 1]]\n",
            "\n",
            " [[7 6 2]\n",
            "  [9 6 9]\n",
            "  [3 8 0]]\n",
            "\n",
            " [[6 2 5]\n",
            "  [6 9 3]\n",
            "  [8 0 3]]\n",
            "\n",
            " [[2 5 9]\n",
            "  [9 3 9]\n",
            "  [0 3 3]]\n",
            "\n",
            " [[5 9 6]\n",
            "  [3 9 8]\n",
            "  [3 3 1]]\n",
            "\n",
            " [[9 6 9]\n",
            "  [9 8 3]\n",
            "  [3 1 1]]\n",
            "\n",
            " [[6 9 3]\n",
            "  [8 3 5]\n",
            "  [1 1 7]]\n",
            "\n",
            " [[9 3 5]\n",
            "  [3 5 0]\n",
            "  [1 7 5]]\n",
            "\n",
            " [[3 5 2]\n",
            "  [5 0 1]\n",
            "  [7 5 1]]]\n"
          ]
        }
      ],
      "source": [
        "import numpy as np\n",
        "\n",
        "matrix = np.random.randint(0, 10, size=(10, 10))\n",
        "\n",
        "block_size = (3, 3)\n",
        "\n",
        "blocks = []\n",
        "for i in range(matrix.shape[0] - block_size[0] + 1):\n",
        "    for j in range(matrix.shape[1] - block_size[1] + 1):\n",
        "        block = matrix[i:i+block_size[0], j:j+block_size[1]]\n",
        "        blocks.append(block)\n",
        "\n",
        "blocks_array = np.array(blocks)\n",
        "print(\"Original Matrix:\")\n",
        "print(matrix)\n",
        "print(\"\\nExtracted 3x3 Blocks:\")\n",
        "print(blocks_array)\n"
      ]
    },
    {
      "cell_type": "markdown",
      "id": "1a18b263",
      "metadata": {
        "id": "1a18b263"
      },
      "source": [
        "#### 85. Create a 2D array subclass such that Z[i,j] == Z[j,i] (★★★)"
      ]
    },
    {
      "cell_type": "code",
      "execution_count": null,
      "id": "87f17adc",
      "metadata": {
        "id": "87f17adc",
        "colab": {
          "base_uri": "https://localhost:8080/"
        },
        "outputId": "f87c5bc7-0ef2-4c4a-dc99-29adba937932"
      },
      "outputs": [
        {
          "output_type": "stream",
          "name": "stdout",
          "text": [
            "Original Array:\n",
            "[[1 2 3]\n",
            " [2 4 5]\n",
            " [3 5 6]]\n",
            "\n",
            "Symmetric Array:\n",
            "[[1 2 3]\n",
            " [2 4 5]\n",
            " [3 5 6]]\n",
            "\n",
            "Modified Symmetric Array:\n",
            "[[1 2 3]\n",
            " [2 4 9]\n",
            " [3 9 6]]\n"
          ]
        }
      ],
      "source": [
        "import numpy as np\n",
        "\n",
        "class SymmetricArray(np.ndarray):\n",
        "    def __new__(cls, input_array):\n",
        "        obj = np.asarray(input_array).view(cls)\n",
        "        return obj\n",
        "\n",
        "    def __getitem__(self, index):\n",
        "\n",
        "        i, j = index\n",
        "        if isinstance(i, slice) or isinstance(j, slice):\n",
        "            return super(SymmetricArray, self).__getitem__(index)\n",
        "        else:\n",
        "            return super(SymmetricArray, self).__getitem__((i, j))\n",
        "\n",
        "    def __setitem__(self, index, value):\n",
        "        i, j = index\n",
        "        super(SymmetricArray, self).__setitem__((i, j), value)\n",
        "        super(SymmetricArray, self).__setitem__((j, i), value)\n",
        "\n",
        "original_array = np.array([[1, 2, 3],\n",
        "                           [2, 4, 5],\n",
        "                           [3, 5, 6]])\n",
        "\n",
        "symmetric_array = SymmetricArray(original_array)\n",
        "\n",
        "\n",
        "print(\"Original Array:\")\n",
        "print(original_array)\n",
        "\n",
        "print(\"\\nSymmetric Array:\")\n",
        "print(symmetric_array)\n",
        "\n",
        "symmetric_array[1, 2] = 9\n",
        "print(\"\\nModified Symmetric Array:\")\n",
        "print(symmetric_array)\n"
      ]
    },
    {
      "cell_type": "markdown",
      "id": "f85f2cad",
      "metadata": {
        "id": "f85f2cad"
      },
      "source": [
        "#### 86. Consider a set of p matrices wich shape (n,n) and a set of p vectors with shape (n,1). How to compute the sum of of the p matrix products at once? (result has shape (n,1)) (★★★)"
      ]
    },
    {
      "cell_type": "code",
      "execution_count": null,
      "id": "8d230557",
      "metadata": {
        "id": "8d230557"
      },
      "outputs": [],
      "source": [
        "import numpy as np\n",
        "\n",
        "def sum_of_matrix_products(matrices, vectors):\n",
        "    vectors_stacked = np.stack(vectors, axis=-1)\n",
        "\n",
        "    matrices_stacked = np.stack(matrices, axis=-1)\n",
        "\n",
        "    result = np.matmul(matrices_stacked, vectors_stacked)\n",
        "\n",
        "    result_sum = np.sum(result, axis=-1)\n",
        "\n",
        "    return result_sum\n",
        "\n",
        "if __name__ == \"__main__\":\n",
        "    p = 3  # Number of matrices and vectors\n",
        "    n = 4  # Size of matrices and vectors\n",
        "\n",
        "    matrices = [np.random.rand(n, n) for _ in range(p)]\n",
        "    vectors = [np.random.rand(n, 1) for _ in range(p)]\n",
        "\n",
        "    result_sum = sum_of_matrix_products(matrices, vectors)\n",
        "\n",
        "    print(\"Matrices:\")\n",
        "    for i, matrix in enumerate(matrices):\n",
        "        print(f\"Matrix {i + 1}:\\n{matrix}\\n\")\n",
        "\n",
        "    print(\"Vectors:\")\n",
        "    for i, vector in enumerate(vectors):\n",
        "        print(f\"Vector {i + 1}:\\n{vector}\\n\")\n",
        "\n",
        "    print(\"Sum of Matrix Products:\")\n",
        "    print(result_sum)\n"
      ]
    },
    {
      "cell_type": "markdown",
      "id": "5afb72c8",
      "metadata": {
        "id": "5afb72c8"
      },
      "source": [
        "#### 87. Consider a 16x16 array, how to get the block-sum (block size is 4x4)? (★★★)"
      ]
    },
    {
      "cell_type": "code",
      "execution_count": null,
      "id": "e86f47a9",
      "metadata": {
        "id": "e86f47a9",
        "colab": {
          "base_uri": "https://localhost:8080/"
        },
        "outputId": "b85a967f-5aac-4f03-ed7d-7045d09628bc"
      },
      "outputs": [
        {
          "output_type": "stream",
          "name": "stdout",
          "text": [
            "Original Array:\n",
            "[[3 9 6 8 2 9 7 6 9 5 6 3 3 9 9 1]\n",
            " [6 1 4 3 2 8 5 8 8 8 8 2 9 4 4 2]\n",
            " [3 5 3 9 1 1 9 2 1 5 1 8 2 1 2 6]\n",
            " [3 7 5 8 2 5 4 4 2 9 5 5 4 1 6 3]\n",
            " [9 2 1 4 9 2 3 3 4 2 4 4 3 3 6 5]\n",
            " [4 8 1 7 3 2 3 6 5 2 4 5 1 3 4 7]\n",
            " [4 3 6 6 2 6 3 1 9 8 8 5 3 9 7 7]\n",
            " [4 5 9 7 1 7 3 1 8 7 3 4 7 6 9 5]\n",
            " [9 4 4 2 2 1 9 5 7 9 6 6 6 9 6 5]\n",
            " [2 9 6 7 4 1 6 5 5 3 5 1 3 5 4 9]\n",
            " [9 2 6 8 9 7 8 1 2 7 1 4 8 8 3 1]\n",
            " [2 7 8 3 4 6 9 6 7 9 5 7 9 6 4 8]\n",
            " [2 7 3 4 7 4 3 6 5 1 9 8 3 8 2 8]\n",
            " [4 2 9 4 2 9 4 9 4 9 7 5 6 6 7 7]\n",
            " [6 4 1 2 4 3 9 8 9 4 9 3 6 3 2 8]\n",
            " [3 5 1 9 8 8 9 4 4 1 4 7 4 2 2 7]]\n",
            "\n",
            "Block-Sum (Block Size 4x4):\n",
            "[[ 95  82  59  73]\n",
            " [ 64  65  87  86]\n",
            " [ 90  75  84 100]\n",
            " [ 80  94  81  78]]\n"
          ]
        }
      ],
      "source": [
        "import numpy as np\n",
        "\n",
        "array = np.random.randint(1, 10, size=(16, 16))\n",
        "block_size = 4\n",
        "\n",
        "reshaped_array = array.reshape((4, 4, block_size, block_size))\n",
        "\n",
        "block_sum = reshaped_array.sum(axis=(-2, -1))\n",
        "\n",
        "print(\"Original Array:\")\n",
        "print(array)\n",
        "\n",
        "print(\"\\nBlock-Sum (Block Size 4x4):\")\n",
        "print(block_sum)\n"
      ]
    },
    {
      "cell_type": "markdown",
      "id": "6094d37c",
      "metadata": {
        "id": "6094d37c"
      },
      "source": [
        "#### 88. How to implement the Game of Life using numpy arrays? (★★★)"
      ]
    },
    {
      "cell_type": "code",
      "source": [
        "import numpy as np\n",
        "import matplotlib.pyplot as plt\n",
        "import matplotlib.animation as animation\n",
        "\n",
        "def update(frameNum, img, grid, N):\n",
        "    # Copy the grid to apply the rules without modifying the original grid\n",
        "    newGrid = grid.copy()\n",
        "\n",
        "    for i in range(N):\n",
        "        for j in range(N):\n",
        "            # Compute the sum of neighbors' states using toroidal (wrap-around) boundary conditions\n",
        "            total = int((grid[i, (j-1)%N] + grid[i, (j+1)%N] +\n",
        "                         grid[(i-1)%N, j] + grid[(i+1)%N, j] +\n",
        "                         grid[(i-1)%N, (j-1)%N] + grid[(i-1)%N, (j+1)%N] +\n",
        "                         grid[(i+1)%N, (j-1)%N] + grid[(i+1)%N, (j+1)%N])/255)\n",
        "\n",
        "            # Apply the rules of the Game of Life\n",
        "            if grid[i, j] == ON:\n",
        "                if (total < 2) or (total > 3):\n",
        "                    newGrid[i, j] = OFF\n",
        "            else:\n",
        "                if total == 3:\n",
        "                    newGrid[i, j] = ON\n",
        "\n",
        "    # Update the data of the image\n",
        "    img.set_data(newGrid)\n",
        "    grid[:] = newGrid[:]\n",
        "    return img\n",
        "\n",
        "# Set the size of the grid\n",
        "N = 100\n",
        "\n",
        "# Set the initial state of the grid (randomly initialized)\n",
        "grid = np.random.choice([ON, OFF], N*N, p=[0.2, 0.8]).reshape(N, N)\n",
        "\n",
        "# Set the figure and axis\n",
        "fig, ax = plt.subplots()\n",
        "img = ax.imshow(grid, interpolation='nearest', cmap='gray')\n",
        "ani = animation.FuncAnimation(fig, update, fargs=(img, grid, N),\n",
        "                              frames=10, interval=50, save_count=50)\n",
        "\n",
        "plt.show()\n"
      ],
      "metadata": {
        "colab": {
          "base_uri": "https://localhost:8080/",
          "height": 245
        },
        "id": "ZAf2ZlWpTJtR",
        "outputId": "88c726a1-0a22-4029-96ec-935cec69022b"
      },
      "id": "ZAf2ZlWpTJtR",
      "execution_count": null,
      "outputs": [
        {
          "output_type": "error",
          "ename": "NameError",
          "evalue": "ignored",
          "traceback": [
            "\u001b[0;31m---------------------------------------------------------------------------\u001b[0m",
            "\u001b[0;31mNameError\u001b[0m                                 Traceback (most recent call last)",
            "\u001b[0;32m<ipython-input-41-5a9ac64d748a>\u001b[0m in \u001b[0;36m<cell line: 34>\u001b[0;34m()\u001b[0m\n\u001b[1;32m     32\u001b[0m \u001b[0;34m\u001b[0m\u001b[0m\n\u001b[1;32m     33\u001b[0m \u001b[0;31m# Set the initial state of the grid (randomly initialized)\u001b[0m\u001b[0;34m\u001b[0m\u001b[0;34m\u001b[0m\u001b[0m\n\u001b[0;32m---> 34\u001b[0;31m \u001b[0mgrid\u001b[0m \u001b[0;34m=\u001b[0m \u001b[0mnp\u001b[0m\u001b[0;34m.\u001b[0m\u001b[0mrandom\u001b[0m\u001b[0;34m.\u001b[0m\u001b[0mchoice\u001b[0m\u001b[0;34m(\u001b[0m\u001b[0;34m[\u001b[0m\u001b[0mON\u001b[0m\u001b[0;34m,\u001b[0m \u001b[0mOFF\u001b[0m\u001b[0;34m]\u001b[0m\u001b[0;34m,\u001b[0m \u001b[0mN\u001b[0m\u001b[0;34m*\u001b[0m\u001b[0mN\u001b[0m\u001b[0;34m,\u001b[0m \u001b[0mp\u001b[0m\u001b[0;34m=\u001b[0m\u001b[0;34m[\u001b[0m\u001b[0;36m0.2\u001b[0m\u001b[0;34m,\u001b[0m \u001b[0;36m0.8\u001b[0m\u001b[0;34m]\u001b[0m\u001b[0;34m)\u001b[0m\u001b[0;34m.\u001b[0m\u001b[0mreshape\u001b[0m\u001b[0;34m(\u001b[0m\u001b[0mN\u001b[0m\u001b[0;34m,\u001b[0m \u001b[0mN\u001b[0m\u001b[0;34m)\u001b[0m\u001b[0;34m\u001b[0m\u001b[0;34m\u001b[0m\u001b[0m\n\u001b[0m\u001b[1;32m     35\u001b[0m \u001b[0;34m\u001b[0m\u001b[0m\n\u001b[1;32m     36\u001b[0m \u001b[0;31m# Set the figure and axis\u001b[0m\u001b[0;34m\u001b[0m\u001b[0;34m\u001b[0m\u001b[0m\n",
            "\u001b[0;31mNameError\u001b[0m: name 'ON' is not defined"
          ]
        }
      ]
    },
    {
      "cell_type": "markdown",
      "id": "a173cf96",
      "metadata": {
        "id": "a173cf96"
      },
      "source": [
        "#### 89. How to get the n largest values of an array (★★★)"
      ]
    },
    {
      "cell_type": "code",
      "execution_count": null,
      "id": "b7c2ff35",
      "metadata": {
        "id": "b7c2ff35",
        "colab": {
          "base_uri": "https://localhost:8080/"
        },
        "outputId": "3ef7c2c0-e87e-4d1b-ef70-40f3493d9012"
      },
      "outputs": [
        {
          "output_type": "stream",
          "name": "stdout",
          "text": [
            "Original Array: [3 1 4 1 5 9 2 6 5 3 5]\n",
            "The 4 largest values: [5 5 6 9]\n"
          ]
        }
      ],
      "source": [
        "import numpy as np\n",
        "\n",
        "arr = np.array([3, 1, 4, 1, 5, 9, 2, 6, 5, 3, 5])\n",
        "\n",
        "sorted_indices = np.argsort(arr)\n",
        "\n",
        "n_largest_indices = sorted_indices[-n:]\n",
        "\n",
        "n_largest_values = arr[n_largest_indices]\n",
        "\n",
        "print(\"Original Array:\", arr)\n",
        "print(f\"The {n} largest values:\", n_largest_values)\n"
      ]
    },
    {
      "cell_type": "markdown",
      "id": "15db2d01",
      "metadata": {
        "id": "15db2d01"
      },
      "source": [
        "#### 90. Given an arbitrary number of vectors, build the cartesian product (every combinations of every item) (★★★)"
      ]
    },
    {
      "cell_type": "code",
      "execution_count": null,
      "id": "a9a4633d",
      "metadata": {
        "id": "a9a4633d"
      },
      "outputs": [],
      "source": [
        "from itertools import product\n",
        "\n",
        "vector1 = [1, 2, 3]\n",
        "vector2 = ['a', 'b']\n",
        "vector3 = ['x', 'y']\n",
        "\n",
        "cartesian_product = list(product(vector1, vector2, vector3))\n",
        "\n",
        "print(\"Vectors:\")\n",
        "print(\"Vector 1:\", vector1)\n",
        "print(\"Vector 2:\", vector2)\n",
        "print(\"Vector 3:\", vector3)\n",
        "\n",
        "print(\"\\nCartesian Product:\")\n",
        "print(cartesian_product)"
      ]
    },
    {
      "cell_type": "markdown",
      "id": "5d94d1ef",
      "metadata": {
        "id": "5d94d1ef"
      },
      "source": [
        "#### 91. How to create a record array from a regular array? (★★★)"
      ]
    },
    {
      "cell_type": "code",
      "execution_count": null,
      "id": "b1dae380",
      "metadata": {
        "id": "b1dae380"
      },
      "outputs": [],
      "source": [
        "import numpy as np\n",
        "\n",
        "regular_array = np.array([(1, 'John', 25),\n",
        "                          (2, 'Alice', 30),\n",
        "                          (3, 'Bob', 28)],\n",
        "                         dtype=[('id', int), ('name', 'U10'), ('age', int)])\n",
        "\n",
        "record_array = np.core.records.fromarrays(regular_array.T,\n",
        "                                          dtype={'names': ['id', 'name', 'age'],\n",
        "                                                 'formats': [int, 'U10', int]})\n",
        "\n",
        "print(\"Regular Array:\")\n",
        "print(regular_array)\n",
        "\n",
        "print(\"\\nRecord Array:\")\n",
        "print(record_array)\n"
      ]
    },
    {
      "cell_type": "markdown",
      "id": "114ccc36",
      "metadata": {
        "id": "114ccc36"
      },
      "source": [
        "#### 92. Consider a large vector Z, compute Z to the power of 3 using 3 different methods (★★★)"
      ]
    },
    {
      "cell_type": "code",
      "execution_count": null,
      "id": "877c65d6",
      "metadata": {
        "id": "877c65d6"
      },
      "outputs": [],
      "source": [
        "import numpy as np\n",
        "\n",
        "Z = np.random.rand(1000000)\n",
        "\n",
        "result1 = np.power(Z, 3)\n"
      ]
    },
    {
      "cell_type": "markdown",
      "id": "d614fee4",
      "metadata": {
        "id": "d614fee4"
      },
      "source": [
        "#### 93. Consider two arrays A and B of shape (8,3) and (2,2). How to find rows of A that contain elements of each row of B regardless of the order of the elements in B? (★★★)"
      ]
    },
    {
      "cell_type": "code",
      "execution_count": null,
      "id": "e6807a84",
      "metadata": {
        "id": "e6807a84",
        "colab": {
          "base_uri": "https://localhost:8080/"
        },
        "outputId": "3f315f7e-9567-4326-9f06-362f6abe9a6a"
      },
      "outputs": [
        {
          "output_type": "stream",
          "name": "stdout",
          "text": [
            "Array A:\n",
            "[[1 2 3]\n",
            " [4 5 6]\n",
            " [7 8 9]\n",
            " [3 1 2]\n",
            " [6 4 5]\n",
            " [9 7 8]\n",
            " [2 3 1]\n",
            " [5 6 4]]\n",
            "\n",
            "Array B:\n",
            "[[1 2]\n",
            " [4 5]]\n",
            "\n",
            "Rows of A that contain elements of each row of B:\n",
            "[]\n"
          ]
        }
      ],
      "source": [
        "import numpy as np\n",
        "A = np.array([[1, 2, 3],\n",
        "              [4, 5, 6],\n",
        "              [7, 8, 9],\n",
        "              [3, 1, 2],\n",
        "              [6, 4, 5],\n",
        "              [9, 7, 8],\n",
        "              [2, 3, 1],\n",
        "              [5, 6, 4]])\n",
        "\n",
        "B = np.array([[1, 2],\n",
        "              [4, 5]])\n",
        "set_B = [set(row) for row in B]\n",
        "result_rows = []\n",
        "for i, row_A in enumerate(A):\n",
        "    if all(set_B_row.issubset(set(row_A)) for set_B_row in set_B):\n",
        "        result_rows.append(i)\n",
        "\n",
        "result_rows_A = A[result_rows]\n",
        "\n",
        "print(\"Array A:\")\n",
        "print(A)\n",
        "\n",
        "print(\"\\nArray B:\")\n",
        "print(B)\n",
        "\n",
        "print(\"\\nRows of A that contain elements of each row of B:\")\n",
        "print(result_rows_A)"
      ]
    },
    {
      "cell_type": "markdown",
      "id": "b0eedca6",
      "metadata": {
        "id": "b0eedca6"
      },
      "source": [
        "#### 94. Considering a 10x3 matrix, extract rows with unequal values (e.g. [2,2,3]) (★★★)"
      ]
    },
    {
      "cell_type": "code",
      "execution_count": null,
      "id": "fc136ce2",
      "metadata": {
        "id": "fc136ce2",
        "colab": {
          "base_uri": "https://localhost:8080/"
        },
        "outputId": "09b9b5b6-dddd-49a6-c614-5d19a8cd8b57"
      },
      "outputs": [
        {
          "output_type": "stream",
          "name": "stdout",
          "text": [
            "Original Matrix:\n",
            "[[1 2 1]\n",
            " [1 2 2]\n",
            " [1 3 3]\n",
            " [3 3 3]\n",
            " [1 1 1]\n",
            " [1 1 2]\n",
            " [1 2 3]\n",
            " [2 1 3]\n",
            " [3 2 1]\n",
            " [2 1 2]]\n",
            "\n",
            "Rows with Unequal Values:\n",
            "[[1 2 1]\n",
            " [1 2 2]\n",
            " [1 3 3]\n",
            " [1 1 2]\n",
            " [1 2 3]\n",
            " [2 1 3]\n",
            " [3 2 1]\n",
            " [2 1 2]]\n"
          ]
        }
      ],
      "source": [
        "import numpy as np\n",
        "\n",
        "matrix = np.random.randint(1, 4, size=(10, 3))\n",
        "\n",
        "unequal_rows = np.any(np.diff(matrix, axis=1), axis=1)\n",
        "\n",
        "result_matrix = matrix[unequal_rows]\n",
        "\n",
        "print(\"Original Matrix:\")\n",
        "print(matrix)\n",
        "\n",
        "print(\"\\nRows with Unequal Values:\")\n",
        "print(result_matrix)\n"
      ]
    },
    {
      "cell_type": "markdown",
      "id": "a65ec1cf",
      "metadata": {
        "id": "a65ec1cf"
      },
      "source": [
        "#### 95. Convert a vector of ints into a matrix binary representation (★★★)"
      ]
    },
    {
      "cell_type": "code",
      "execution_count": null,
      "id": "323cdf4c",
      "metadata": {
        "id": "323cdf4c",
        "colab": {
          "base_uri": "https://localhost:8080/"
        },
        "outputId": "4fe77069-2117-4a11-d190-45cec60e9361"
      },
      "outputs": [
        {
          "output_type": "stream",
          "name": "stdout",
          "text": [
            "Original Vector:\n",
            "[ 5  2  7 10]\n",
            "\n",
            "Binary Matrix:\n",
            "[[0 0 0 0 0 1 0 1]\n",
            " [0 0 0 0 0 0 1 0]\n",
            " [0 0 0 0 0 1 1 1]\n",
            " [0 0 0 0 1 0 1 0]]\n"
          ]
        }
      ],
      "source": [
        "import numpy as np\n",
        "\n",
        "vector_of_ints = np.array([5, 2, 7, 10], dtype=np.uint8)\n",
        "\n",
        "binary_matrix = np.unpackbits(vector_of_ints[:, np.newaxis], axis=1)\n",
        "\n",
        "print(\"Original Vector:\")\n",
        "print(vector_of_ints)\n",
        "\n",
        "print(\"\\nBinary Matrix:\")\n",
        "print(binary_matrix)\n"
      ]
    },
    {
      "cell_type": "markdown",
      "id": "75b9397f",
      "metadata": {
        "id": "75b9397f"
      },
      "source": [
        "#### 96. Given a two dimensional array, how to extract unique rows? (★★★)"
      ]
    },
    {
      "cell_type": "code",
      "execution_count": null,
      "id": "9bb56a47",
      "metadata": {
        "id": "9bb56a47",
        "colab": {
          "base_uri": "https://localhost:8080/"
        },
        "outputId": "8b618910-fd35-4ec0-cc96-d2bacc9bd19a"
      },
      "outputs": [
        {
          "output_type": "stream",
          "name": "stdout",
          "text": [
            "Original Array:\n",
            "[[1 2 3]\n",
            " [4 5 6]\n",
            " [1 2 3]\n",
            " [7 8 9]\n",
            " [4 5 6]]\n",
            "\n",
            "Unique Rows:\n",
            "[[1 2 3]\n",
            " [4 5 6]\n",
            " [7 8 9]]\n"
          ]
        }
      ],
      "source": [
        "import numpy as np\n",
        "\n",
        "array_2d = np.array([[1, 2, 3],\n",
        "                     [4, 5, 6],\n",
        "                     [1, 2, 3],\n",
        "                     [7, 8, 9],\n",
        "                     [4, 5, 6]])\n",
        "\n",
        "unique_rows = np.unique(array_2d, axis=0)\n",
        "\n",
        "print(\"Original Array:\")\n",
        "print(array_2d)\n",
        "\n",
        "print(\"\\nUnique Rows:\")\n",
        "print(unique_rows)\n"
      ]
    },
    {
      "cell_type": "markdown",
      "id": "82aaf21b",
      "metadata": {
        "id": "82aaf21b"
      },
      "source": [
        "#### 97. Considering 2 vectors A & B, write the einsum equivalent of inner, outer, sum, and mul function (★★★)"
      ]
    },
    {
      "cell_type": "code",
      "execution_count": null,
      "id": "cedcefd9",
      "metadata": {
        "id": "cedcefd9"
      },
      "outputs": [],
      "source": [
        "summation = np.einsum('i->', A)\n"
      ]
    },
    {
      "cell_type": "markdown",
      "id": "7741e17f",
      "metadata": {
        "id": "7741e17f"
      },
      "source": [
        "#### 98. Considering a path described by two vectors (X,Y), how to sample it using equidistant samples (★★★)?"
      ]
    },
    {
      "cell_type": "code",
      "execution_count": null,
      "id": "0b2432fe",
      "metadata": {
        "id": "0b2432fe",
        "colab": {
          "base_uri": "https://localhost:8080/",
          "height": 449
        },
        "outputId": "eddd5c11-0055-4085-fd68-2d3c6be71c28"
      },
      "outputs": [
        {
          "output_type": "display_data",
          "data": {
            "text/plain": [
              "<Figure size 640x480 with 1 Axes>"
            ],
            "image/png": "[encoded data removed]"
          },
          "metadata": {}
        }
      ],
      "source": [
        "import numpy as np\n",
        "import matplotlib.pyplot as plt\n",
        "\n",
        "X = np.array([0, 1, 3, 4, 6])\n",
        "Y = np.array([1, 2, 4, 3, 5])\n",
        "\n",
        "num_samples = 100\n",
        "\n",
        "t = np.linspace(0, 1, num_samples)\n",
        "\n",
        "sampled_X = np.interp(t, np.linspace(0, 1, len(X)), X)\n",
        "sampled_Y = np.interp(t, np.linspace(0, 1, len(Y)), Y)\n",
        "\n",
        "plt.plot(X, Y, label='Original Path')\n",
        "plt.scatter(sampled_X, sampled_Y, color='red', label='Equidistant Samples')\n",
        "plt.xlabel('X')\n",
        "plt.ylabel('Y')\n",
        "plt.legend()\n",
        "plt.show()\n"
      ]
    },
    {
      "cell_type": "markdown",
      "id": "340d6f36",
      "metadata": {
        "id": "340d6f36"
      },
      "source": [
        "#### 99. Given an integer n and a 2D array X, select from X the rows which can be interpreted as draws from a multinomial distribution with n degrees, i.e., the rows which only contain integers and which sum to n. (★★★)"
      ]
    },
    {
      "cell_type": "code",
      "execution_count": null,
      "id": "a75323ae",
      "metadata": {
        "id": "a75323ae",
        "colab": {
          "base_uri": "https://localhost:8080/"
        },
        "outputId": "9507c0ec-b87d-415f-aee1-88cb2d07410c"
      },
      "outputs": [
        {
          "output_type": "stream",
          "name": "stdout",
          "text": [
            "Original Array:\n",
            "[[1 2 3]\n",
            " [2 3 1]\n",
            " [0 5 3]\n",
            " [4 1 0]]\n",
            "\n",
            "Rows with sum equal to 6 and containing only integers:\n",
            "[[1 2 3]\n",
            " [2 3 1]]\n"
          ]
        }
      ],
      "source": [
        "import numpy as np\n",
        "\n",
        "def is_multinomial_row(row, n):\n",
        "\n",
        "    return np.all(np.equal(np.mod(row, 1), 0)) and np.sum(row) == n\n",
        "\n",
        "def select_multinomial_rows(X, n):\n",
        "\n",
        "    mask = np.apply_along_axis(is_multinomial_row, 1, X, n)\n",
        "    selected_rows = X[mask]\n",
        "    return selected_rows\n",
        "\n",
        "X = np.array([[1, 2, 3],\n",
        "              [2, 3, 1],\n",
        "              [0, 5, 3],\n",
        "              [4, 1, 0]])\n",
        "\n",
        "n = 6\n",
        "\n",
        "selected_rows = select_multinomial_rows(X, n)\n",
        "\n",
        "print(\"Original Array:\")\n",
        "print(X)\n",
        "\n",
        "print(f\"\\nRows with sum equal to {n} and containing only integers:\")\n",
        "print(selected_rows)"
      ]
    },
    {
      "cell_type": "markdown",
      "id": "19721849",
      "metadata": {
        "id": "19721849"
      },
      "source": [
        "#### 100. Compute bootstrapped 95% confidence intervals for the mean of a 1D array X (i.e., resample the elements of an array with replacement N times, compute the mean of each sample, and then compute percentiles over the means). (★★★)"
      ]
    },
    {
      "cell_type": "code",
      "execution_count": null,
      "id": "87309c6f",
      "metadata": {
        "id": "87309c6f",
        "colab": {
          "base_uri": "https://localhost:8080/"
        },
        "outputId": "668f1bf1-4505-4678-c360-0c2e2cc8fbd0"
      },
      "outputs": [
        {
          "output_type": "stream",
          "name": "stdout",
          "text": [
            "Original Array:\n",
            "[ 1  2  3  4  5  6  7  8  9 10]\n",
            "\n",
            "95% Confidence Interval for the Mean: [3.7 7.3]\n"
          ]
        }
      ],
      "source": [
        "import numpy as np\n",
        "\n",
        "X = np.array([1, 2, 3, 4, 5, 6, 7, 8, 9, 10])\n",
        "\n",
        "N = 1000\n",
        "\n",
        "bootstrap_means = np.empty(N)\n",
        "\n",
        "for i in range(N):\n",
        "\n",
        "    bootstrap_sample = np.random.choice(X, size=len(X), replace=True)\n",
        "\n",
        "    bootstrap_means[i] = np.mean(bootstrap_sample)\n",
        "\n",
        "\n",
        "confidence_interval = np.percentile(bootstrap_means, [2.5, 97.5])\n",
        "\n",
        "print(\"Original Array:\")\n",
        "print(X)\n",
        "\n",
        "print(f\"\\n95% Confidence Interval for the Mean: {confidence_interval}\")"
      ]
    }
  ],
  "metadata": {
    "colab": {
      "provenance": [],
      "collapsed_sections": [
        "a6eaf0e8",
        "2d850aab"
      ],
      "include_colab_link": true
    },
    "language_info": {
      "name": "python"
    },
    "kernelspec": {
      "name": "python3",
      "display_name": "Python 3"
    }
  },
  "nbformat": 4,
  "nbformat_minor": 5
}