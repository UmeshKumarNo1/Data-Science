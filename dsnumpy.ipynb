{
  "nbformat": 4,
  "nbformat_minor": 0,
  "metadata": {
    "colab": {
      "provenance": [],
      "authorship_tag": "ABX9TyPzAceTH/S9pIX7dJrmWWQE",
      "include_colab_link": true
    },
    "kernelspec": {
      "name": "python3",
      "display_name": "Python 3"
    },
    "language_info": {
      "name": "python"
    }
  },
  "cells": [
    {
      "cell_type": "markdown",
      "metadata": {
        "id": "view-in-github",
        "colab_type": "text"
      },
      "source": [
        "<a href=\"https://colab.research.google.com/github/UmeshKumarNo1/Data-Science/blob/main/dsnumpy.ipynb\" target=\"_parent\"><img src=\"https://colab.research.google.com/assets/colab-badge.svg\" alt=\"Open In Colab\"/></a>"
      ]
    },
    {
      "cell_type": "markdown",
      "source": [
        "simple programs"
      ],
      "metadata": {
        "id": "tcwH9gg1PcMp"
      }
    },
    {
      "cell_type": "code",
      "source": [
        "import numpy as np\n",
        "\n",
        "arr = np.array([1, 2, 3, 4, 5])\n",
        "\n",
        "print(arr)"
      ],
      "metadata": {
        "id": "KcC4Z_IXtox4",
        "colab": {
          "base_uri": "https://localhost:8080/"
        },
        "outputId": "37890873-94bc-4f10-b7f3-5bd4158cd6c2"
      },
      "execution_count": null,
      "outputs": [
        {
          "output_type": "stream",
          "name": "stdout",
          "text": [
            "[1 2 3 4 5]\n"
          ]
        }
      ]
    },
    {
      "cell_type": "code",
      "source": [
        "import numpy as npnp\n",
        "\n",
        "arr = np.array([[1, 2, 3], [4, 5, 6]])\n",
        "\n",
        "print(arr[0])"
      ],
      "metadata": {
        "colab": {
          "base_uri": "https://localhost:8080/"
        },
        "id": "wsBnCYVWNyX-",
        "outputId": "ae99ec56-f760-40e6-b0f0-9cce72719c1c"
      },
      "execution_count": null,
      "outputs": [
        {
          "output_type": "stream",
          "name": "stdout",
          "text": [
            "[1 2 3]\n"
          ]
        }
      ]
    },
    {
      "cell_type": "code",
      "source": [
        "\n",
        "import numpy as np\n",
        "\n",
        "arr = np.array([[1,2,3,4,5], [6,7,8,9,10]])\n",
        "\n",
        "print('2nd element on 1st row: ', arr[0, 1])"
      ],
      "metadata": {
        "colab": {
          "base_uri": "https://localhost:8080/"
        },
        "id": "RIYiQpeZTDOe",
        "outputId": "6c2d141c-b077-4f53-d757-24aa0ed81b51"
      },
      "execution_count": null,
      "outputs": [
        {
          "output_type": "stream",
          "name": "stdout",
          "text": [
            "2nd element on 1st row:  2\n"
          ]
        }
      ]
    },
    {
      "cell_type": "code",
      "source": [
        "import numpy as np\n",
        "#indexing and slicing\n",
        "arr = np.array([1, 2, 3, 4, 5, 6, 7])\n",
        "\n",
        "print(arr[1:5])"
      ],
      "metadata": {
        "colab": {
          "base_uri": "https://localhost:8080/"
        },
        "id": "8p_umx2YU5vG",
        "outputId": "b1a2b9af-e8f3-4991-b804-2cd471a0eb61"
      },
      "execution_count": null,
      "outputs": [
        {
          "output_type": "stream",
          "name": "stdout",
          "text": [
            "[2 3 4 5]\n"
          ]
        }
      ]
    },
    {
      "cell_type": "code",
      "source": [
        "#sorting\n",
        "import numpy as np\n",
        "arr = np.array([2, 1, 5, 3, 7, 4, 6, 8])\n",
        "np.sort(arr)"
      ],
      "metadata": {
        "colab": {
          "base_uri": "https://localhost:8080/"
        },
        "id": "4UhJ4W53bD5P",
        "outputId": "d6f1adac-9033-4d67-d8c6-6a17aefd8e11"
      },
      "execution_count": null,
      "outputs": [
        {
          "output_type": "execute_result",
          "data": {
            "text/plain": [
              "array([1, 2, 3, 4, 5, 6, 7, 8])"
            ]
          },
          "metadata": {},
          "execution_count": 4
        }
      ]
    },
    {
      "cell_type": "code",
      "source": [
        "#concadenate\n",
        "import numpy as np\n",
        "a = np.array([1, 2, 3, 4])\n",
        "b = np.array([5, 6, 7, 8])\n",
        "np.concatenate((a, b))"
      ],
      "metadata": {
        "colab": {
          "base_uri": "https://localhost:8080/"
        },
        "id": "Y9GlOXwXbr-7",
        "outputId": "ed3b1a82-ae81-4d33-9a56-b8dde3732424"
      },
      "execution_count": null,
      "outputs": [
        {
          "output_type": "execute_result",
          "data": {
            "text/plain": [
              "array([1, 2, 3, 4, 5, 6, 7, 8])"
            ]
          },
          "metadata": {},
          "execution_count": 3
        }
      ]
    },
    {
      "cell_type": "code",
      "source": [
        "#creating arrays with zeros and ones\n",
        "import numpy as np\n",
        "arr2 = np.zeros((3, 3))\n",
        "arr3 = np.ones((2, 2))\n",
        "print(arr2)\n",
        "print(arr3)"
      ],
      "metadata": {
        "colab": {
          "base_uri": "https://localhost:8080/"
        },
        "id": "OqIaT7SvKu54",
        "outputId": "293603ec-f86f-4f2c-e1aa-14acb71e8dd0"
      },
      "execution_count": null,
      "outputs": [
        {
          "output_type": "stream",
          "name": "stdout",
          "text": [
            "[[0. 0. 0.]\n",
            " [0. 0. 0.]\n",
            " [0. 0. 0.]]\n",
            "[[1. 1.]\n",
            " [1. 1.]]\n"
          ]
        }
      ]
    },
    {
      "cell_type": "code",
      "source": [
        "#mathematical operation\n",
        "mat1 = np.array([[1, 2], [3, 4]])\n",
        "mat2 = np.array([[5, 6], [7, 8]])\n",
        "mat_product = np.dot(mat1, mat2)\n",
        "print(mat_product)"
      ],
      "metadata": {
        "colab": {
          "base_uri": "https://localhost:8080/"
        },
        "id": "QUCJd9DQMBZ6",
        "outputId": "0876bf32-076b-49f6-f659-3235d0cf7fcc"
      },
      "execution_count": null,
      "outputs": [
        {
          "output_type": "stream",
          "name": "stdout",
          "text": [
            "[[19 22]\n",
            " [43 50]]\n"
          ]
        }
      ]
    },
    {
      "cell_type": "code",
      "source": [
        "import numpy as np\n",
        "arr1 = np.array([1, 2, 3, 4, 5])\n",
        "arr2 = np.arange(0, 10, 2)\n",
        "arr3 = np.linspace(0, 1, 5)\n",
        "arr4 = np.random.rand(3, 3)\n",
        "print(\"arr1:\", arr1)\n",
        "print(\"arr2:\", arr2)\n",
        "print(\"arr3:\", arr3)\n",
        "print(\"arr4:\", arr4)"
      ],
      "metadata": {
        "colab": {
          "base_uri": "https://localhost:8080/"
        },
        "id": "KfP5ObgVaxdj",
        "outputId": "e7f5ec92-0da2-41ca-8a8d-71fab4d8da72"
      },
      "execution_count": null,
      "outputs": [
        {
          "output_type": "stream",
          "name": "stdout",
          "text": [
            "arr1: [1 2 3 4 5]\n",
            "arr2: [0 2 4 6 8]\n",
            "arr3: [0.   0.25 0.5  0.75 1.  ]\n",
            "arr4: [[0.43999363 0.90568837 0.89065736]\n",
            " [0.07301946 0.32671173 0.52457826]\n",
            " [0.81116828 0.55765506 0.52114372]]\n"
          ]
        }
      ]
    },
    {
      "cell_type": "code",
      "source": [
        "#NUMPY FUNCTIONS AND OPERATIONS"
      ],
      "metadata": {
        "id": "p_FLrkmRQNP7"
      },
      "execution_count": null,
      "outputs": []
    },
    {
      "cell_type": "code",
      "source": [
        "import numpy as np\n",
        "a=np.array([1,2,3])\n",
        "b=np.array([(1.5,2,3),(4,5,6)],dtype=float)\n",
        "c=np.array([[(1.5,2,3),(4,5,6)],[(3,2,1),(4,5,6)]],dtype=float)\n",
        "x=np.zeros((3,4))\n",
        "print(x)\n",
        "y=np.ones((2,3,4),dtype=np.int16)\n",
        "print(y)\n",
        "d=np.arange(10,25,5)\n",
        "print(d)\n",
        "w=np.linspace(0,2,9)\n",
        "print(w)\n",
        "e=np.full((2,2),7)\n",
        "print(e)\n",
        "f=np.eye(2)\n",
        "print(f)\n",
        "a1=np.random.random((2,2))\n",
        "print(a1)\n",
        "a2=np.empty((3,2))\n",
        "print(a2)\n",
        "x1=np.save('my_array',a)\n",
        "print(x1)\n",
        "x2=np.savez('array.npz',a,b)\n",
        "print(x2)\n",
        "x3=np.load('my_array.npy')\n",
        "print(x3)\n"
      ],
      "metadata": {
        "colab": {
          "base_uri": "https://localhost:8080/"
        },
        "id": "JAev1Bt3S_-T",
        "outputId": "76ddbeaf-4bf4-46aa-e6bc-85e42167774c"
      },
      "execution_count": null,
      "outputs": [
        {
          "output_type": "stream",
          "name": "stdout",
          "text": [
            "[[0. 0. 0. 0.]\n",
            " [0. 0. 0. 0.]\n",
            " [0. 0. 0. 0.]]\n",
            "[[[1 1 1 1]\n",
            "  [1 1 1 1]\n",
            "  [1 1 1 1]]\n",
            "\n",
            " [[1 1 1 1]\n",
            "  [1 1 1 1]\n",
            "  [1 1 1 1]]]\n",
            "[10 15 20]\n",
            "[0.   0.25 0.5  0.75 1.   1.25 1.5  1.75 2.  ]\n",
            "[[7 7]\n",
            " [7 7]]\n",
            "[[1. 0.]\n",
            " [0. 1.]]\n",
            "[[0.26678344 0.64518077]\n",
            " [0.7079414  0.12094809]]\n",
            "[[1.5 2. ]\n",
            " [3.  4. ]\n",
            " [5.  6. ]]\n",
            "None\n",
            "None\n",
            "[1 2 3]\n"
          ]
        }
      ]
    },
    {
      "cell_type": "code",
      "source": [
        "import numpy as np\n",
        "#creating arrays\n",
        "arr1 = np.array([1, 2, 3])  # Create an array\n",
        "print(arr1)\n",
        "arr2 = np.zeros((2, 3))\n",
        "print(arr2)\n",
        "arr3 = np.ones((3, 2))  # Create a 3x2 array of ones\n",
        "print(arr3)\n",
        "arr4 = np.arange(0, 10, 2)  # Create an array with values from 0 to 10 with step 2\n",
        "print(arr4)\n",
        "arr5 = np.linspace(0, 1, 5)  # Create an array with 5 evenly spaced values between 0 and 1\n",
        "print(arr5)\n",
        "arr6 = np.eye(3)  # Create a 3x3 identity matrix\n",
        "print(arr6)"
      ],
      "metadata": {
        "colab": {
          "base_uri": "https://localhost:8080/"
        },
        "id": "fvJBwzRtIlV-",
        "outputId": "167da7cd-1d10-486a-a074-1b27819dc8f7"
      },
      "execution_count": null,
      "outputs": [
        {
          "output_type": "stream",
          "name": "stdout",
          "text": [
            "[1 2 3]\n",
            "[[0. 0. 0.]\n",
            " [0. 0. 0.]]\n",
            "[[1. 1.]\n",
            " [1. 1.]\n",
            " [1. 1.]]\n",
            "[0 2 4 6 8]\n",
            "[0.   0.25 0.5  0.75 1.  ]\n",
            "[[1. 0. 0.]\n",
            " [0. 1. 0.]\n",
            " [0. 0. 1.]]\n"
          ]
        }
      ]
    },
    {
      "cell_type": "code",
      "source": [
        "import numpy as np\n",
        "#array operations\n",
        "# Element-wise addition\n",
        "array1 = np.array([1, 2, 3])\n",
        "array2 = np.array([4, 5, 6])\n",
        "sum_array = array1 + array2\n",
        "\n",
        "# Element-wise multiplication\n",
        "product_array = array1 * array2\n",
        "\n",
        "# Dot product of two arrays\n",
        "dot_product = np.dot(array1, array2)\n",
        "\n",
        "# Transposing a matrix\n",
        "matrix = np.array([[1, 2], [3, 4]])\n",
        "transposed_matrix = matrix.T\n"
      ],
      "metadata": {
        "id": "15N_6AvFJqcb"
      },
      "execution_count": null,
      "outputs": []
    },
    {
      "cell_type": "code",
      "source": [
        "#array indexing and slicing\n",
        "import numpy as np\n",
        "\n",
        "# Accessing elements\n",
        "array = np.array([[1, 2, 3], [4, 5, 6]])\n",
        "element = array[0, 1]  # Accessing the element in the first row and second column\n",
        "\n",
        "# Slicing\n",
        "sliced_array = array[:, 1]  # Selecting the second column\n"
      ],
      "metadata": {
        "id": "EwpjUSrwKJti"
      },
      "execution_count": null,
      "outputs": []
    },
    {
      "cell_type": "code",
      "source": [
        "#statistical operation\n",
        "import numpy as np\n",
        "\n",
        "# Mean and standard deviation\n",
        "data = np.array([1, 2, 3, 4, 5])\n",
        "mean_value = np.mean(data)\n",
        "std_deviation = np.std(data)\n",
        "\n",
        "# Sum of elements\n",
        "sum_of_elements = np.sum(data)\n"
      ],
      "metadata": {
        "id": "hYB4i5jRKDMX"
      },
      "execution_count": null,
      "outputs": []
    },
    {
      "cell_type": "code",
      "source": [
        "#reshaping arrays\n",
        "import numpy as np\n",
        "\n",
        "# Reshaping a 1D array to a 2D array\n",
        "array = np.array([1, 2, 3, 4, 5, 6])\n",
        "reshaped_array = array.reshape(2, 3)\n"
      ],
      "metadata": {
        "id": "vgbacKd8K02a"
      },
      "execution_count": null,
      "outputs": []
    },
    {
      "cell_type": "code",
      "source": [
        "#random number generation\n",
        "import numpy as np\n",
        "\n",
        "# Generate a random 1D array\n",
        "random_array = np.random.rand(5)\n",
        "\n",
        "# Generate a random 2D array\n",
        "random_matrix = np.random.rand(3, 4)\n"
      ],
      "metadata": {
        "id": "jYw8_3SSLLUq"
      },
      "execution_count": null,
      "outputs": []
    },
    {
      "cell_type": "code",
      "source": [
        "#element wise function\n",
        "import numpy as np\n",
        "\n",
        "# Applying a function element-wise\n",
        "array = np.array([1, 2, 3])\n",
        "squared_array = np.square(array)\n",
        "\n",
        "# Element-wise square root\n",
        "sqrt_array = np.sqrt(array);"
      ],
      "metadata": {
        "id": "2KL_dhUNLeQI"
      },
      "execution_count": null,
      "outputs": []
    },
    {
      "cell_type": "code",
      "source": [
        "#logical operation\n",
        "import numpy as np\n",
        "\n",
        "# Creating boolean arrays\n",
        "array1 = np.array([True, False, True])\n",
        "array2 = np.array([False, True, True])\n",
        "\n",
        "# Element-wise logical AND\n",
        "logical_and_result = np.logical_and(array1, array2)\n",
        "\n",
        "# Element-wise logical OR\n",
        "logical_or_result = np.logical_or(array1, array2)\n"
      ],
      "metadata": {
        "id": "8xIns_EEL50c"
      },
      "execution_count": null,
      "outputs": []
    },
    {
      "cell_type": "code",
      "source": [
        "#array concadenation\n",
        "import numpy as np\n",
        "\n",
        "# Concatenating arrays\n",
        "array1 = np.array([1, 2, 3])\n",
        "array2 = np.array([4, 5, 6])\n",
        "\n",
        "# Concatenate along rows\n",
        "concatenated_rows = np.concatenate((array1, array2))\n",
        "\n",
        "# Concatenate along columns\n",
        "concatenated_columns = np.vstack((array1, array2))\n"
      ],
      "metadata": {
        "id": "-AhZPKksMNHf"
      },
      "execution_count": null,
      "outputs": []
    },
    {
      "cell_type": "code",
      "source": [
        "#linear algebra operation\n",
        "import numpy as np\n",
        "\n",
        "# Matrix multiplication\n",
        "matrix1 = np.array([[1, 2], [3, 4]])\n",
        "matrix2 = np.array([[5, 6], [7, 8]])\n",
        "matrix_product = np.dot(matrix1, matrix2)\n",
        "\n",
        "# Eigenvalues and eigenvectors\n",
        "eigenvalues, eigenvectors = np.linalg.eig(matrix1)\n"
      ],
      "metadata": {
        "id": "ZQdU9fC5MZB2"
      },
      "execution_count": null,
      "outputs": []
    },
    {
      "cell_type": "code",
      "source": [
        "#array comparison\n",
        "import numpy as np\n",
        "\n",
        "# Array comparison\n",
        "array1 = np.array([1, 2, 3])\n",
        "array2 = np.array([1, 5, 3])\n",
        "\n",
        "# Element-wise comparison\n",
        "elementwise_comparison = array1 == array2\n",
        "\n",
        "# Check if all elements are equal\n",
        "all_equal = np.array_equal(array1, array2)\n"
      ],
      "metadata": {
        "id": "Wsw6y8sbMe2z"
      },
      "execution_count": null,
      "outputs": []
    },
    {
      "cell_type": "code",
      "source": [
        "#mathematical functions\n",
        "import numpy as np\n",
        "\n",
        "# Trigonometric functions\n",
        "sin_values = np.sin(np.array([0, np.pi/2, np.pi]))\n",
        "\n",
        "# Exponential and logarithmic functions\n",
        "exp_values = np.exp(np.array([1, 2, 3]))\n",
        "log_values = np.log(np.array([1, 2, 3]))\n"
      ],
      "metadata": {
        "id": "1kVw5i6IMlw7"
      },
      "execution_count": null,
      "outputs": []
    },
    {
      "cell_type": "code",
      "source": [
        "#array operation\n",
        "\n",
        "#element wise operation\n",
        "array1 = np.array([1, 2, 3])\n",
        "array2 = np.array([4, 5, 6])\n",
        "\n",
        "# Addition, subtraction, multiplication, division\n",
        "result_add = np.add(array1, array2)\n",
        "result_subtract = np.subtract(array1, array2)\n",
        "result_multiply = np.multiply(array1, array2)\n",
        "result_divide = np.divide(array1, array2)\n",
        "\n",
        "#dotproduct\n",
        "matrix1 = np.array([[1, 2], [3, 4]])\n",
        "matrix2 = np.array([[5, 6], [7, 8]])\n",
        "\n",
        "dot_product = np.dot(matrix1, matrix2)\n",
        "\n"
      ],
      "metadata": {
        "id": "0dPFkiJJOChm"
      },
      "execution_count": null,
      "outputs": []
    },
    {
      "cell_type": "code",
      "source": [
        "import numpy as np\n",
        "\n",
        "# Generating Random Data\n",
        "np.random.seed(42)  # Setting seed for reproducibility\n",
        "data = np.random.randint(0, 100, size=(3, 5))\n",
        "\n",
        "# Displaying the Original Data\n",
        "print(\"Original Data:\")\n",
        "print(data)\n",
        "\n",
        "# Statistical Analysis\n",
        "mean_value = np.mean(data)\n",
        "min_value = np.min(data)\n",
        "max_value = np.max(data)\n",
        "sum_values = np.sum(data, axis=1)  # Sum along each row\n",
        "\n",
        "print(\"\\nStatistical Analysis:\")\n",
        "print(\"Mean:\", mean_value)\n",
        "print(\"Min:\", min_value)\n",
        "print(\"Max:\", max_value)\n",
        "print(\"Sum along each row:\", sum_values)\n",
        "\n",
        "# Array Manipulation\n",
        "reshaped_data = np.reshape(data, (5, 3))\n",
        "transposed_data = np.transpose(data)\n",
        "\n",
        "print(\"\\nArray Manipulation:\")\n",
        "print(\"Reshaped Data:\")\n",
        "print(reshaped_data)\n",
        "print(\"\\nTransposed Data:\")\n",
        "print(transposed_data)\n",
        "\n",
        "# Boolean Indexing\n",
        "greater_than_50 = data[data > 50]\n",
        "\n",
        "print(\"\\nBoolean Indexing (Values greater than 50):\")\n",
        "print(greater_than_50)\n"
      ],
      "metadata": {
        "id": "JELE4f58Qh0g"
      },
      "execution_count": null,
      "outputs": []
    },
    {
      "cell_type": "code",
      "source": [
        "#I/O NUMPY PROGRAMS"
      ],
      "metadata": {
        "id": "49_kJsZzRkGr"
      },
      "execution_count": null,
      "outputs": []
    },
    {
      "cell_type": "code",
      "source": [
        "#SAVING AND LOADING ARRAYS\n",
        "import numpy as np\n",
        "\n",
        "# Creating an array\n",
        "data = np.array([[1, 2, 3], [4, 5, 6]])\n",
        "\n",
        "# Saving the array to a text file\n",
        "np.savetxt('data.txt', data\n"
      ],
      "metadata": {
        "id": "AJ6b_EJcRqgK"
      },
      "execution_count": null,
      "outputs": []
    },
    {
      "cell_type": "code",
      "source": [
        "#numpy programs with data types\n",
        "\n",
        "#Creating NumPy arrays with specified data types:\n",
        "\n",
        "import numpy as np\n",
        "\n",
        "# Creating an array of integers\n",
        "arr_int = np.array([1, 2, 3, 4], dtype=np.int32)\n",
        "print(\"Array of integers:\", arr_int)\n",
        "\n",
        "# Creating an array of floats\n",
        "arr_float = np.array([1.1, 2.2, 3.3, 4.4], dtype=np.float64)\n",
        "print(\"Array of floats:\", arr_float)\n",
        "\n",
        "# Creating an array of complex numbers\n",
        "arr_complex = np.array([1 + 2j, 3 + 4j], dtype=np.complex128)\n",
        "print(\"Array of complex numbers:\", arr_complex)\n",
        "\n",
        "\n",
        "\n",
        "#Changing data type of an existing array:\n",
        "\n",
        "\n",
        "# Creating an array of integers\n",
        "arr_int = np.array([1, 2, 3, 4])\n",
        "print(\"Original array:\", arr_int)\n",
        "\n",
        "# Changing data type to float\n",
        "arr_float = arr_int.astype(np.float64)\n",
        "print(\"Array with float data type:\", arr_float)\n",
        "\n",
        "\n",
        "\n",
        "#Performing operations with different data types:\n",
        "\n",
        "# Creating arrays of different data types\n",
        "arr_int = np.array([1, 2, 3, 4], dtype=np.int32)\n",
        "arr_float = np.array([1.1, 2.2, 3.3, 4.4], dtype=np.float64)\n",
        "\n",
        "# Adding arrays of different data types\n",
        "result = arr_int + arr_float\n",
        "print(\"Result of addition:\", result)\n",
        "\n"
      ],
      "metadata": {
        "id": "uBR9k50tR6hO"
      },
      "execution_count": null,
      "outputs": []
    },
    {
      "cell_type": "markdown",
      "source": [
        "inspecting your array"
      ],
      "metadata": {
        "id": "WZal6vsTUb26"
      }
    },
    {
      "cell_type": "code",
      "source": [
        "#Array Shape and Dimensions:\n",
        "import numpy as np\n",
        "\n",
        "# Creating a 2D array\n",
        "arr_2d = np.array([[1, 2, 3], [4, 5, 6]])\n",
        "print(\"Array:\")\n",
        "print(arr_2d)\n",
        "\n",
        "# Get array shape\n",
        "print(\"Shape of the array:\", arr_2d.shape)\n",
        "\n",
        "# Get number of dimensions\n",
        "print(\"Number of dimensions:\", arr_2d.ndim)\n",
        "\n",
        "# Get number of elements in the array\n",
        "print(\"Number of elements:\", arr_2d.size)\n"
      ],
      "metadata": {
        "id": "o7H2xsWBT_Wv"
      },
      "execution_count": null,
      "outputs": []
    },
    {
      "cell_type": "code",
      "source": [
        "#array data type\n",
        "# Get data type of array\n",
        "print(\"Data type of the array:\", arr_2d.dtype)\n"
      ],
      "metadata": {
        "id": "qb2pIcKkUwh1"
      },
      "execution_count": null,
      "outputs": []
    },
    {
      "cell_type": "code",
      "source": [
        "#array statistics\n",
        "\n",
        "# Get minimum and maximum values\n",
        "print(\"Minimum value:\", np.min(arr_2d))\n",
        "print(\"Maximum value:\", np.max(arr_2d))\n",
        "\n",
        "# Get mean, median, and standard deviation\n",
        "print(\"Mean:\", np.mean(arr_2d))\n",
        "print(\"Median:\", np.median(arr_2d))\n",
        "print(\"Standard Deviation:\", np.std(arr_2d))\n"
      ],
      "metadata": {
        "id": "wbaWOnCPU3_L"
      },
      "execution_count": null,
      "outputs": []
    },
    {
      "cell_type": "markdown",
      "source": [
        "array mathematics"
      ],
      "metadata": {
        "id": "k9esODnMVtMh"
      }
    },
    {
      "cell_type": "code",
      "source": [
        "#element wise operation\n",
        "import numpy as np\n",
        "\n",
        "# Creating two arrays\n",
        "arr1 = np.array([[1, 2, 3], [4, 5, 6]])\n",
        "arr2 = np.array([[7, 8, 9], [10, 11, 12]])\n",
        "\n",
        "# Element-wise addition\n",
        "result_add = arr1 + arr2\n",
        "print(\"Element-wise addition:\")\n",
        "print(result_add)\n",
        "\n",
        "# Element-wise subtraction\n",
        "result_sub = arr1 - arr2\n",
        "print(\"Element-wise subtraction:\")\n",
        "print(result_sub)\n",
        "\n",
        "# Element-wise multiplication\n",
        "result_mul = arr1 * arr2\n",
        "print(\"Element-wise multiplication:\")\n",
        "print(result_mul)\n",
        "\n",
        "# Element-wise division\n",
        "result_div = arr1 / arr2\n",
        "print(\"Element-wise division:\")\n",
        "print(result_div)\n"
      ],
      "metadata": {
        "id": "T85RJIZ4VxNo"
      },
      "execution_count": null,
      "outputs": []
    },
    {
      "cell_type": "code",
      "source": [
        "#basic operations\n",
        "# Sum of all elements in the array\n",
        "sum_arr = np.sum(arr1)\n",
        "print(\"Sum of all elements:\", sum_arr)\n",
        "\n",
        "# Mean of all elements in the array\n",
        "mean_arr = np.mean(arr1)\n",
        "print(\"Mean of all elements:\", mean_arr)\n",
        "\n",
        "# Element-wise square root\n",
        "sqrt_arr = np.sqrt(arr1)\n",
        "print(\"Square root of elements:\")\n",
        "print(sqrt_arr)\n"
      ],
      "metadata": {
        "id": "ZVknrbhPWyDX"
      },
      "execution_count": null,
      "outputs": []
    },
    {
      "cell_type": "code",
      "source": [
        "#matrix operation\n",
        "# Matrix multiplication (dot product)\n",
        "mat_mul = np.dot(arr1, arr2.T)  # Transpose of arr2 to make the dimensions compatible\n",
        "print(\"Matrix multiplication (dot product):\")\n",
        "print(mat_mul)\n",
        "\n",
        "# Determinant of a matrix\n",
        "det_arr1 = np.linalg.det(arr1)\n",
        "print(\"Determinant of arr1:\", det_arr1)\n",
        "\n",
        "# Inverse of a matrix\n",
        "inv_arr1 = np.linalg.inv(arr1)\n",
        "print(\"Inverse of arr1:\")\n",
        "print(inv_arr1)\n",
        "\n"
      ],
      "metadata": {
        "id": "GPc8OWVcW9LP"
      },
      "execution_count": null,
      "outputs": []
    },
    {
      "cell_type": "code",
      "source": [
        "#statistical operations\n",
        "# Computing the mean along a specified axis\n",
        "mean_axis0 = np.mean(arr1, axis=0)\n",
        "print(\"Mean along axis 0:\")\n",
        "print(mean_axis0)\n",
        "\n",
        "# Computing the standard deviation along a specified axis\n",
        "std_axis1 = np.std(arr1, axis=1)\n",
        "print(\"Standard deviation along axis 1:\")\n",
        "print(std_axis1)\n"
      ],
      "metadata": {
        "id": "f1czCD1iXIW-"
      },
      "execution_count": null,
      "outputs": []
    },
    {
      "cell_type": "markdown",
      "source": [
        "Aggregate function"
      ],
      "metadata": {
        "id": "C0zxsLTIZDb1"
      }
    },
    {
      "cell_type": "code",
      "source": [
        "#sum\n",
        "\n",
        "# Computing the mean along a specified axis\n",
        "mean_axis0 = np.mean(arr1, axis=0)\n",
        "print(\"Mean along axis 0:\")\n",
        "print(mean_axis0)\n",
        "\n",
        "# Computing the standard deviation along a specified axis\n",
        "std_axis1 = np.std(arr1, axis=1)\n",
        "print(\"Standard deviation along axis 1:\")\n",
        "print(std_axis1)\n"
      ],
      "metadata": {
        "id": "leLZz0HEXSNq"
      },
      "execution_count": null,
      "outputs": []
    },
    {
      "cell_type": "code",
      "source": [
        "# Mean of all elements in the array\n",
        "mean_value = np.mean(arr)\n",
        "print(\"Mean of all elements:\", mean_value)\n",
        "\n",
        "# Mean along a specific axis\n",
        "mean_axis0 = np.mean(arr, axis=0)\n",
        "print(\"Mean along axis 0:\", mean_axis0)\n",
        "\n",
        "mean_axis1 = np.mean(arr, axis=1)\n",
        "print(\"Mean along axis 1:\", mean_axis1)\n"
      ],
      "metadata": {
        "id": "-nTRi7nQZO6w"
      },
      "execution_count": null,
      "outputs": []
    },
    {
      "cell_type": "code",
      "source": [
        "# Minimum and maximum values in the array\n",
        "min_value = np.min(arr)\n",
        "max_value = np.max(arr)\n",
        "print(\"Minimum value:\", min_value)\n",
        "print(\"Maximum value:\", max_value)\n",
        "\n",
        "# Minimum and maximum along a specific axis\n",
        "min_axis0 = np.min(arr, axis=0)\n",
        "max_axis1 = np.max(arr, axis=1)\n",
        "print(\"Minimum along axis 0:\", min_axis0)\n",
        "print(\"Maximum along axis 1:\", max_axis1)\n"
      ],
      "metadata": {
        "id": "6WoYNmBEZTB8"
      },
      "execution_count": null,
      "outputs": []
    },
    {
      "cell_type": "code",
      "source": [
        "# Median of all elements in the array\n",
        "median_value = np.median(arr)\n",
        "print(\"Median of all elements:\", median_value)\n",
        "\n",
        "# Median along a specific axis\n",
        "median_axis0 = np.median(arr, axis=0)\n",
        "print(\"Median along axis 0:\", median_axis0)\n",
        "\n",
        "median_axis1 = np.median(arr, axis=1)\n",
        "print(\"Median along axis\n"
      ],
      "metadata": {
        "id": "OKMQd1EXZVUd"
      },
      "execution_count": null,
      "outputs": []
    },
    {
      "cell_type": "code",
      "source": [
        "# Standard deviation of all elements in the array\n",
        "std_deviation = np.std(arr)\n",
        "print(\"Standard deviation of all elements:\", std_deviation)\n",
        "\n",
        "# Standard deviation along a specific axis\n",
        "std_deviation\n"
      ],
      "metadata": {
        "id": "odlk7e8QZZtL"
      },
      "execution_count": null,
      "outputs": []
    },
    {
      "cell_type": "markdown",
      "source": [
        "copying arrays"
      ],
      "metadata": {
        "id": "hopE5vzBaRco"
      }
    },
    {
      "cell_type": "code",
      "source": [
        "#shallow copy\n",
        "import numpy as np\n",
        "\n",
        "# Creating an array\n",
        "arr_original = np.array([1, 2, 3, 4, 5])\n",
        "\n",
        "# Creating a shallow copy\n",
        "arr_shallow_copy = arr_original.view()\n",
        "\n",
        "# Modifying the copy\n",
        "arr_shallow_copy[0] = 99\n",
        "\n",
        "# Both arrays are affected\n",
        "print(\"Original array:\", arr_original)\n",
        "print(\"Shallow copy:\", arr_shallow_copy)\n"
      ],
      "metadata": {
        "id": "sb7XOUjLaB2H"
      },
      "execution_count": null,
      "outputs": []
    },
    {
      "cell_type": "code",
      "source": [
        "#deep copy\n",
        "import numpy as np\n",
        "\n",
        "# Creating an array\n",
        "arr_original = np.array([1, 2, 3, 4, 5])\n",
        "\n",
        "# Creating a deep copy\n",
        "arr_deep_copy = arr_original.copy()\n",
        "\n",
        "# Modifying the copy\n",
        "arr_deep_copy[0] = 99\n",
        "\n",
        "# Only the copy is affected\n",
        "print(\"Original array:\", arr_original)\n",
        "print(\"Deep copy:\", arr_deep_copy)\n"
      ],
      "metadata": {
        "id": "cdJwUZxBZZ7X"
      },
      "execution_count": null,
      "outputs": []
    },
    {
      "cell_type": "markdown",
      "source": [
        "sorting   arrays"
      ],
      "metadata": {
        "id": "YC9xWwjMbIVA"
      }
    },
    {
      "cell_type": "code",
      "source": [
        "#sorting along axis\n",
        "import numpy as np\n",
        "\n",
        "# Creating an array\n",
        "arr = np.array([[3, 2, 1], [6, 5, 4]])\n",
        "\n",
        "# Sorting along the last axis (axis=-1)\n",
        "arr_sorted = np.sort(arr, axis=-1)\n",
        "\n",
        "print(\"Original array:\")\n",
        "print(arr)\n",
        "print(\"\\nSorted array along the last axis:\")\n",
        "print(arr_sorted)\n"
      ],
      "metadata": {
        "id": "IfRtIUnibHCW"
      },
      "execution_count": null,
      "outputs": []
    },
    {
      "cell_type": "code",
      "source": [
        "#sorting with indices\n",
        "import numpy as np\n",
        "\n",
        "# Creating an array\n",
        "arr = np.array([3, 1, 2])\n",
        "\n",
        "# Getting indices that would sort the array\n",
        "indices = np.argsort(arr)\n",
        "\n",
        "print(\"Original array:\")\n",
        "print(arr)\n",
        "print(\"\\nIndices for sorting:\")\n",
        "print(indices)\n"
      ],
      "metadata": {
        "id": "Vc9ksPBvbvv2"
      },
      "execution_count": null,
      "outputs": []
    },
    {
      "cell_type": "code",
      "source": [
        "#sorting in place\n",
        "import numpy as np\n",
        "\n",
        "# Creating an array\n",
        "arr = np.array([3, 1, 2])\n",
        "\n",
        "# Sorting the array in place\n",
        "arr.sort()\n",
        "\n",
        "print(\"Sorted array in place:\")\n",
        "print(arr)\n"
      ],
      "metadata": {
        "id": "ImUxYe_Yb4Es"
      },
      "execution_count": null,
      "outputs": []
    },
    {
      "cell_type": "code",
      "source": [
        "#sorting with structured arrays\n",
        "import numpy as np\n",
        "\n",
        "# Creating a structured array\n",
        "dtype = [('name', 'S10'), ('age', int), ('height', float)]\n",
        "data = [('Alice', 25, 5.6), ('Bob', 30, 5.9), ('Charlie', 22, 5.8)]\n",
        "arr = np.array(data, dtype=dtype)\n",
        "\n",
        "# Sorting the structured array based on the 'age' field\n",
        "arr_sorted = np.sort(arr, order='age')\n",
        "\n",
        "print(\"Original structured array:\")\n",
        "print(arr)\n",
        "print(\"\\nSorted structured array based on age:\")\n",
        "print(arr_sorted)\n"
      ],
      "metadata": {
        "id": "SahUJnPacK-f"
      },
      "execution_count": null,
      "outputs": []
    },
    {
      "cell_type": "markdown",
      "source": [
        "subsetting,slicing,indexing"
      ],
      "metadata": {
        "id": "uDsejI-Icx4J"
      }
    },
    {
      "cell_type": "code",
      "source": [
        "#indexing\n",
        "import numpy as np\n",
        "\n",
        "# Creating a 2D array\n",
        "arr_2d = np.array([[1, 2, 3], [4, 5, 6], [7, 8, 9]])\n",
        "\n",
        "# Accessing a single element\n",
        "element = arr_2d[1, 2]\n",
        "print(\"Element at index (1, 2):\", element)\n"
      ],
      "metadata": {
        "colab": {
          "base_uri": "https://localhost:8080/"
        },
        "id": "Fd1vBXStcSix",
        "outputId": "0781d312-014f-4db8-c395-ed87aa6c85b4"
      },
      "execution_count": null,
      "outputs": [
        {
          "output_type": "stream",
          "name": "stdout",
          "text": [
            "Element at index (1, 2): 6\n"
          ]
        }
      ]
    },
    {
      "cell_type": "code",
      "source": [
        "#slicing\n",
        "# Slicing a 2D array\n",
        "slice_2d = arr_2d[0:2, 1:3]\n",
        "print(\"Sliced 2D array:\")\n",
        "print(slice_2d)\n"
      ],
      "metadata": {
        "id": "EIK0aFxzdHtn"
      },
      "execution_count": null,
      "outputs": []
    },
    {
      "cell_type": "code",
      "source": [
        "# Boolean indexing\n",
        "bool_index = arr_2d[arr_2d > 5]\n",
        "print(\"Elements greater than 5:\")\n",
        "print(bool_index)\n"
      ],
      "metadata": {
        "id": "XTsnE5_jdQBU"
      },
      "execution_count": null,
      "outputs": []
    },
    {
      "cell_type": "code",
      "source": [
        "# Integer array indexing\n",
        "indices = np.array([0, 2])\n",
        "selected_rows = arr_2d[indices, :]\n",
        "print(\"Selected rows using integer array indexing:\")\n",
        "print(selected_rows)\n"
      ],
      "metadata": {
        "id": "faC8lyS8dRFG"
      },
      "execution_count": null,
      "outputs": []
    },
    {
      "cell_type": "code",
      "source": [
        "# Modifying a slice of the array\n",
        "arr_2d[1:, 1:] = 0\n",
        "print(\"Modified array:\")\n",
        "print(arr_2d)\n"
      ],
      "metadata": {
        "id": "2mwy0R2SdTeH"
      },
      "execution_count": null,
      "outputs": []
    },
    {
      "cell_type": "code",
      "source": [
        "# Subsetting a 1D array\n",
        "arr_1d = np.array([10, 20, 30, 40, 50])\n",
        "subset = arr_1d[arr_1d > 20]\n",
        "print(\"Subset of 1D array where elements are greater than 20:\")\n",
        "print(subset)\n"
      ],
      "metadata": {
        "id": "wuH12gLBdagO"
      },
      "execution_count": null,
      "outputs": []
    },
    {
      "cell_type": "markdown",
      "source": [
        "Array manipulation"
      ],
      "metadata": {
        "id": "SnV-YLXgdcGS"
      }
    },
    {
      "cell_type": "code",
      "source": [
        "#Reshaping:Changing the shape of an array.\n",
        "import numpy as np\n",
        "\n",
        "# Creating a 1D array\n",
        "arr = np.array([1, 2, 3, 4, 5, 6])\n",
        "\n",
        "# Reshaping to a 2D array\n",
        "arr_reshaped = arr.reshape(2, 3)\n",
        "print(\"Original array:\")\n",
        "print(arr)\n",
        "print(\"\\nReshaped array:\")\n",
        "print(arr_reshaped)\n"
      ],
      "metadata": {
        "id": "dQdhU4bvdhR6"
      },
      "execution_count": null,
      "outputs": []
    },
    {
      "cell_type": "code",
      "source": [
        "#flattening\n",
        "# Flattening a 2D array\n",
        "arr_flattened = arr_reshaped.flatten()\n",
        "print(\"Flattened array:\")\n",
        "print(arr_flattened)\n"
      ],
      "metadata": {
        "id": "n6BAmxCYeHGv"
      },
      "execution_count": null,
      "outputs": []
    },
    {
      "cell_type": "code",
      "source": [
        "#concatenation\n",
        "# Creating two arrays\n",
        "arr1 = np.array([[1, 2], [3, 4]])\n",
        "arr2 = np.array([[5, 6]])\n",
        "\n",
        "# Concatenating along axis 0 (rows)\n",
        "arr_concatenated = np.concatenate((arr1, arr2\n"
      ],
      "metadata": {
        "id": "hGp6wtlRePHd"
      },
      "execution_count": null,
      "outputs": []
    },
    {
      "cell_type": "code",
      "source": [
        "# Stacking arrays vertically\n",
        "arr_stacked = np.vstack((arr1, arr2))\n",
        "print(\"Vertically stacked array:\")\n",
        "print(arr_stacked)\n"
      ],
      "metadata": {
        "id": "ioe6jCoCed7_"
      },
      "execution_count": null,
      "outputs": []
    },
    {
      "cell_type": "code",
      "source": [
        "# Splitting an array horizontally\n",
        "arr_split = np.hsplit(arr_reshaped, 3)\n",
        "print(\"Horizontally split arrays:\")\n",
        "for a in arr_split:\n",
        "    print(a)\n"
      ],
      "metadata": {
        "id": "waCAN4geenpx"
      },
      "execution_count": null,
      "outputs": []
    },
    {
      "cell_type": "code",
      "source": [
        "#transposing\n",
        "# Transposing a 2D array\n",
        "arr_transposed = arr_reshaped.T\n",
        "print(\"Original array:\")\n",
        "print(arr_reshaped)\n",
        "print(\"\\nTransposed array:\")\n",
        "print(arr_transposed)\n"
      ],
      "metadata": {
        "id": "aUYygl95etDs"
      },
      "execution_count": null,
      "outputs": []
    }
  ]
}